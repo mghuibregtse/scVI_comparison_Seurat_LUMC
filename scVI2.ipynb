{
 "cells": [
  {
   "cell_type": "markdown",
   "metadata": {},
   "source": [
    "# Deep Learning approach for single-cell RNA-seq data analysis"
   ]
  },
  {
   "cell_type": "code",
   "execution_count": 19,
   "metadata": {
    "collapsed": false,
    "jupyter": {
     "outputs_hidden": false
    },
    "ExecuteTime": {
     "end_time": "2023-11-20T16:33:00.575141Z",
     "start_time": "2023-11-20T16:33:00.541585Z"
    }
   },
   "outputs": [
    {
     "name": "stderr",
     "output_type": "stream",
     "text": [
      "Global seed set to 0\n"
     ]
    }
   ],
   "source": [
    "import os\n",
    "import time\n",
    "import warnings\n",
    "import scanpy as sc\n",
    "import anndata\n",
    "import scvi\n",
    "import torch\n",
    "import pandas as pd\n",
    "import numpy as np\n",
    "import ray\n",
    "from ray import tune\n",
    "from scvi import autotune\n",
    "\n",
    "start_time = time.time()\n",
    "\n",
    "scvi.settings.seed = 0\n",
    "scvi.settings._dl_pin_memory_gpu_training = 20000\n",
    "\n",
    "sc.set_figure_params(figsize=(5, 5))\n",
    "warnings.simplefilter(action='ignore', category=UserWarning)\n",
    "warnings.simplefilter(action='ignore', category=FutureWarning)\n",
    "\n",
    "device = torch.device(\"cuda:0\" if torch.cuda.is_available() else \"cpu\")\n",
    "tensor_high_precision = torch.tensor([1.0, 2.0, 3.0], dtype=torch.float64, device=device)\n",
    "torch.set_float32_matmul_precision('high')\n",
    "\n",
    "save_dir = os.getcwd()"
   ]
  },
  {
   "cell_type": "code",
   "execution_count": 2,
   "metadata": {
    "collapsed": false,
    "jupyter": {
     "outputs_hidden": false
    },
    "ExecuteTime": {
     "end_time": "2023-11-20T16:31:45.680427Z",
     "start_time": "2023-11-20T16:31:45.669916Z"
    }
   },
   "outputs": [
    {
     "name": "stdout",
     "output_type": "stream",
     "text": [
      "Used versions:\n",
      "scvi-tools version: 1.0.3\n",
      "scanpy version: 1.9.5\n",
      "torch version: 2.0.1\n",
      "pandas version: 1.5.3\n",
      "numpy version: 1.23.5\n",
      "Save dir: /Users/sayedjm/Documents/Bio-informatica/Studiejaar 3/Bpexa/workflow\n"
     ]
    }
   ],
   "source": [
    "print(\"Used versions:\")\n",
    "print(\"scvi-tools version:\", scvi.__version__)\n",
    "print(\"scanpy version:\", sc.__version__)\n",
    "print(\"torch version:\", torch.__version__)\n",
    "print(\"pandas version:\", pd.__version__)\n",
    "print(\"numpy version:\", np.__version__)\n",
    "print(\"Save dir:\", save_dir)"
   ]
  },
  {
   "cell_type": "code",
   "execution_count": 3,
   "metadata": {
    "collapsed": false,
    "jupyter": {
     "outputs_hidden": false
    },
    "ExecuteTime": {
     "end_time": "2023-11-20T16:31:50.617973Z",
     "start_time": "2023-11-20T16:31:45.681268Z"
    }
   },
   "outputs": [],
   "source": [
    "data_0h_A = sc.read_10x_h5(\"data/0h_A_raw_feature_bc_matrix.h5\")\n",
    "data_0h_B = sc.read_10x_h5(\"data/0h_B_raw_feature_bc_matrix.h5\")\n",
    "data_48h = sc.read_10x_h5(\"data/48h_raw_feature_bc_matrix.h5\")\n",
    "data_120h = sc.read_10x_h5(\"data/120h_raw_feature_bc_matrix.h5\")"
   ]
  },
  {
   "cell_type": "code",
   "execution_count": 4,
   "metadata": {
    "collapsed": false,
    "jupyter": {
     "outputs_hidden": false
    },
    "ExecuteTime": {
     "end_time": "2023-11-20T16:31:50.622739Z",
     "start_time": "2023-11-20T16:31:50.619343Z"
    }
   },
   "outputs": [],
   "source": [
    "data_0h_A.obs['run'] = \"0h_A\"\n",
    "data_0h_B.obs['run'] = \"0h_B\"\n",
    "data_48h.obs['run'] = \"48h\"\n",
    "data_120h.obs['run'] = \"120h\""
   ]
  },
  {
   "cell_type": "code",
   "execution_count": 5,
   "metadata": {
    "collapsed": false,
    "jupyter": {
     "outputs_hidden": false
    },
    "ExecuteTime": {
     "end_time": "2023-11-20T16:31:51.218739Z",
     "start_time": "2023-11-20T16:31:50.624324Z"
    }
   },
   "outputs": [],
   "source": [
    "sc.pp.filter_genes(data_0h_A, min_cells=3)\n",
    "sc.pp.filter_genes(data_0h_B, min_cells=3)\n",
    "sc.pp.filter_genes(data_48h, min_cells=3)\n",
    "sc.pp.filter_genes(data_120h, min_cells=3)"
   ]
  },
  {
   "cell_type": "code",
   "execution_count": 6,
   "metadata": {
    "collapsed": false,
    "jupyter": {
     "outputs_hidden": false
    },
    "ExecuteTime": {
     "end_time": "2023-11-20T16:31:51.487748Z",
     "start_time": "2023-11-20T16:31:51.217603Z"
    }
   },
   "outputs": [],
   "source": [
    "sc.pp.filter_cells(data_0h_A, min_counts=200)\n",
    "sc.pp.filter_cells(data_0h_B, min_counts=200)\n",
    "sc.pp.filter_cells(data_48h, min_counts=200)\n",
    "sc.pp.filter_cells(data_120h, min_counts=200)"
   ]
  },
  {
   "cell_type": "code",
   "execution_count": 7,
   "metadata": {
    "collapsed": false,
    "jupyter": {
     "outputs_hidden": false
    },
    "ExecuteTime": {
     "end_time": "2023-11-20T16:31:51.520468Z",
     "start_time": "2023-11-20T16:31:51.507681Z"
    }
   },
   "outputs": [],
   "source": [
    "data_0h_A.var_names_make_unique()\n",
    "data_0h_B.var_names_make_unique()\n",
    "data_48h.var_names_make_unique()\n",
    "data_120h.var_names_make_unique()"
   ]
  },
  {
   "cell_type": "code",
   "execution_count": 8,
   "metadata": {
    "collapsed": false,
    "jupyter": {
     "outputs_hidden": false
    },
    "ExecuteTime": {
     "end_time": "2023-11-20T16:31:52.238707Z",
     "start_time": "2023-11-20T16:31:51.520894Z"
    }
   },
   "outputs": [],
   "source": [
    "data_list = [data_0h_A, data_0h_B, data_48h, data_120h]\n",
    "keys = ['batch_2_A', 'batch_2_B', 'batch_1_sample_48H', 'batch_1_sample_120H']\n",
    "for data, key in zip(data_list, keys):\n",
    "    data.obs_names = key + '_' + data.obs_names\n",
    "\n",
    "adata = anndata.concat(data_list, join=\"outer\")"
   ]
  },
  {
   "cell_type": "code",
   "execution_count": 9,
   "metadata": {
    "collapsed": false,
    "jupyter": {
     "outputs_hidden": false
    },
    "ExecuteTime": {
     "end_time": "2023-11-20T16:31:52.255040Z",
     "start_time": "2023-11-20T16:31:52.239957Z"
    }
   },
   "outputs": [],
   "source": [
    "sample_names = pd.read_table(\"data/sample_name_full_dataset.tsv\")\n",
    "sample_names.rename(columns={'Unnamed: 0': 'Sample', 'sample_name': 'Batch'}, inplace=True)\n",
    "sample_names.set_index('Sample', inplace=True)\n",
    "adata.obs['batch'] = adata.obs_names.map(sample_names['Batch'])"
   ]
  },
  {
   "cell_type": "code",
   "execution_count": 10,
   "metadata": {
    "collapsed": false,
    "jupyter": {
     "outputs_hidden": false
    },
    "ExecuteTime": {
     "end_time": "2023-11-20T16:31:53.095382Z",
     "start_time": "2023-11-20T16:31:52.265627Z"
    }
   },
   "outputs": [],
   "source": [
    "adata.var[\"mt\"] = adata.var_names.str.startswith(\"MT-\")\n",
    "sc.pp.calculate_qc_metrics(adata, qc_vars=[\"mt\"], percent_top= None, log1p=False, inplace=True)"
   ]
  },
  {
   "cell_type": "code",
   "execution_count": 11,
   "metadata": {
    "ExecuteTime": {
     "end_time": "2023-11-20T16:31:53.131543Z",
     "start_time": "2023-11-20T16:31:53.099546Z"
    }
   },
   "outputs": [
    {
     "data": {
      "text/plain": "                               run  n_counts        batch  n_genes_by_counts  \\\nbatch_2_A_AAACCCAAGGTAATCA-1  0h_A   48806.0    iPSC_99_4               6892   \nbatch_2_A_AAACCCAAGGTACCTT-1  0h_A   42383.0  iPSC_20_6_4               6574   \nbatch_2_A_AAACCCAGTCGTTCAA-1  0h_A   15016.0    iPSC_54_3               3975   \nbatch_2_A_AAACCCATCACAGTGT-1  0h_A   37052.0    iPSC_72_1               6262   \nbatch_2_A_AAACCCATCCCTCTCC-1  0h_A    2387.0    iPSC_72_1                374   \n\n                              total_counts  total_counts_mt  pct_counts_mt  \nbatch_2_A_AAACCCAAGGTAATCA-1       48806.0           2494.0       5.110028  \nbatch_2_A_AAACCCAAGGTACCTT-1       42383.0           2371.0       5.594224  \nbatch_2_A_AAACCCAGTCGTTCAA-1       15016.0            881.0       5.867075  \nbatch_2_A_AAACCCATCACAGTGT-1       37052.0           1978.0       5.338443  \nbatch_2_A_AAACCCATCCCTCTCC-1        2387.0           1977.0      82.823631  ",
      "text/html": "<div>\n<style scoped>\n    .dataframe tbody tr th:only-of-type {\n        vertical-align: middle;\n    }\n\n    .dataframe tbody tr th {\n        vertical-align: top;\n    }\n\n    .dataframe thead th {\n        text-align: right;\n    }\n</style>\n<table border=\"1\" class=\"dataframe\">\n  <thead>\n    <tr style=\"text-align: right;\">\n      <th></th>\n      <th>run</th>\n      <th>n_counts</th>\n      <th>batch</th>\n      <th>n_genes_by_counts</th>\n      <th>total_counts</th>\n      <th>total_counts_mt</th>\n      <th>pct_counts_mt</th>\n    </tr>\n  </thead>\n  <tbody>\n    <tr>\n      <th>batch_2_A_AAACCCAAGGTAATCA-1</th>\n      <td>0h_A</td>\n      <td>48806.0</td>\n      <td>iPSC_99_4</td>\n      <td>6892</td>\n      <td>48806.0</td>\n      <td>2494.0</td>\n      <td>5.110028</td>\n    </tr>\n    <tr>\n      <th>batch_2_A_AAACCCAAGGTACCTT-1</th>\n      <td>0h_A</td>\n      <td>42383.0</td>\n      <td>iPSC_20_6_4</td>\n      <td>6574</td>\n      <td>42383.0</td>\n      <td>2371.0</td>\n      <td>5.594224</td>\n    </tr>\n    <tr>\n      <th>batch_2_A_AAACCCAGTCGTTCAA-1</th>\n      <td>0h_A</td>\n      <td>15016.0</td>\n      <td>iPSC_54_3</td>\n      <td>3975</td>\n      <td>15016.0</td>\n      <td>881.0</td>\n      <td>5.867075</td>\n    </tr>\n    <tr>\n      <th>batch_2_A_AAACCCATCACAGTGT-1</th>\n      <td>0h_A</td>\n      <td>37052.0</td>\n      <td>iPSC_72_1</td>\n      <td>6262</td>\n      <td>37052.0</td>\n      <td>1978.0</td>\n      <td>5.338443</td>\n    </tr>\n    <tr>\n      <th>batch_2_A_AAACCCATCCCTCTCC-1</th>\n      <td>0h_A</td>\n      <td>2387.0</td>\n      <td>iPSC_72_1</td>\n      <td>374</td>\n      <td>2387.0</td>\n      <td>1977.0</td>\n      <td>82.823631</td>\n    </tr>\n  </tbody>\n</table>\n</div>"
     },
     "execution_count": 11,
     "metadata": {},
     "output_type": "execute_result"
    }
   ],
   "source": [
    "data = pd.DataFrame(data=adata.obs)\n",
    "data.head()"
   ]
  },
  {
   "cell_type": "code",
   "execution_count": 12,
   "metadata": {
    "collapsed": false,
    "jupyter": {
     "outputs_hidden": false
    },
    "ExecuteTime": {
     "end_time": "2023-11-20T16:31:53.196147Z",
     "start_time": "2023-11-20T16:31:53.128554Z"
    }
   },
   "outputs": [],
   "source": [
    "subset_condition = (\n",
    "    (adata.obs['n_genes_by_counts'] > 2000) &\n",
    "    (adata.obs['n_genes_by_counts'] < 7000) &\n",
    "    (adata.obs['n_counts'] < 100000) &\n",
    "    (adata.obs['pct_counts_mt'] < 10) &\n",
    "    (adata.obs['pct_counts_mt'] > 0.1)\n",
    ")\n",
    "adata = adata[subset_condition, :]"
   ]
  },
  {
   "cell_type": "markdown",
   "metadata": {},
   "source": [
    "## Normalization"
   ]
  },
  {
   "cell_type": "code",
   "execution_count": 13,
   "metadata": {
    "ExecuteTime": {
     "end_time": "2023-11-20T16:31:54.877400Z",
     "start_time": "2023-11-20T16:31:53.131950Z"
    }
   },
   "outputs": [],
   "source": [
    "adata.layers[\"counts\"] = adata.X.copy()\n",
    "sc.pp.normalize_total(adata, target_sum=1e5)\n",
    "sc.pp.log1p(adata)\n",
    "adata.raw = adata"
   ]
  },
  {
   "cell_type": "code",
   "execution_count": 14,
   "metadata": {
    "ExecuteTime": {
     "end_time": "2023-11-20T16:32:00.566406Z",
     "start_time": "2023-11-20T16:31:54.593922Z"
    }
   },
   "outputs": [],
   "source": [
    "sc.pp.highly_variable_genes(\n",
    "    adata,\n",
    "    n_top_genes=2000,\n",
    "    layer=\"counts\",\n",
    "    flavor='seurat_v3',\n",
    "    subset=True\n",
    ")"
   ]
  },
  {
   "cell_type": "code",
   "execution_count": 15,
   "metadata": {
    "ExecuteTime": {
     "end_time": "2023-11-20T16:32:00.569391Z",
     "start_time": "2023-11-20T16:32:00.564698Z"
    }
   },
   "outputs": [
    {
     "name": "stdout",
     "output_type": "stream",
     "text": [
      "Current training_size: 0.89\n"
     ]
    }
   ],
   "source": [
    "training_size = 0.9\n",
    "while np.ceil((len(adata) * training_size) % 128) == 1: training_size -= 0.01\n",
    "print(f\"Current training_size: {training_size}\")"
   ]
  },
  {
   "cell_type": "code",
   "execution_count": 15,
   "outputs": [],
   "source": [],
   "metadata": {
    "collapsed": false,
    "ExecuteTime": {
     "end_time": "2023-11-20T16:32:00.569688Z",
     "start_time": "2023-11-20T16:32:00.568424Z"
    }
   }
  },
  {
   "cell_type": "code",
   "execution_count": 15,
   "outputs": [],
   "source": [],
   "metadata": {
    "collapsed": false,
    "ExecuteTime": {
     "end_time": "2023-11-20T16:32:00.572322Z",
     "start_time": "2023-11-20T16:32:00.569577Z"
    }
   }
  },
  {
   "cell_type": "markdown",
   "metadata": {},
   "source": [
    "## Training model"
   ],
   "outputs": [
    {
     "name": "stdout",
     "output_type": "stream",
     "text": [
      "Current training_size: 0.89\n"
     ]
    }
   ],
   "execution_count": 214
  },
  {
   "cell_type": "code",
   "execution_count": 16,
   "metadata": {
    "collapsed": false,
    "jupyter": {
     "outputs_hidden": false
    },
    "ExecuteTime": {
     "end_time": "2023-11-20T16:32:00.893931Z",
     "start_time": "2023-11-20T16:32:00.576402Z"
    }
   },
   "outputs": [],
   "source": [
    "scvi.model.SCVI.setup_anndata(adata, layer=\"counts\", batch_key=\"batch\")"
   ]
  },
  {
   "cell_type": "code",
   "execution_count": 17,
   "outputs": [],
   "source": [
    "model = scvi.model.SCVI(adata)\n",
    "#model.train(batch_size = 128, train_size=training_size, max_epochs=100)\n",
    "model_dir = os.path.join(save_dir, \"scvi_model\")\n",
    "#model.save(model_dir)"
   ],
   "metadata": {
    "collapsed": false,
    "ExecuteTime": {
     "end_time": "2023-11-20T16:32:00.939539Z",
     "start_time": "2023-11-20T16:32:00.896938Z"
    }
   }
  },
  {
   "cell_type": "code",
   "execution_count": 23,
   "outputs": [],
   "source": [
    "model_cls = scvi.model.SCVI\n",
    "model_cls.setup_anndata(adata)\n",
    "scvi_tuner = autotune.ModelTuner(model_cls)"
   ],
   "metadata": {
    "collapsed": false,
    "ExecuteTime": {
     "end_time": "2023-11-20T16:33:53.808697Z",
     "start_time": "2023-11-20T16:33:53.767013Z"
    }
   }
  },
  {
   "cell_type": "code",
   "execution_count": 24,
   "outputs": [
    {
     "data": {
      "text/plain": "ModelTuner registry for SCVI\n",
      "text/html": "<pre style=\"white-space:pre;overflow-x:auto;line-height:normal;font-family:Menlo,'DejaVu Sans Mono',consolas,'Courier New',monospace\">ModelTuner registry for SCVI\n</pre>\n"
     },
     "metadata": {},
     "output_type": "display_data"
    },
    {
     "data": {
      "text/plain": "\u001B[3m                  Tunable hyperparameters                  \u001B[0m\n┏━━━━━━━━━━━━━━━━━━━━━━━━━━┳━━━━━━━━━━━━━━━┳━━━━━━━━━━━━━━┓\n┃\u001B[1m \u001B[0m\u001B[1m     Hyperparameter     \u001B[0m\u001B[1m \u001B[0m┃\u001B[1m \u001B[0m\u001B[1mDefault value\u001B[0m\u001B[1m \u001B[0m┃\u001B[1m \u001B[0m\u001B[1m   Source   \u001B[0m\u001B[1m \u001B[0m┃\n┡━━━━━━━━━━━━━━━━━━━━━━━━━━╇━━━━━━━━━━━━━━━╇━━━━━━━━━━━━━━┩\n│\u001B[38;5;33m \u001B[0m\u001B[38;5;33m        n_hidden        \u001B[0m\u001B[38;5;33m \u001B[0m│\u001B[38;5;128m \u001B[0m\u001B[38;5;128m     128     \u001B[0m\u001B[38;5;128m \u001B[0m│\u001B[32m \u001B[0m\u001B[32m    VAE     \u001B[0m\u001B[32m \u001B[0m│\n│\u001B[38;5;33m \u001B[0m\u001B[38;5;33m        n_latent        \u001B[0m\u001B[38;5;33m \u001B[0m│\u001B[38;5;128m \u001B[0m\u001B[38;5;128m     10      \u001B[0m\u001B[38;5;128m \u001B[0m│\u001B[32m \u001B[0m\u001B[32m    VAE     \u001B[0m\u001B[32m \u001B[0m│\n│\u001B[38;5;33m \u001B[0m\u001B[38;5;33m        n_layers        \u001B[0m\u001B[38;5;33m \u001B[0m│\u001B[38;5;128m \u001B[0m\u001B[38;5;128m      1      \u001B[0m\u001B[38;5;128m \u001B[0m│\u001B[32m \u001B[0m\u001B[32m    VAE     \u001B[0m\u001B[32m \u001B[0m│\n│\u001B[38;5;33m \u001B[0m\u001B[38;5;33m      dropout_rate      \u001B[0m\u001B[38;5;33m \u001B[0m│\u001B[38;5;128m \u001B[0m\u001B[38;5;128m     0.1     \u001B[0m\u001B[38;5;128m \u001B[0m│\u001B[32m \u001B[0m\u001B[32m    VAE     \u001B[0m\u001B[32m \u001B[0m│\n│\u001B[38;5;33m \u001B[0m\u001B[38;5;33m       dispersion       \u001B[0m\u001B[38;5;33m \u001B[0m│\u001B[38;5;128m \u001B[0m\u001B[38;5;128m    gene     \u001B[0m\u001B[38;5;128m \u001B[0m│\u001B[32m \u001B[0m\u001B[32m    VAE     \u001B[0m\u001B[32m \u001B[0m│\n│\u001B[38;5;33m \u001B[0m\u001B[38;5;33m    gene_likelihood     \u001B[0m\u001B[38;5;33m \u001B[0m│\u001B[38;5;128m \u001B[0m\u001B[38;5;128m    zinb     \u001B[0m\u001B[38;5;128m \u001B[0m│\u001B[32m \u001B[0m\u001B[32m    VAE     \u001B[0m\u001B[32m \u001B[0m│\n│\u001B[38;5;33m \u001B[0m\u001B[38;5;33m  latent_distribution   \u001B[0m\u001B[38;5;33m \u001B[0m│\u001B[38;5;128m \u001B[0m\u001B[38;5;128m   normal    \u001B[0m\u001B[38;5;128m \u001B[0m│\u001B[32m \u001B[0m\u001B[32m    VAE     \u001B[0m\u001B[32m \u001B[0m│\n│\u001B[38;5;33m \u001B[0m\u001B[38;5;33m   encode_covariates    \u001B[0m\u001B[38;5;33m \u001B[0m│\u001B[38;5;128m \u001B[0m\u001B[38;5;128m    False    \u001B[0m\u001B[38;5;128m \u001B[0m│\u001B[32m \u001B[0m\u001B[32m    VAE     \u001B[0m\u001B[32m \u001B[0m│\n│\u001B[38;5;33m \u001B[0m\u001B[38;5;33mdeeply_inject_covariates\u001B[0m\u001B[38;5;33m \u001B[0m│\u001B[38;5;128m \u001B[0m\u001B[38;5;128m    True     \u001B[0m\u001B[38;5;128m \u001B[0m│\u001B[32m \u001B[0m\u001B[32m    VAE     \u001B[0m\u001B[32m \u001B[0m│\n│\u001B[38;5;33m \u001B[0m\u001B[38;5;33m     use_batch_norm     \u001B[0m\u001B[38;5;33m \u001B[0m│\u001B[38;5;128m \u001B[0m\u001B[38;5;128m    both     \u001B[0m\u001B[38;5;128m \u001B[0m│\u001B[32m \u001B[0m\u001B[32m    VAE     \u001B[0m\u001B[32m \u001B[0m│\n│\u001B[38;5;33m \u001B[0m\u001B[38;5;33m     use_layer_norm     \u001B[0m\u001B[38;5;33m \u001B[0m│\u001B[38;5;128m \u001B[0m\u001B[38;5;128m    none     \u001B[0m\u001B[38;5;128m \u001B[0m│\u001B[32m \u001B[0m\u001B[32m    VAE     \u001B[0m\u001B[32m \u001B[0m│\n│\u001B[38;5;33m \u001B[0m\u001B[38;5;33m       optimizer        \u001B[0m\u001B[38;5;33m \u001B[0m│\u001B[38;5;128m \u001B[0m\u001B[38;5;128m    Adam     \u001B[0m\u001B[38;5;128m \u001B[0m│\u001B[32m \u001B[0m\u001B[32mTrainingPlan\u001B[0m\u001B[32m \u001B[0m│\n│\u001B[38;5;33m \u001B[0m\u001B[38;5;33m           lr           \u001B[0m\u001B[38;5;33m \u001B[0m│\u001B[38;5;128m \u001B[0m\u001B[38;5;128m    0.001    \u001B[0m\u001B[38;5;128m \u001B[0m│\u001B[32m \u001B[0m\u001B[32mTrainingPlan\u001B[0m\u001B[32m \u001B[0m│\n│\u001B[38;5;33m \u001B[0m\u001B[38;5;33m      weight_decay      \u001B[0m\u001B[38;5;33m \u001B[0m│\u001B[38;5;128m \u001B[0m\u001B[38;5;128m    1e-06    \u001B[0m\u001B[38;5;128m \u001B[0m│\u001B[32m \u001B[0m\u001B[32mTrainingPlan\u001B[0m\u001B[32m \u001B[0m│\n│\u001B[38;5;33m \u001B[0m\u001B[38;5;33m          eps           \u001B[0m\u001B[38;5;33m \u001B[0m│\u001B[38;5;128m \u001B[0m\u001B[38;5;128m    0.01     \u001B[0m\u001B[38;5;128m \u001B[0m│\u001B[32m \u001B[0m\u001B[32mTrainingPlan\u001B[0m\u001B[32m \u001B[0m│\n│\u001B[38;5;33m \u001B[0m\u001B[38;5;33m   n_steps_kl_warmup    \u001B[0m\u001B[38;5;33m \u001B[0m│\u001B[38;5;128m \u001B[0m\u001B[38;5;128m    None     \u001B[0m\u001B[38;5;128m \u001B[0m│\u001B[32m \u001B[0m\u001B[32mTrainingPlan\u001B[0m\u001B[32m \u001B[0m│\n│\u001B[38;5;33m \u001B[0m\u001B[38;5;33m   n_epochs_kl_warmup   \u001B[0m\u001B[38;5;33m \u001B[0m│\u001B[38;5;128m \u001B[0m\u001B[38;5;128m     400     \u001B[0m\u001B[38;5;128m \u001B[0m│\u001B[32m \u001B[0m\u001B[32mTrainingPlan\u001B[0m\u001B[32m \u001B[0m│\n│\u001B[38;5;33m \u001B[0m\u001B[38;5;33m  reduce_lr_on_plateau  \u001B[0m\u001B[38;5;33m \u001B[0m│\u001B[38;5;128m \u001B[0m\u001B[38;5;128m    False    \u001B[0m\u001B[38;5;128m \u001B[0m│\u001B[32m \u001B[0m\u001B[32mTrainingPlan\u001B[0m\u001B[32m \u001B[0m│\n│\u001B[38;5;33m \u001B[0m\u001B[38;5;33m       lr_factor        \u001B[0m\u001B[38;5;33m \u001B[0m│\u001B[38;5;128m \u001B[0m\u001B[38;5;128m     0.6     \u001B[0m\u001B[38;5;128m \u001B[0m│\u001B[32m \u001B[0m\u001B[32mTrainingPlan\u001B[0m\u001B[32m \u001B[0m│\n│\u001B[38;5;33m \u001B[0m\u001B[38;5;33m      lr_patience       \u001B[0m\u001B[38;5;33m \u001B[0m│\u001B[38;5;128m \u001B[0m\u001B[38;5;128m     30      \u001B[0m\u001B[38;5;128m \u001B[0m│\u001B[32m \u001B[0m\u001B[32mTrainingPlan\u001B[0m\u001B[32m \u001B[0m│\n│\u001B[38;5;33m \u001B[0m\u001B[38;5;33m      lr_threshold      \u001B[0m\u001B[38;5;33m \u001B[0m│\u001B[38;5;128m \u001B[0m\u001B[38;5;128m     0.0     \u001B[0m\u001B[38;5;128m \u001B[0m│\u001B[32m \u001B[0m\u001B[32mTrainingPlan\u001B[0m\u001B[32m \u001B[0m│\n│\u001B[38;5;33m \u001B[0m\u001B[38;5;33m         lr_min         \u001B[0m\u001B[38;5;33m \u001B[0m│\u001B[38;5;128m \u001B[0m\u001B[38;5;128m      0      \u001B[0m\u001B[38;5;128m \u001B[0m│\u001B[32m \u001B[0m\u001B[32mTrainingPlan\u001B[0m\u001B[32m \u001B[0m│\n│\u001B[38;5;33m \u001B[0m\u001B[38;5;33m     max_kl_weight      \u001B[0m\u001B[38;5;33m \u001B[0m│\u001B[38;5;128m \u001B[0m\u001B[38;5;128m     1.0     \u001B[0m\u001B[38;5;128m \u001B[0m│\u001B[32m \u001B[0m\u001B[32mTrainingPlan\u001B[0m\u001B[32m \u001B[0m│\n│\u001B[38;5;33m \u001B[0m\u001B[38;5;33m     min_kl_weight      \u001B[0m\u001B[38;5;33m \u001B[0m│\u001B[38;5;128m \u001B[0m\u001B[38;5;128m     0.0     \u001B[0m\u001B[38;5;128m \u001B[0m│\u001B[32m \u001B[0m\u001B[32mTrainingPlan\u001B[0m\u001B[32m \u001B[0m│\n└──────────────────────────┴───────────────┴──────────────┘\n",
      "text/html": "<pre style=\"white-space:pre;overflow-x:auto;line-height:normal;font-family:Menlo,'DejaVu Sans Mono',consolas,'Courier New',monospace\"><span style=\"font-style: italic\">                  Tunable hyperparameters                  </span>\n┏━━━━━━━━━━━━━━━━━━━━━━━━━━┳━━━━━━━━━━━━━━━┳━━━━━━━━━━━━━━┓\n┃<span style=\"font-weight: bold\">      Hyperparameter      </span>┃<span style=\"font-weight: bold\"> Default value </span>┃<span style=\"font-weight: bold\">    Source    </span>┃\n┡━━━━━━━━━━━━━━━━━━━━━━━━━━╇━━━━━━━━━━━━━━━╇━━━━━━━━━━━━━━┩\n│<span style=\"color: #0087ff; text-decoration-color: #0087ff\">         n_hidden         </span>│<span style=\"color: #af00d7; text-decoration-color: #af00d7\">      128      </span>│<span style=\"color: #008000; text-decoration-color: #008000\">     VAE      </span>│\n│<span style=\"color: #0087ff; text-decoration-color: #0087ff\">         n_latent         </span>│<span style=\"color: #af00d7; text-decoration-color: #af00d7\">      10       </span>│<span style=\"color: #008000; text-decoration-color: #008000\">     VAE      </span>│\n│<span style=\"color: #0087ff; text-decoration-color: #0087ff\">         n_layers         </span>│<span style=\"color: #af00d7; text-decoration-color: #af00d7\">       1       </span>│<span style=\"color: #008000; text-decoration-color: #008000\">     VAE      </span>│\n│<span style=\"color: #0087ff; text-decoration-color: #0087ff\">       dropout_rate       </span>│<span style=\"color: #af00d7; text-decoration-color: #af00d7\">      0.1      </span>│<span style=\"color: #008000; text-decoration-color: #008000\">     VAE      </span>│\n│<span style=\"color: #0087ff; text-decoration-color: #0087ff\">        dispersion        </span>│<span style=\"color: #af00d7; text-decoration-color: #af00d7\">     gene      </span>│<span style=\"color: #008000; text-decoration-color: #008000\">     VAE      </span>│\n│<span style=\"color: #0087ff; text-decoration-color: #0087ff\">     gene_likelihood      </span>│<span style=\"color: #af00d7; text-decoration-color: #af00d7\">     zinb      </span>│<span style=\"color: #008000; text-decoration-color: #008000\">     VAE      </span>│\n│<span style=\"color: #0087ff; text-decoration-color: #0087ff\">   latent_distribution    </span>│<span style=\"color: #af00d7; text-decoration-color: #af00d7\">    normal     </span>│<span style=\"color: #008000; text-decoration-color: #008000\">     VAE      </span>│\n│<span style=\"color: #0087ff; text-decoration-color: #0087ff\">    encode_covariates     </span>│<span style=\"color: #af00d7; text-decoration-color: #af00d7\">     False     </span>│<span style=\"color: #008000; text-decoration-color: #008000\">     VAE      </span>│\n│<span style=\"color: #0087ff; text-decoration-color: #0087ff\"> deeply_inject_covariates </span>│<span style=\"color: #af00d7; text-decoration-color: #af00d7\">     True      </span>│<span style=\"color: #008000; text-decoration-color: #008000\">     VAE      </span>│\n│<span style=\"color: #0087ff; text-decoration-color: #0087ff\">      use_batch_norm      </span>│<span style=\"color: #af00d7; text-decoration-color: #af00d7\">     both      </span>│<span style=\"color: #008000; text-decoration-color: #008000\">     VAE      </span>│\n│<span style=\"color: #0087ff; text-decoration-color: #0087ff\">      use_layer_norm      </span>│<span style=\"color: #af00d7; text-decoration-color: #af00d7\">     none      </span>│<span style=\"color: #008000; text-decoration-color: #008000\">     VAE      </span>│\n│<span style=\"color: #0087ff; text-decoration-color: #0087ff\">        optimizer         </span>│<span style=\"color: #af00d7; text-decoration-color: #af00d7\">     Adam      </span>│<span style=\"color: #008000; text-decoration-color: #008000\"> TrainingPlan </span>│\n│<span style=\"color: #0087ff; text-decoration-color: #0087ff\">            lr            </span>│<span style=\"color: #af00d7; text-decoration-color: #af00d7\">     0.001     </span>│<span style=\"color: #008000; text-decoration-color: #008000\"> TrainingPlan </span>│\n│<span style=\"color: #0087ff; text-decoration-color: #0087ff\">       weight_decay       </span>│<span style=\"color: #af00d7; text-decoration-color: #af00d7\">     1e-06     </span>│<span style=\"color: #008000; text-decoration-color: #008000\"> TrainingPlan </span>│\n│<span style=\"color: #0087ff; text-decoration-color: #0087ff\">           eps            </span>│<span style=\"color: #af00d7; text-decoration-color: #af00d7\">     0.01      </span>│<span style=\"color: #008000; text-decoration-color: #008000\"> TrainingPlan </span>│\n│<span style=\"color: #0087ff; text-decoration-color: #0087ff\">    n_steps_kl_warmup     </span>│<span style=\"color: #af00d7; text-decoration-color: #af00d7\">     None      </span>│<span style=\"color: #008000; text-decoration-color: #008000\"> TrainingPlan </span>│\n│<span style=\"color: #0087ff; text-decoration-color: #0087ff\">    n_epochs_kl_warmup    </span>│<span style=\"color: #af00d7; text-decoration-color: #af00d7\">      400      </span>│<span style=\"color: #008000; text-decoration-color: #008000\"> TrainingPlan </span>│\n│<span style=\"color: #0087ff; text-decoration-color: #0087ff\">   reduce_lr_on_plateau   </span>│<span style=\"color: #af00d7; text-decoration-color: #af00d7\">     False     </span>│<span style=\"color: #008000; text-decoration-color: #008000\"> TrainingPlan </span>│\n│<span style=\"color: #0087ff; text-decoration-color: #0087ff\">        lr_factor         </span>│<span style=\"color: #af00d7; text-decoration-color: #af00d7\">      0.6      </span>│<span style=\"color: #008000; text-decoration-color: #008000\"> TrainingPlan </span>│\n│<span style=\"color: #0087ff; text-decoration-color: #0087ff\">       lr_patience        </span>│<span style=\"color: #af00d7; text-decoration-color: #af00d7\">      30       </span>│<span style=\"color: #008000; text-decoration-color: #008000\"> TrainingPlan </span>│\n│<span style=\"color: #0087ff; text-decoration-color: #0087ff\">       lr_threshold       </span>│<span style=\"color: #af00d7; text-decoration-color: #af00d7\">      0.0      </span>│<span style=\"color: #008000; text-decoration-color: #008000\"> TrainingPlan </span>│\n│<span style=\"color: #0087ff; text-decoration-color: #0087ff\">          lr_min          </span>│<span style=\"color: #af00d7; text-decoration-color: #af00d7\">       0       </span>│<span style=\"color: #008000; text-decoration-color: #008000\"> TrainingPlan </span>│\n│<span style=\"color: #0087ff; text-decoration-color: #0087ff\">      max_kl_weight       </span>│<span style=\"color: #af00d7; text-decoration-color: #af00d7\">      1.0      </span>│<span style=\"color: #008000; text-decoration-color: #008000\"> TrainingPlan </span>│\n│<span style=\"color: #0087ff; text-decoration-color: #0087ff\">      min_kl_weight       </span>│<span style=\"color: #af00d7; text-decoration-color: #af00d7\">      0.0      </span>│<span style=\"color: #008000; text-decoration-color: #008000\"> TrainingPlan </span>│\n└──────────────────────────┴───────────────┴──────────────┘\n</pre>\n"
     },
     "metadata": {},
     "output_type": "display_data"
    },
    {
     "data": {
      "text/plain": "\u001B[3m       Available metrics        \u001B[0m\n┏━━━━━━━━━━━━━━━━━┳━━━━━━━━━━━━┓\n┃\u001B[1m \u001B[0m\u001B[1m    Metric     \u001B[0m\u001B[1m \u001B[0m┃\u001B[1m \u001B[0m\u001B[1m   Mode   \u001B[0m\u001B[1m \u001B[0m┃\n┡━━━━━━━━━━━━━━━━━╇━━━━━━━━━━━━┩\n│\u001B[38;5;33m \u001B[0m\u001B[38;5;33mvalidation_loss\u001B[0m\u001B[38;5;33m \u001B[0m│\u001B[38;5;128m \u001B[0m\u001B[38;5;128m   min    \u001B[0m\u001B[38;5;128m \u001B[0m│\n└─────────────────┴────────────┘\n",
      "text/html": "<pre style=\"white-space:pre;overflow-x:auto;line-height:normal;font-family:Menlo,'DejaVu Sans Mono',consolas,'Courier New',monospace\"><span style=\"font-style: italic\">       Available metrics        </span>\n┏━━━━━━━━━━━━━━━━━┳━━━━━━━━━━━━┓\n┃<span style=\"font-weight: bold\">     Metric      </span>┃<span style=\"font-weight: bold\">    Mode    </span>┃\n┡━━━━━━━━━━━━━━━━━╇━━━━━━━━━━━━┩\n│<span style=\"color: #0087ff; text-decoration-color: #0087ff\"> validation_loss </span>│<span style=\"color: #af00d7; text-decoration-color: #af00d7\">    min     </span>│\n└─────────────────┴────────────┘\n</pre>\n"
     },
     "metadata": {},
     "output_type": "display_data"
    },
    {
     "data": {
      "text/plain": "\u001B[3m                         Default search space                         \u001B[0m\n┏━━━━━━━━━━━━━━━━┳━━━━━━━━━━━━━━━━━┳━━━━━━━━━━━━━┳━━━━━━━━━━━━━━━━━━━┓\n┃\u001B[1m \u001B[0m\u001B[1mHyperparameter\u001B[0m\u001B[1m \u001B[0m┃\u001B[1m \u001B[0m\u001B[1mSample function\u001B[0m\u001B[1m \u001B[0m┃\u001B[1m \u001B[0m\u001B[1m Arguments \u001B[0m\u001B[1m \u001B[0m┃\u001B[1m \u001B[0m\u001B[1mKeyword arguments\u001B[0m\u001B[1m \u001B[0m┃\n┡━━━━━━━━━━━━━━━━╇━━━━━━━━━━━━━━━━━╇━━━━━━━━━━━━━╇━━━━━━━━━━━━━━━━━━━┩\n│\u001B[38;5;33m \u001B[0m\u001B[38;5;33m   n_hidden   \u001B[0m\u001B[38;5;33m \u001B[0m│\u001B[38;5;128m \u001B[0m\u001B[38;5;128m    choice     \u001B[0m\u001B[38;5;128m \u001B[0m│\u001B[32m \u001B[0m\u001B[32m[[64, 128]]\u001B[0m\u001B[32m \u001B[0m│\u001B[38;5;208m \u001B[0m\u001B[38;5;208m       {}        \u001B[0m\u001B[38;5;208m \u001B[0m│\n└────────────────┴─────────────────┴─────────────┴───────────────────┘\n",
      "text/html": "<pre style=\"white-space:pre;overflow-x:auto;line-height:normal;font-family:Menlo,'DejaVu Sans Mono',consolas,'Courier New',monospace\"><span style=\"font-style: italic\">                         Default search space                         </span>\n┏━━━━━━━━━━━━━━━━┳━━━━━━━━━━━━━━━━━┳━━━━━━━━━━━━━┳━━━━━━━━━━━━━━━━━━━┓\n┃<span style=\"font-weight: bold\"> Hyperparameter </span>┃<span style=\"font-weight: bold\"> Sample function </span>┃<span style=\"font-weight: bold\">  Arguments  </span>┃<span style=\"font-weight: bold\"> Keyword arguments </span>┃\n┡━━━━━━━━━━━━━━━━╇━━━━━━━━━━━━━━━━━╇━━━━━━━━━━━━━╇━━━━━━━━━━━━━━━━━━━┩\n│<span style=\"color: #0087ff; text-decoration-color: #0087ff\">    n_hidden    </span>│<span style=\"color: #af00d7; text-decoration-color: #af00d7\">     choice      </span>│<span style=\"color: #008000; text-decoration-color: #008000\"> [[64, 128]] </span>│<span style=\"color: #ff8700; text-decoration-color: #ff8700\">        {}         </span>│\n└────────────────┴─────────────────┴─────────────┴───────────────────┘\n</pre>\n"
     },
     "metadata": {},
     "output_type": "display_data"
    }
   ],
   "source": [
    "scvi_tuner.info()"
   ],
   "metadata": {
    "collapsed": false,
    "ExecuteTime": {
     "end_time": "2023-11-20T16:33:58.830187Z",
     "start_time": "2023-11-20T16:33:58.795684Z"
    }
   }
  },
  {
   "cell_type": "code",
   "execution_count": 30,
   "outputs": [],
   "source": [
    "search_space = {\n",
    "    \"n_hidden\": tune.choice([64, 128, 256]),\n",
    "    \"n_layers\": tune.choice([1, 2, 3, 10]),\n",
    "}"
   ],
   "metadata": {
    "collapsed": false,
    "ExecuteTime": {
     "end_time": "2023-11-20T16:42:55.805263Z",
     "start_time": "2023-11-20T16:42:55.802268Z"
    }
   }
  },
  {
   "cell_type": "code",
   "execution_count": 26,
   "outputs": [
    {
     "name": "stderr",
     "output_type": "stream",
     "text": [
      "2023-11-20 17:36:09,836\tINFO worker.py:1664 -- Started a local Ray instance. View the dashboard at \u001B[1m\u001B[32mhttp://127.0.0.1:8265 \u001B[39m\u001B[22m\n"
     ]
    },
    {
     "data": {
      "text/plain": "RayContext(dashboard_url='127.0.0.1:8265', python_version='3.11.1', ray_version='2.8.0', ray_commit='105355bd253d6538ed34d331f6a4bdf0e38ace3a', protocol_version=None)",
      "application/vnd.jupyter.widget-view+json": {
       "version_major": 2,
       "version_minor": 0,
       "model_id": "7168d8e0a55b47cfbc144451314014e1"
      },
      "text/html": "<div class=\"lm-Widget p-Widget lm-Panel p-Panel jp-Cell-outputWrapper\">\n    <div style=\"margin-left: 50px;display: flex;flex-direction: row;align-items: center\">\n        <div class=\"jp-RenderedHTMLCommon\" style=\"display: flex; flex-direction: row;\">\n  <svg viewBox=\"0 0 567 224\" fill=\"none\" xmlns=\"http://www.w3.org/2000/svg\" style=\"height: 3em;\">\n    <g clip-path=\"url(#clip0_4338_178347)\">\n        <path d=\"M341.29 165.561H355.29L330.13 129.051C345.63 123.991 354.21 112.051 354.21 94.2307C354.21 71.3707 338.72 58.1807 311.88 58.1807H271V165.561H283.27V131.661H311.8C314.25 131.661 316.71 131.501 319.01 131.351L341.25 165.561H341.29ZM283.29 119.851V70.0007H311.82C331.3 70.0007 342.34 78.2907 342.34 94.5507C342.34 111.271 331.34 119.861 311.82 119.861L283.29 119.851ZM451.4 138.411L463.4 165.561H476.74L428.74 58.1807H416L367.83 165.561H380.83L392.83 138.411H451.4ZM446.19 126.601H398L422 72.1407L446.24 126.601H446.19ZM526.11 128.741L566.91 58.1807H554.35L519.99 114.181L485.17 58.1807H472.44L514.01 129.181V165.541H526.13V128.741H526.11Z\" fill=\"var(--jp-ui-font-color0)\"/>\n        <path d=\"M82.35 104.44C84.0187 97.8827 87.8248 92.0678 93.1671 87.9146C98.5094 83.7614 105.083 81.5067 111.85 81.5067C118.617 81.5067 125.191 83.7614 130.533 87.9146C135.875 92.0678 139.681 97.8827 141.35 104.44H163.75C164.476 101.562 165.622 98.8057 167.15 96.2605L127.45 56.5605C121.071 60.3522 113.526 61.6823 106.235 60.3005C98.9443 58.9187 92.4094 54.9203 87.8602 49.0574C83.3109 43.1946 81.0609 35.8714 81.5332 28.4656C82.0056 21.0599 85.1679 14.0819 90.4252 8.8446C95.6824 3.60726 102.672 0.471508 110.08 0.0272655C117.487 -0.416977 124.802 1.86091 130.647 6.4324C136.493 11.0039 140.467 17.5539 141.821 24.8501C143.175 32.1463 141.816 39.6859 138 46.0505L177.69 85.7505C182.31 82.9877 187.58 81.4995 192.962 81.4375C198.345 81.3755 203.648 82.742 208.33 85.3976C213.012 88.0532 216.907 91.9029 219.616 96.5544C222.326 101.206 223.753 106.492 223.753 111.875C223.753 117.258 222.326 122.545 219.616 127.197C216.907 131.848 213.012 135.698 208.33 138.353C203.648 141.009 198.345 142.375 192.962 142.313C187.58 142.251 182.31 140.763 177.69 138L138 177.7C141.808 184.071 143.155 191.614 141.79 198.91C140.424 206.205 136.44 212.75 130.585 217.313C124.731 221.875 117.412 224.141 110.004 223.683C102.596 223.226 95.6103 220.077 90.3621 214.828C85.1139 209.58 81.9647 202.595 81.5072 195.187C81.0497 187.779 83.3154 180.459 87.878 174.605C92.4405 168.751 98.9853 164.766 106.281 163.401C113.576 162.035 121.119 163.383 127.49 167.19L167.19 127.49C165.664 124.941 164.518 122.182 163.79 119.3H141.39C139.721 125.858 135.915 131.673 130.573 135.826C125.231 139.98 118.657 142.234 111.89 142.234C105.123 142.234 98.5494 139.98 93.2071 135.826C87.8648 131.673 84.0587 125.858 82.39 119.3H60C58.1878 126.495 53.8086 132.78 47.6863 136.971C41.5641 141.163 34.1211 142.972 26.7579 142.059C19.3947 141.146 12.6191 137.574 7.70605 132.014C2.79302 126.454 0.0813599 119.29 0.0813599 111.87C0.0813599 104.451 2.79302 97.2871 7.70605 91.7272C12.6191 86.1673 19.3947 82.5947 26.7579 81.6817C34.1211 80.7686 41.5641 82.5781 47.6863 86.7696C53.8086 90.9611 58.1878 97.2456 60 104.44H82.35ZM100.86 204.32C103.407 206.868 106.759 208.453 110.345 208.806C113.93 209.159 117.527 208.258 120.522 206.256C123.517 204.254 125.725 201.276 126.771 197.828C127.816 194.38 127.633 190.677 126.253 187.349C124.874 184.021 122.383 181.274 119.205 179.577C116.027 177.88 112.359 177.337 108.826 178.042C105.293 178.746 102.113 180.654 99.8291 183.44C97.5451 186.226 96.2979 189.718 96.3 193.32C96.2985 195.364 96.7006 197.388 97.4831 199.275C98.2656 201.163 99.4132 202.877 100.86 204.32ZM204.32 122.88C206.868 120.333 208.453 116.981 208.806 113.396C209.159 109.811 208.258 106.214 206.256 103.219C204.254 100.223 201.275 98.0151 197.827 96.97C194.38 95.9249 190.676 96.1077 187.348 97.4873C184.02 98.8669 181.274 101.358 179.577 104.536C177.879 107.714 177.337 111.382 178.041 114.915C178.746 118.448 180.653 121.627 183.439 123.911C186.226 126.195 189.717 127.443 193.32 127.44C195.364 127.443 197.388 127.042 199.275 126.259C201.163 125.476 202.878 124.328 204.32 122.88ZM122.88 19.4205C120.333 16.8729 116.981 15.2876 113.395 14.9347C109.81 14.5817 106.213 15.483 103.218 17.4849C100.223 19.4868 98.0146 22.4654 96.9696 25.9131C95.9245 29.3608 96.1073 33.0642 97.4869 36.3922C98.8665 39.7202 101.358 42.4668 104.535 44.1639C107.713 45.861 111.381 46.4036 114.914 45.6992C118.447 44.9949 121.627 43.0871 123.911 40.301C126.195 37.515 127.442 34.0231 127.44 30.4205C127.44 28.3772 127.038 26.3539 126.255 24.4664C125.473 22.5788 124.326 20.8642 122.88 19.4205ZM19.42 100.86C16.8725 103.408 15.2872 106.76 14.9342 110.345C14.5813 113.93 15.4826 117.527 17.4844 120.522C19.4863 123.518 22.4649 125.726 25.9127 126.771C29.3604 127.816 33.0638 127.633 36.3918 126.254C39.7198 124.874 42.4664 122.383 44.1635 119.205C45.8606 116.027 46.4032 112.359 45.6988 108.826C44.9944 105.293 43.0866 102.114 40.3006 99.8296C37.5145 97.5455 34.0227 96.2983 30.42 96.3005C26.2938 96.3018 22.337 97.9421 19.42 100.86ZM100.86 100.86C98.3125 103.408 96.7272 106.76 96.3742 110.345C96.0213 113.93 96.9226 117.527 98.9244 120.522C100.926 123.518 103.905 125.726 107.353 126.771C110.8 127.816 114.504 127.633 117.832 126.254C121.16 124.874 123.906 122.383 125.604 119.205C127.301 116.027 127.843 112.359 127.139 108.826C126.434 105.293 124.527 102.114 121.741 99.8296C118.955 97.5455 115.463 96.2983 111.86 96.3005C109.817 96.299 107.793 96.701 105.905 97.4835C104.018 98.2661 102.303 99.4136 100.86 100.86Z\" fill=\"#00AEEF\"/>\n    </g>\n    <defs>\n        <clipPath id=\"clip0_4338_178347\">\n            <rect width=\"566.93\" height=\"223.75\" fill=\"white\"/>\n        </clipPath>\n    </defs>\n  </svg>\n</div>\n\n        <table class=\"jp-RenderedHTMLCommon\" style=\"border-collapse: collapse;color: var(--jp-ui-font-color1);font-size: var(--jp-ui-font-size1);\">\n    <tr>\n        <td style=\"text-align: left\"><b>Python version:</b></td>\n        <td style=\"text-align: left\"><b>3.11.1</b></td>\n    </tr>\n    <tr>\n        <td style=\"text-align: left\"><b>Ray version:</b></td>\n        <td style=\"text-align: left\"><b>2.8.0</b></td>\n    </tr>\n    <tr>\n    <td style=\"text-align: left\"><b>Dashboard:</b></td>\n    <td style=\"text-align: left\"><b><a href=\"http://127.0.0.1:8265\" target=\"_blank\">http://127.0.0.1:8265</a></b></td>\n</tr>\n\n</table>\n\n    </div>\n</div>\n"
     },
     "execution_count": 26,
     "metadata": {},
     "output_type": "execute_result"
    }
   ],
   "source": [
    "ray.shutdown()\n",
    "ray.init(log_to_driver=False)"
   ],
   "metadata": {
    "collapsed": false,
    "ExecuteTime": {
     "end_time": "2023-11-20T16:36:12.586726Z",
     "start_time": "2023-11-20T16:36:07.279480Z"
    }
   }
  },
  {
   "cell_type": "code",
   "execution_count": null,
   "outputs": [
    {
     "data": {
      "text/plain": "<IPython.core.display.HTML object>",
      "text/html": ""
     },
     "metadata": {},
     "output_type": "display_data"
    },
    {
     "name": "stderr",
     "output_type": "stream",
     "text": [
      "2023-11-20 17:45:38,907\tINFO tune.py:586 -- [output] This uses the legacy output and progress reporter, as Jupyter notebooks are not supported by the new engine, yet. For more information, please see https://github.com/ray-project/ray/issues/36949\n",
      "2023-11-20 17:45:51,583\tERROR tune_controller.py:1383 -- Trial task failed for trial _trainable_76d05b2e\n",
      "Traceback (most recent call last):\n",
      "  File \"/Library/Frameworks/Python.framework/Versions/3.11/lib/python3.11/site-packages/ray/air/execution/_internal/event_manager.py\", line 110, in resolve_future\n",
      "    result = ray.get(future)\n",
      "             ^^^^^^^^^^^^^^^\n",
      "  File \"/Library/Frameworks/Python.framework/Versions/3.11/lib/python3.11/site-packages/ray/_private/auto_init_hook.py\", line 24, in auto_init_wrapper\n",
      "    return fn(*args, **kwargs)\n",
      "           ^^^^^^^^^^^^^^^^^^^\n",
      "  File \"/Library/Frameworks/Python.framework/Versions/3.11/lib/python3.11/site-packages/ray/_private/client_mode_hook.py\", line 103, in wrapper\n",
      "    return func(*args, **kwargs)\n",
      "           ^^^^^^^^^^^^^^^^^^^^^\n",
      "  File \"/Library/Frameworks/Python.framework/Versions/3.11/lib/python3.11/site-packages/ray/_private/worker.py\", line 2563, in get\n",
      "    raise value.as_instanceof_cause()\n",
      "ray.exceptions.RayTaskError(ValueError): \u001B[36mray::ImplicitFunc.train()\u001B[39m (pid=34001, ip=127.0.0.1, actor_id=66e8b18463540b53a839ab4001000000, repr=_trainable)\n",
      "           ^^^^^^^^^^^^^^^^^^^^^^^^^^^^^^^^^^^^\n",
      "           ^^^^^^^^^^^^^^^^^^^^^^^^^^^^^^^\n",
      "  File \"/Library/Frameworks/Python.framework/Versions/3.11/lib/python3.11/site-packages/ray/tune/trainable/trainable.py\", line 342, in train\n",
      "    raise skipped from exception_cause(skipped)\n",
      "  File \"/Library/Frameworks/Python.framework/Versions/3.11/lib/python3.11/site-packages/ray/air/_internal/util.py\", line 91, in run\n",
      "    self._ret = self._target(*self._args, **self._kwargs)\n",
      "                ^^^^^^^^^^^^^^^^^^^^^^^^^^^^^^^^^^^^^^^^^\n",
      "  File \"/Library/Frameworks/Python.framework/Versions/3.11/lib/python3.11/site-packages/ray/tune/trainable/function_trainable.py\", line 115, in <lambda>\n",
      "    training_func=lambda: self._trainable_func(self.config),\n",
      "                          ^^^^^^^^^^^^^^^^^^^^^^^^^^^^^^^^^\n",
      "           ^^^^^^^^^^^^^^^^^^^^^^^^^^^^^^^\n",
      "  File \"/Library/Frameworks/Python.framework/Versions/3.11/lib/python3.11/site-packages/ray/tune/trainable/function_trainable.py\", line 332, in _trainable_func\n",
      "    output = fn()\n",
      "             ^^^^\n",
      "  File \"/Library/Frameworks/Python.framework/Versions/3.11/lib/python3.11/site-packages/ray/tune/trainable/util.py\", line 321, in inner\n",
      "    return trainable(config, **fn_kwargs)\n",
      "           ^^^^^^^^^^^^^^^^^^^^^^^^^^^^^^\n",
      "  File \"/Library/Frameworks/Python.framework/Versions/3.11/lib/python3.11/site-packages/scvi/autotune/_manager.py\", line 400, in _trainable\n",
      "    model.train(\n",
      "  File \"/Library/Frameworks/Python.framework/Versions/3.11/lib/python3.11/site-packages/scvi/model/base/_training_mixin.py\", line 88, in train\n",
      "    return runner()\n",
      "           ^^^^^^^^\n",
      "  File \"/Library/Frameworks/Python.framework/Versions/3.11/lib/python3.11/site-packages/scvi/train/_trainrunner.py\", line 99, in __call__\n",
      "    self.trainer.fit(self.training_plan, self.data_splitter)\n",
      "  File \"/Library/Frameworks/Python.framework/Versions/3.11/lib/python3.11/site-packages/scvi/train/_trainer.py\", line 186, in fit\n",
      "    super().fit(*args, **kwargs)\n",
      "  File \"/Library/Frameworks/Python.framework/Versions/3.11/lib/python3.11/site-packages/lightning/pytorch/trainer/trainer.py\", line 532, in fit\n",
      "    call._call_and_handle_interrupt(\n",
      "  File \"/Library/Frameworks/Python.framework/Versions/3.11/lib/python3.11/site-packages/lightning/pytorch/trainer/call.py\", line 43, in _call_and_handle_interrupt\n",
      "    return trainer_fn(*args, **kwargs)\n",
      "           ^^^^^^^^^^^^^^^^^^^^^^^^^^^\n",
      "  File \"/Library/Frameworks/Python.framework/Versions/3.11/lib/python3.11/site-packages/lightning/pytorch/trainer/trainer.py\", line 571, in _fit_impl\n",
      "    self._run(model, ckpt_path=ckpt_path)\n",
      "  File \"/Library/Frameworks/Python.framework/Versions/3.11/lib/python3.11/site-packages/lightning/pytorch/trainer/trainer.py\", line 980, in _run\n",
      "    results = self._run_stage()\n",
      "              ^^^^^^^^^^^^^^^^^\n",
      "  File \"/Library/Frameworks/Python.framework/Versions/3.11/lib/python3.11/site-packages/lightning/pytorch/trainer/trainer.py\", line 1023, in _run_stage\n",
      "    self.fit_loop.run()\n",
      "  File \"/Library/Frameworks/Python.framework/Versions/3.11/lib/python3.11/site-packages/lightning/pytorch/loops/fit_loop.py\", line 202, in run\n",
      "    self.advance()\n",
      "  File \"/Library/Frameworks/Python.framework/Versions/3.11/lib/python3.11/site-packages/lightning/pytorch/loops/fit_loop.py\", line 355, in advance\n",
      "    self.epoch_loop.run(self._data_fetcher)\n",
      "  File \"/Library/Frameworks/Python.framework/Versions/3.11/lib/python3.11/site-packages/lightning/pytorch/loops/training_epoch_loop.py\", line 133, in run\n",
      "    self.advance(data_fetcher)\n",
      "  File \"/Library/Frameworks/Python.framework/Versions/3.11/lib/python3.11/site-packages/lightning/pytorch/loops/training_epoch_loop.py\", line 219, in advance\n",
      "    batch_output = self.automatic_optimization.run(trainer.optimizers[0], kwargs)\n",
      "                   ^^^^^^^^^^^^^^^^^^^^^^^^^^^^^^^^^^^^^^^^^^^^^^^^^^^^^^^^^^^^^^\n",
      "  File \"/Library/Frameworks/Python.framework/Versions/3.11/lib/python3.11/site-packages/lightning/pytorch/loops/optimization/automatic.py\", line 188, in run\n",
      "    self._optimizer_step(kwargs.get(\"batch_idx\", 0), closure)\n",
      "  File \"/Library/Frameworks/Python.framework/Versions/3.11/lib/python3.11/site-packages/lightning/pytorch/loops/optimization/automatic.py\", line 266, in _optimizer_step\n",
      "    call._call_lightning_module_hook(\n",
      "  File \"/Library/Frameworks/Python.framework/Versions/3.11/lib/python3.11/site-packages/lightning/pytorch/trainer/call.py\", line 146, in _call_lightning_module_hook\n",
      "    output = fn(*args, **kwargs)\n",
      "             ^^^^^^^^^^^^^^^^^^^\n",
      "  File \"/Library/Frameworks/Python.framework/Versions/3.11/lib/python3.11/site-packages/lightning/pytorch/core/module.py\", line 1270, in optimizer_step\n",
      "    optimizer.step(closure=optimizer_closure)\n",
      "  File \"/Library/Frameworks/Python.framework/Versions/3.11/lib/python3.11/site-packages/lightning/pytorch/core/optimizer.py\", line 161, in step\n",
      "    step_output = self._strategy.optimizer_step(self._optimizer, closure, **kwargs)\n",
      "                  ^^^^^^^^^^^^^^^^^^^^^^^^^^^^^^^^^^^^^^^^^^^^^^^^^^^^^^^^^^^^^^^^^\n",
      "  File \"/Library/Frameworks/Python.framework/Versions/3.11/lib/python3.11/site-packages/lightning/pytorch/strategies/strategy.py\", line 231, in optimizer_step\n",
      "    return self.precision_plugin.optimizer_step(optimizer, model=model, closure=closure, **kwargs)\n",
      "           ^^^^^^^^^^^^^^^^^^^^^^^^^^^^^^^^^^^^^^^^^^^^^^^^^^^^^^^^^^^^^^^^^^^^^^^^^^^^^^^^^^^^^^^\n",
      "  File \"/Library/Frameworks/Python.framework/Versions/3.11/lib/python3.11/site-packages/lightning/pytorch/plugins/precision/precision_plugin.py\", line 116, in optimizer_step\n",
      "    return optimizer.step(closure=closure, **kwargs)\n",
      "           ^^^^^^^^^^^^^^^^^^^^^^^^^^^^^^^^^^^^^^^^^\n",
      "  File \"/Library/Frameworks/Python.framework/Versions/3.11/lib/python3.11/site-packages/torch/optim/optimizer.py\", line 280, in wrapper\n",
      "    out = func(*args, **kwargs)\n",
      "          ^^^^^^^^^^^^^^^^^^^^^\n",
      "  File \"/Library/Frameworks/Python.framework/Versions/3.11/lib/python3.11/site-packages/torch/optim/optimizer.py\", line 33, in _use_grad\n",
      "    ret = func(self, *args, **kwargs)\n",
      "          ^^^^^^^^^^^^^^^^^^^^^^^^^^^\n",
      "  File \"/Library/Frameworks/Python.framework/Versions/3.11/lib/python3.11/site-packages/torch/optim/adam.py\", line 121, in step\n",
      "    loss = closure()\n",
      "           ^^^^^^^^^\n",
      "  File \"/Library/Frameworks/Python.framework/Versions/3.11/lib/python3.11/site-packages/lightning/pytorch/plugins/precision/precision_plugin.py\", line 103, in _wrap_closure\n",
      "    closure_result = closure()\n",
      "                     ^^^^^^^^^\n",
      "  File \"/Library/Frameworks/Python.framework/Versions/3.11/lib/python3.11/site-packages/lightning/pytorch/loops/optimization/automatic.py\", line 142, in __call__\n",
      "    self._result = self.closure(*args, **kwargs)\n",
      "                   ^^^^^^^^^^^^^^^^^^^^^^^^^^^^^\n",
      "  File \"/Library/Frameworks/Python.framework/Versions/3.11/lib/python3.11/site-packages/torch/utils/_contextlib.py\", line 115, in decorate_context\n",
      "    return func(*args, **kwargs)\n",
      "           ^^^^^^^^^^^^^^^^^^^^^\n",
      "  File \"/Library/Frameworks/Python.framework/Versions/3.11/lib/python3.11/site-packages/lightning/pytorch/loops/optimization/automatic.py\", line 128, in closure\n",
      "    step_output = self._step_fn()\n",
      "                  ^^^^^^^^^^^^^^^\n",
      "  File \"/Library/Frameworks/Python.framework/Versions/3.11/lib/python3.11/site-packages/lightning/pytorch/loops/optimization/automatic.py\", line 315, in _training_step\n",
      "    training_step_output = call._call_strategy_hook(trainer, \"training_step\", *kwargs.values())\n",
      "                           ^^^^^^^^^^^^^^^^^^^^^^^^^^^^^^^^^^^^^^^^^^^^^^^^^^^^^^^^^^^^^^^^^^^^\n",
      "  File \"/Library/Frameworks/Python.framework/Versions/3.11/lib/python3.11/site-packages/lightning/pytorch/trainer/call.py\", line 294, in _call_strategy_hook\n",
      "    output = fn(*args, **kwargs)\n",
      "             ^^^^^^^^^^^^^^^^^^^\n",
      "  File \"/Library/Frameworks/Python.framework/Versions/3.11/lib/python3.11/site-packages/lightning/pytorch/strategies/strategy.py\", line 380, in training_step\n",
      "    return self.model.training_step(*args, **kwargs)\n",
      "           ^^^^^^^^^^^^^^^^^^^^^^^^^^^^^^^^^^^^^^^^^\n",
      "  File \"/Library/Frameworks/Python.framework/Versions/3.11/lib/python3.11/site-packages/scvi/train/_trainingplans.py\", line 342, in training_step\n",
      "    _, _, scvi_loss = self.forward(batch, loss_kwargs=self.loss_kwargs)\n",
      "                      ^^^^^^^^^^^^^^^^^^^^^^^^^^^^^^^^^^^^^^^^^^^^^^^^^\n",
      "  File \"/Library/Frameworks/Python.framework/Versions/3.11/lib/python3.11/site-packages/scvi/train/_trainingplans.py\", line 278, in forward\n",
      "    return self.module(*args, **kwargs)\n",
      "           ^^^^^^^^^^^^^^^^^^^^^^^^^^^^\n",
      "  File \"/Library/Frameworks/Python.framework/Versions/3.11/lib/python3.11/site-packages/torch/nn/modules/module.py\", line 1501, in _call_impl\n",
      "    return forward_call(*args, **kwargs)\n",
      "           ^^^^^^^^^^^^^^^^^^^^^^^^^^^^^\n",
      "  File \"/Library/Frameworks/Python.framework/Versions/3.11/lib/python3.11/site-packages/scvi/module/base/_decorators.py\", line 32, in auto_transfer_args\n",
      "    return fn(self, *args, **kwargs)\n",
      "           ^^^^^^^^^^^^^^^^^^^^^^^^^\n",
      "  File \"/Library/Frameworks/Python.framework/Versions/3.11/lib/python3.11/site-packages/scvi/module/base/_base_module.py\", line 205, in forward\n",
      "    return _generic_forward(\n",
      "           ^^^^^^^^^^^^^^^^^\n",
      "  File \"/Library/Frameworks/Python.framework/Versions/3.11/lib/python3.11/site-packages/scvi/module/base/_base_module.py\", line 749, in _generic_forward\n",
      "    inference_outputs = module.inference(**inference_inputs, **inference_kwargs)\n",
      "                        ^^^^^^^^^^^^^^^^^^^^^^^^^^^^^^^^^^^^^^^^^^^^^^^^^^^^^^^^\n",
      "  File \"/Library/Frameworks/Python.framework/Versions/3.11/lib/python3.11/site-packages/scvi/module/base/_decorators.py\", line 32, in auto_transfer_args\n",
      "    return fn(self, *args, **kwargs)\n",
      "           ^^^^^^^^^^^^^^^^^^^^^^^^^\n",
      "  File \"/Library/Frameworks/Python.framework/Versions/3.11/lib/python3.11/site-packages/scvi/module/base/_base_module.py\", line 309, in inference\n",
      "    return self._regular_inference(*args, **kwargs)\n",
      "           ^^^^^^^^^^^^^^^^^^^^^^^^^^^^^^^^^^^^^^^^\n",
      "  File \"/Library/Frameworks/Python.framework/Versions/3.11/lib/python3.11/site-packages/scvi/module/base/_decorators.py\", line 32, in auto_transfer_args\n",
      "    return fn(self, *args, **kwargs)\n",
      "           ^^^^^^^^^^^^^^^^^^^^^^^^^\n",
      "  File \"/Library/Frameworks/Python.framework/Versions/3.11/lib/python3.11/site-packages/scvi/module/_vae.py\", line 336, in _regular_inference\n",
      "    qz, z = self.z_encoder(encoder_input, batch_index, *categorical_input)\n",
      "            ^^^^^^^^^^^^^^^^^^^^^^^^^^^^^^^^^^^^^^^^^^^^^^^^^^^^^^^^^^^^^^\n",
      "  File \"/Library/Frameworks/Python.framework/Versions/3.11/lib/python3.11/site-packages/torch/nn/modules/module.py\", line 1501, in _call_impl\n",
      "    return forward_call(*args, **kwargs)\n",
      "           ^^^^^^^^^^^^^^^^^^^^^^^^^^^^^\n",
      "  File \"/Library/Frameworks/Python.framework/Versions/3.11/lib/python3.11/site-packages/scvi/nn/_base_components.py\", line 286, in forward\n",
      "    q = self.encoder(x, *cat_list)\n",
      "        ^^^^^^^^^^^^^^^^^^^^^^^^^^\n",
      "  File \"/Library/Frameworks/Python.framework/Versions/3.11/lib/python3.11/site-packages/torch/nn/modules/module.py\", line 1501, in _call_impl\n",
      "    return forward_call(*args, **kwargs)\n",
      "           ^^^^^^^^^^^^^^^^^^^^^^^^^^^^^\n",
      "  File \"/Library/Frameworks/Python.framework/Versions/3.11/lib/python3.11/site-packages/scvi/nn/_base_components.py\", line 175, in forward\n",
      "    x = layer(x)\n",
      "        ^^^^^^^^\n",
      "  File \"/Library/Frameworks/Python.framework/Versions/3.11/lib/python3.11/site-packages/torch/nn/modules/module.py\", line 1501, in _call_impl\n",
      "    return forward_call(*args, **kwargs)\n",
      "           ^^^^^^^^^^^^^^^^^^^^^^^^^^^^^\n",
      "  File \"/Library/Frameworks/Python.framework/Versions/3.11/lib/python3.11/site-packages/torch/nn/modules/batchnorm.py\", line 171, in forward\n",
      "    return F.batch_norm(\n",
      "           ^^^^^^^^^^^^^\n",
      "  File \"/Library/Frameworks/Python.framework/Versions/3.11/lib/python3.11/site-packages/torch/nn/functional.py\", line 2448, in batch_norm\n",
      "    _verify_batch_size(input.size())\n",
      "  File \"/Library/Frameworks/Python.framework/Versions/3.11/lib/python3.11/site-packages/torch/nn/functional.py\", line 2416, in _verify_batch_size\n",
      "    raise ValueError(\"Expected more than 1 value per channel when training, got input size {}\".format(size))\n",
      "ValueError: Expected more than 1 value per channel when training, got input size torch.Size([1, 256])\n",
      "2023-11-20 17:46:01,022\tERROR tune_controller.py:1383 -- Trial task failed for trial _trainable_05d94137\n",
      "Traceback (most recent call last):\n",
      "  File \"/Library/Frameworks/Python.framework/Versions/3.11/lib/python3.11/site-packages/ray/air/execution/_internal/event_manager.py\", line 110, in resolve_future\n",
      "    result = ray.get(future)\n",
      "             ^^^^^^^^^^^^^^^\n",
      "  File \"/Library/Frameworks/Python.framework/Versions/3.11/lib/python3.11/site-packages/ray/_private/auto_init_hook.py\", line 24, in auto_init_wrapper\n",
      "    return fn(*args, **kwargs)\n",
      "           ^^^^^^^^^^^^^^^^^^^\n",
      "  File \"/Library/Frameworks/Python.framework/Versions/3.11/lib/python3.11/site-packages/ray/_private/client_mode_hook.py\", line 103, in wrapper\n",
      "    return func(*args, **kwargs)\n",
      "           ^^^^^^^^^^^^^^^^^^^^^\n",
      "  File \"/Library/Frameworks/Python.framework/Versions/3.11/lib/python3.11/site-packages/ray/_private/worker.py\", line 2563, in get\n",
      "    raise value.as_instanceof_cause()\n",
      "ray.exceptions.RayTaskError(ValueError): \u001B[36mray::ImplicitFunc.train()\u001B[39m (pid=34009, ip=127.0.0.1, actor_id=236c094fe580c864592e5df401000000, repr=_trainable)\n",
      "           ^^^^^^^^^^^^^^^^^^^^^^^^^^^^^^^^^^^^\n",
      "           ^^^^^^^^^^^^^^^^^^^^^^^^^^^^^^^\n",
      "  File \"/Library/Frameworks/Python.framework/Versions/3.11/lib/python3.11/site-packages/ray/tune/trainable/trainable.py\", line 342, in train\n",
      "    raise skipped from exception_cause(skipped)\n",
      "  File \"/Library/Frameworks/Python.framework/Versions/3.11/lib/python3.11/site-packages/ray/air/_internal/util.py\", line 91, in run\n",
      "    self._ret = self._target(*self._args, **self._kwargs)\n",
      "                ^^^^^^^^^^^^^^^^^^^^^^^^^^^^^^^^^^^^^^^^^\n",
      "  File \"/Library/Frameworks/Python.framework/Versions/3.11/lib/python3.11/site-packages/ray/tune/trainable/function_trainable.py\", line 115, in <lambda>\n",
      "    training_func=lambda: self._trainable_func(self.config),\n",
      "                          ^^^^^^^^^^^^^^^^^^^^^^^^^^^^^^^^^\n",
      "           ^^^^^^^^^^^^^^^^^^^^^^^^^^^^^^^\n",
      "  File \"/Library/Frameworks/Python.framework/Versions/3.11/lib/python3.11/site-packages/ray/tune/trainable/function_trainable.py\", line 332, in _trainable_func\n",
      "    output = fn()\n",
      "             ^^^^\n",
      "  File \"/Library/Frameworks/Python.framework/Versions/3.11/lib/python3.11/site-packages/ray/tune/trainable/util.py\", line 321, in inner\n",
      "    return trainable(config, **fn_kwargs)\n",
      "           ^^^^^^^^^^^^^^^^^^^^^^^^^^^^^^\n",
      "  File \"/Library/Frameworks/Python.framework/Versions/3.11/lib/python3.11/site-packages/scvi/autotune/_manager.py\", line 400, in _trainable\n",
      "    model.train(\n",
      "  File \"/Library/Frameworks/Python.framework/Versions/3.11/lib/python3.11/site-packages/scvi/model/base/_training_mixin.py\", line 88, in train\n",
      "    return runner()\n",
      "           ^^^^^^^^\n",
      "  File \"/Library/Frameworks/Python.framework/Versions/3.11/lib/python3.11/site-packages/scvi/train/_trainrunner.py\", line 99, in __call__\n",
      "    self.trainer.fit(self.training_plan, self.data_splitter)\n",
      "  File \"/Library/Frameworks/Python.framework/Versions/3.11/lib/python3.11/site-packages/scvi/train/_trainer.py\", line 186, in fit\n",
      "    super().fit(*args, **kwargs)\n",
      "  File \"/Library/Frameworks/Python.framework/Versions/3.11/lib/python3.11/site-packages/lightning/pytorch/trainer/trainer.py\", line 532, in fit\n",
      "    call._call_and_handle_interrupt(\n",
      "  File \"/Library/Frameworks/Python.framework/Versions/3.11/lib/python3.11/site-packages/lightning/pytorch/trainer/call.py\", line 43, in _call_and_handle_interrupt\n",
      "    return trainer_fn(*args, **kwargs)\n",
      "           ^^^^^^^^^^^^^^^^^^^^^^^^^^^\n",
      "  File \"/Library/Frameworks/Python.framework/Versions/3.11/lib/python3.11/site-packages/lightning/pytorch/trainer/trainer.py\", line 571, in _fit_impl\n",
      "    self._run(model, ckpt_path=ckpt_path)\n",
      "  File \"/Library/Frameworks/Python.framework/Versions/3.11/lib/python3.11/site-packages/lightning/pytorch/trainer/trainer.py\", line 980, in _run\n",
      "    results = self._run_stage()\n",
      "              ^^^^^^^^^^^^^^^^^\n",
      "  File \"/Library/Frameworks/Python.framework/Versions/3.11/lib/python3.11/site-packages/lightning/pytorch/trainer/trainer.py\", line 1023, in _run_stage\n",
      "    self.fit_loop.run()\n",
      "  File \"/Library/Frameworks/Python.framework/Versions/3.11/lib/python3.11/site-packages/lightning/pytorch/loops/fit_loop.py\", line 202, in run\n",
      "    self.advance()\n",
      "  File \"/Library/Frameworks/Python.framework/Versions/3.11/lib/python3.11/site-packages/lightning/pytorch/loops/fit_loop.py\", line 355, in advance\n",
      "    self.epoch_loop.run(self._data_fetcher)\n",
      "  File \"/Library/Frameworks/Python.framework/Versions/3.11/lib/python3.11/site-packages/lightning/pytorch/loops/training_epoch_loop.py\", line 133, in run\n",
      "    self.advance(data_fetcher)\n",
      "  File \"/Library/Frameworks/Python.framework/Versions/3.11/lib/python3.11/site-packages/lightning/pytorch/loops/training_epoch_loop.py\", line 219, in advance\n",
      "    batch_output = self.automatic_optimization.run(trainer.optimizers[0], kwargs)\n",
      "                   ^^^^^^^^^^^^^^^^^^^^^^^^^^^^^^^^^^^^^^^^^^^^^^^^^^^^^^^^^^^^^^\n",
      "  File \"/Library/Frameworks/Python.framework/Versions/3.11/lib/python3.11/site-packages/lightning/pytorch/loops/optimization/automatic.py\", line 188, in run\n",
      "    self._optimizer_step(kwargs.get(\"batch_idx\", 0), closure)\n",
      "  File \"/Library/Frameworks/Python.framework/Versions/3.11/lib/python3.11/site-packages/lightning/pytorch/loops/optimization/automatic.py\", line 266, in _optimizer_step\n",
      "    call._call_lightning_module_hook(\n",
      "  File \"/Library/Frameworks/Python.framework/Versions/3.11/lib/python3.11/site-packages/lightning/pytorch/trainer/call.py\", line 146, in _call_lightning_module_hook\n",
      "    output = fn(*args, **kwargs)\n",
      "             ^^^^^^^^^^^^^^^^^^^\n",
      "  File \"/Library/Frameworks/Python.framework/Versions/3.11/lib/python3.11/site-packages/lightning/pytorch/core/module.py\", line 1270, in optimizer_step\n",
      "    optimizer.step(closure=optimizer_closure)\n",
      "  File \"/Library/Frameworks/Python.framework/Versions/3.11/lib/python3.11/site-packages/lightning/pytorch/core/optimizer.py\", line 161, in step\n",
      "    step_output = self._strategy.optimizer_step(self._optimizer, closure, **kwargs)\n",
      "                  ^^^^^^^^^^^^^^^^^^^^^^^^^^^^^^^^^^^^^^^^^^^^^^^^^^^^^^^^^^^^^^^^^\n",
      "  File \"/Library/Frameworks/Python.framework/Versions/3.11/lib/python3.11/site-packages/lightning/pytorch/strategies/strategy.py\", line 231, in optimizer_step\n",
      "    return self.precision_plugin.optimizer_step(optimizer, model=model, closure=closure, **kwargs)\n",
      "           ^^^^^^^^^^^^^^^^^^^^^^^^^^^^^^^^^^^^^^^^^^^^^^^^^^^^^^^^^^^^^^^^^^^^^^^^^^^^^^^^^^^^^^^\n",
      "  File \"/Library/Frameworks/Python.framework/Versions/3.11/lib/python3.11/site-packages/lightning/pytorch/plugins/precision/precision_plugin.py\", line 116, in optimizer_step\n",
      "    return optimizer.step(closure=closure, **kwargs)\n",
      "           ^^^^^^^^^^^^^^^^^^^^^^^^^^^^^^^^^^^^^^^^^\n",
      "  File \"/Library/Frameworks/Python.framework/Versions/3.11/lib/python3.11/site-packages/torch/optim/optimizer.py\", line 280, in wrapper\n",
      "    out = func(*args, **kwargs)\n",
      "          ^^^^^^^^^^^^^^^^^^^^^\n",
      "  File \"/Library/Frameworks/Python.framework/Versions/3.11/lib/python3.11/site-packages/torch/optim/optimizer.py\", line 33, in _use_grad\n",
      "    ret = func(self, *args, **kwargs)\n",
      "          ^^^^^^^^^^^^^^^^^^^^^^^^^^^\n",
      "  File \"/Library/Frameworks/Python.framework/Versions/3.11/lib/python3.11/site-packages/torch/optim/adam.py\", line 121, in step\n",
      "    loss = closure()\n",
      "           ^^^^^^^^^\n",
      "  File \"/Library/Frameworks/Python.framework/Versions/3.11/lib/python3.11/site-packages/lightning/pytorch/plugins/precision/precision_plugin.py\", line 103, in _wrap_closure\n",
      "    closure_result = closure()\n",
      "                     ^^^^^^^^^\n",
      "  File \"/Library/Frameworks/Python.framework/Versions/3.11/lib/python3.11/site-packages/lightning/pytorch/loops/optimization/automatic.py\", line 142, in __call__\n",
      "    self._result = self.closure(*args, **kwargs)\n",
      "                   ^^^^^^^^^^^^^^^^^^^^^^^^^^^^^\n",
      "  File \"/Library/Frameworks/Python.framework/Versions/3.11/lib/python3.11/site-packages/torch/utils/_contextlib.py\", line 115, in decorate_context\n",
      "    return func(*args, **kwargs)\n",
      "           ^^^^^^^^^^^^^^^^^^^^^\n",
      "  File \"/Library/Frameworks/Python.framework/Versions/3.11/lib/python3.11/site-packages/lightning/pytorch/loops/optimization/automatic.py\", line 128, in closure\n",
      "    step_output = self._step_fn()\n",
      "                  ^^^^^^^^^^^^^^^\n",
      "  File \"/Library/Frameworks/Python.framework/Versions/3.11/lib/python3.11/site-packages/lightning/pytorch/loops/optimization/automatic.py\", line 315, in _training_step\n",
      "    training_step_output = call._call_strategy_hook(trainer, \"training_step\", *kwargs.values())\n",
      "                           ^^^^^^^^^^^^^^^^^^^^^^^^^^^^^^^^^^^^^^^^^^^^^^^^^^^^^^^^^^^^^^^^^^^^\n",
      "  File \"/Library/Frameworks/Python.framework/Versions/3.11/lib/python3.11/site-packages/lightning/pytorch/trainer/call.py\", line 294, in _call_strategy_hook\n",
      "    output = fn(*args, **kwargs)\n",
      "             ^^^^^^^^^^^^^^^^^^^\n",
      "  File \"/Library/Frameworks/Python.framework/Versions/3.11/lib/python3.11/site-packages/lightning/pytorch/strategies/strategy.py\", line 380, in training_step\n",
      "    return self.model.training_step(*args, **kwargs)\n",
      "           ^^^^^^^^^^^^^^^^^^^^^^^^^^^^^^^^^^^^^^^^^\n",
      "  File \"/Library/Frameworks/Python.framework/Versions/3.11/lib/python3.11/site-packages/scvi/train/_trainingplans.py\", line 342, in training_step\n",
      "    _, _, scvi_loss = self.forward(batch, loss_kwargs=self.loss_kwargs)\n",
      "                      ^^^^^^^^^^^^^^^^^^^^^^^^^^^^^^^^^^^^^^^^^^^^^^^^^\n",
      "  File \"/Library/Frameworks/Python.framework/Versions/3.11/lib/python3.11/site-packages/scvi/train/_trainingplans.py\", line 278, in forward\n",
      "    return self.module(*args, **kwargs)\n",
      "           ^^^^^^^^^^^^^^^^^^^^^^^^^^^^\n",
      "  File \"/Library/Frameworks/Python.framework/Versions/3.11/lib/python3.11/site-packages/torch/nn/modules/module.py\", line 1501, in _call_impl\n",
      "    return forward_call(*args, **kwargs)\n",
      "           ^^^^^^^^^^^^^^^^^^^^^^^^^^^^^\n",
      "  File \"/Library/Frameworks/Python.framework/Versions/3.11/lib/python3.11/site-packages/scvi/module/base/_decorators.py\", line 32, in auto_transfer_args\n",
      "    return fn(self, *args, **kwargs)\n",
      "           ^^^^^^^^^^^^^^^^^^^^^^^^^\n",
      "  File \"/Library/Frameworks/Python.framework/Versions/3.11/lib/python3.11/site-packages/scvi/module/base/_base_module.py\", line 205, in forward\n",
      "    return _generic_forward(\n",
      "           ^^^^^^^^^^^^^^^^^\n",
      "  File \"/Library/Frameworks/Python.framework/Versions/3.11/lib/python3.11/site-packages/scvi/module/base/_base_module.py\", line 749, in _generic_forward\n",
      "    inference_outputs = module.inference(**inference_inputs, **inference_kwargs)\n",
      "                        ^^^^^^^^^^^^^^^^^^^^^^^^^^^^^^^^^^^^^^^^^^^^^^^^^^^^^^^^\n",
      "  File \"/Library/Frameworks/Python.framework/Versions/3.11/lib/python3.11/site-packages/scvi/module/base/_decorators.py\", line 32, in auto_transfer_args\n",
      "    return fn(self, *args, **kwargs)\n",
      "           ^^^^^^^^^^^^^^^^^^^^^^^^^\n",
      "  File \"/Library/Frameworks/Python.framework/Versions/3.11/lib/python3.11/site-packages/scvi/module/base/_base_module.py\", line 309, in inference\n",
      "    return self._regular_inference(*args, **kwargs)\n",
      "           ^^^^^^^^^^^^^^^^^^^^^^^^^^^^^^^^^^^^^^^^\n",
      "  File \"/Library/Frameworks/Python.framework/Versions/3.11/lib/python3.11/site-packages/scvi/module/base/_decorators.py\", line 32, in auto_transfer_args\n",
      "    return fn(self, *args, **kwargs)\n",
      "           ^^^^^^^^^^^^^^^^^^^^^^^^^\n",
      "  File \"/Library/Frameworks/Python.framework/Versions/3.11/lib/python3.11/site-packages/scvi/module/_vae.py\", line 336, in _regular_inference\n",
      "    qz, z = self.z_encoder(encoder_input, batch_index, *categorical_input)\n",
      "            ^^^^^^^^^^^^^^^^^^^^^^^^^^^^^^^^^^^^^^^^^^^^^^^^^^^^^^^^^^^^^^\n",
      "  File \"/Library/Frameworks/Python.framework/Versions/3.11/lib/python3.11/site-packages/torch/nn/modules/module.py\", line 1501, in _call_impl\n",
      "    return forward_call(*args, **kwargs)\n",
      "           ^^^^^^^^^^^^^^^^^^^^^^^^^^^^^\n",
      "  File \"/Library/Frameworks/Python.framework/Versions/3.11/lib/python3.11/site-packages/scvi/nn/_base_components.py\", line 286, in forward\n",
      "    q = self.encoder(x, *cat_list)\n",
      "        ^^^^^^^^^^^^^^^^^^^^^^^^^^\n",
      "  File \"/Library/Frameworks/Python.framework/Versions/3.11/lib/python3.11/site-packages/torch/nn/modules/module.py\", line 1501, in _call_impl\n",
      "    return forward_call(*args, **kwargs)\n",
      "           ^^^^^^^^^^^^^^^^^^^^^^^^^^^^^\n",
      "  File \"/Library/Frameworks/Python.framework/Versions/3.11/lib/python3.11/site-packages/scvi/nn/_base_components.py\", line 175, in forward\n",
      "    x = layer(x)\n",
      "        ^^^^^^^^\n",
      "  File \"/Library/Frameworks/Python.framework/Versions/3.11/lib/python3.11/site-packages/torch/nn/modules/module.py\", line 1501, in _call_impl\n",
      "    return forward_call(*args, **kwargs)\n",
      "           ^^^^^^^^^^^^^^^^^^^^^^^^^^^^^\n",
      "  File \"/Library/Frameworks/Python.framework/Versions/3.11/lib/python3.11/site-packages/torch/nn/modules/batchnorm.py\", line 171, in forward\n",
      "    return F.batch_norm(\n",
      "           ^^^^^^^^^^^^^\n",
      "  File \"/Library/Frameworks/Python.framework/Versions/3.11/lib/python3.11/site-packages/torch/nn/functional.py\", line 2448, in batch_norm\n",
      "    _verify_batch_size(input.size())\n",
      "  File \"/Library/Frameworks/Python.framework/Versions/3.11/lib/python3.11/site-packages/torch/nn/functional.py\", line 2416, in _verify_batch_size\n",
      "    raise ValueError(\"Expected more than 1 value per channel when training, got input size {}\".format(size))\n",
      "ValueError: Expected more than 1 value per channel when training, got input size torch.Size([1, 256])\n",
      "2023-11-20 17:46:11,650\tERROR tune_controller.py:1383 -- Trial task failed for trial _trainable_28b49ed9\n",
      "Traceback (most recent call last):\n",
      "  File \"/Library/Frameworks/Python.framework/Versions/3.11/lib/python3.11/site-packages/ray/air/execution/_internal/event_manager.py\", line 110, in resolve_future\n",
      "    result = ray.get(future)\n",
      "             ^^^^^^^^^^^^^^^\n",
      "  File \"/Library/Frameworks/Python.framework/Versions/3.11/lib/python3.11/site-packages/ray/_private/auto_init_hook.py\", line 24, in auto_init_wrapper\n",
      "    return fn(*args, **kwargs)\n",
      "           ^^^^^^^^^^^^^^^^^^^\n",
      "  File \"/Library/Frameworks/Python.framework/Versions/3.11/lib/python3.11/site-packages/ray/_private/client_mode_hook.py\", line 103, in wrapper\n",
      "    return func(*args, **kwargs)\n",
      "           ^^^^^^^^^^^^^^^^^^^^^\n",
      "  File \"/Library/Frameworks/Python.framework/Versions/3.11/lib/python3.11/site-packages/ray/_private/worker.py\", line 2563, in get\n",
      "    raise value.as_instanceof_cause()\n",
      "ray.exceptions.RayTaskError(ValueError): \u001B[36mray::ImplicitFunc.train()\u001B[39m (pid=34018, ip=127.0.0.1, actor_id=89e9f1a663abec4e510ceb1d01000000, repr=_trainable)\n",
      "           ^^^^^^^^^^^^^^^^^^^^^^^^^^^^^^^^^^^^\n",
      "           ^^^^^^^^^^^^^^^^^^^^^^^^^^^^^^^\n",
      "  File \"/Library/Frameworks/Python.framework/Versions/3.11/lib/python3.11/site-packages/ray/tune/trainable/trainable.py\", line 342, in train\n",
      "    raise skipped from exception_cause(skipped)\n",
      "  File \"/Library/Frameworks/Python.framework/Versions/3.11/lib/python3.11/site-packages/ray/air/_internal/util.py\", line 91, in run\n",
      "    self._ret = self._target(*self._args, **self._kwargs)\n",
      "                ^^^^^^^^^^^^^^^^^^^^^^^^^^^^^^^^^^^^^^^^^\n",
      "  File \"/Library/Frameworks/Python.framework/Versions/3.11/lib/python3.11/site-packages/ray/tune/trainable/function_trainable.py\", line 115, in <lambda>\n",
      "    training_func=lambda: self._trainable_func(self.config),\n",
      "                          ^^^^^^^^^^^^^^^^^^^^^^^^^^^^^^^^^\n",
      "           ^^^^^^^^^^^^^^^^^^^^^^^^^^^^^^^\n",
      "  File \"/Library/Frameworks/Python.framework/Versions/3.11/lib/python3.11/site-packages/ray/tune/trainable/function_trainable.py\", line 332, in _trainable_func\n",
      "    output = fn()\n",
      "             ^^^^\n",
      "  File \"/Library/Frameworks/Python.framework/Versions/3.11/lib/python3.11/site-packages/ray/tune/trainable/util.py\", line 321, in inner\n",
      "    return trainable(config, **fn_kwargs)\n",
      "           ^^^^^^^^^^^^^^^^^^^^^^^^^^^^^^\n",
      "  File \"/Library/Frameworks/Python.framework/Versions/3.11/lib/python3.11/site-packages/scvi/autotune/_manager.py\", line 400, in _trainable\n",
      "    model.train(\n",
      "  File \"/Library/Frameworks/Python.framework/Versions/3.11/lib/python3.11/site-packages/scvi/model/base/_training_mixin.py\", line 88, in train\n",
      "    return runner()\n",
      "           ^^^^^^^^\n",
      "  File \"/Library/Frameworks/Python.framework/Versions/3.11/lib/python3.11/site-packages/scvi/train/_trainrunner.py\", line 99, in __call__\n",
      "    self.trainer.fit(self.training_plan, self.data_splitter)\n",
      "  File \"/Library/Frameworks/Python.framework/Versions/3.11/lib/python3.11/site-packages/scvi/train/_trainer.py\", line 186, in fit\n",
      "    super().fit(*args, **kwargs)\n",
      "  File \"/Library/Frameworks/Python.framework/Versions/3.11/lib/python3.11/site-packages/lightning/pytorch/trainer/trainer.py\", line 532, in fit\n",
      "    call._call_and_handle_interrupt(\n",
      "  File \"/Library/Frameworks/Python.framework/Versions/3.11/lib/python3.11/site-packages/lightning/pytorch/trainer/call.py\", line 43, in _call_and_handle_interrupt\n",
      "    return trainer_fn(*args, **kwargs)\n",
      "           ^^^^^^^^^^^^^^^^^^^^^^^^^^^\n",
      "  File \"/Library/Frameworks/Python.framework/Versions/3.11/lib/python3.11/site-packages/lightning/pytorch/trainer/trainer.py\", line 571, in _fit_impl\n",
      "    self._run(model, ckpt_path=ckpt_path)\n",
      "  File \"/Library/Frameworks/Python.framework/Versions/3.11/lib/python3.11/site-packages/lightning/pytorch/trainer/trainer.py\", line 980, in _run\n",
      "    results = self._run_stage()\n",
      "              ^^^^^^^^^^^^^^^^^\n",
      "  File \"/Library/Frameworks/Python.framework/Versions/3.11/lib/python3.11/site-packages/lightning/pytorch/trainer/trainer.py\", line 1023, in _run_stage\n",
      "    self.fit_loop.run()\n",
      "  File \"/Library/Frameworks/Python.framework/Versions/3.11/lib/python3.11/site-packages/lightning/pytorch/loops/fit_loop.py\", line 202, in run\n",
      "    self.advance()\n",
      "  File \"/Library/Frameworks/Python.framework/Versions/3.11/lib/python3.11/site-packages/lightning/pytorch/loops/fit_loop.py\", line 355, in advance\n",
      "    self.epoch_loop.run(self._data_fetcher)\n",
      "  File \"/Library/Frameworks/Python.framework/Versions/3.11/lib/python3.11/site-packages/lightning/pytorch/loops/training_epoch_loop.py\", line 133, in run\n",
      "    self.advance(data_fetcher)\n",
      "  File \"/Library/Frameworks/Python.framework/Versions/3.11/lib/python3.11/site-packages/lightning/pytorch/loops/training_epoch_loop.py\", line 219, in advance\n",
      "    batch_output = self.automatic_optimization.run(trainer.optimizers[0], kwargs)\n",
      "                   ^^^^^^^^^^^^^^^^^^^^^^^^^^^^^^^^^^^^^^^^^^^^^^^^^^^^^^^^^^^^^^\n",
      "  File \"/Library/Frameworks/Python.framework/Versions/3.11/lib/python3.11/site-packages/lightning/pytorch/loops/optimization/automatic.py\", line 188, in run\n",
      "    self._optimizer_step(kwargs.get(\"batch_idx\", 0), closure)\n",
      "  File \"/Library/Frameworks/Python.framework/Versions/3.11/lib/python3.11/site-packages/lightning/pytorch/loops/optimization/automatic.py\", line 266, in _optimizer_step\n",
      "    call._call_lightning_module_hook(\n",
      "  File \"/Library/Frameworks/Python.framework/Versions/3.11/lib/python3.11/site-packages/lightning/pytorch/trainer/call.py\", line 146, in _call_lightning_module_hook\n",
      "    output = fn(*args, **kwargs)\n",
      "             ^^^^^^^^^^^^^^^^^^^\n",
      "  File \"/Library/Frameworks/Python.framework/Versions/3.11/lib/python3.11/site-packages/lightning/pytorch/core/module.py\", line 1270, in optimizer_step\n",
      "    optimizer.step(closure=optimizer_closure)\n",
      "  File \"/Library/Frameworks/Python.framework/Versions/3.11/lib/python3.11/site-packages/lightning/pytorch/core/optimizer.py\", line 161, in step\n",
      "    step_output = self._strategy.optimizer_step(self._optimizer, closure, **kwargs)\n",
      "                  ^^^^^^^^^^^^^^^^^^^^^^^^^^^^^^^^^^^^^^^^^^^^^^^^^^^^^^^^^^^^^^^^^\n",
      "  File \"/Library/Frameworks/Python.framework/Versions/3.11/lib/python3.11/site-packages/lightning/pytorch/strategies/strategy.py\", line 231, in optimizer_step\n",
      "    return self.precision_plugin.optimizer_step(optimizer, model=model, closure=closure, **kwargs)\n",
      "           ^^^^^^^^^^^^^^^^^^^^^^^^^^^^^^^^^^^^^^^^^^^^^^^^^^^^^^^^^^^^^^^^^^^^^^^^^^^^^^^^^^^^^^^\n",
      "  File \"/Library/Frameworks/Python.framework/Versions/3.11/lib/python3.11/site-packages/lightning/pytorch/plugins/precision/precision_plugin.py\", line 116, in optimizer_step\n",
      "    return optimizer.step(closure=closure, **kwargs)\n",
      "           ^^^^^^^^^^^^^^^^^^^^^^^^^^^^^^^^^^^^^^^^^\n",
      "  File \"/Library/Frameworks/Python.framework/Versions/3.11/lib/python3.11/site-packages/torch/optim/optimizer.py\", line 280, in wrapper\n",
      "    out = func(*args, **kwargs)\n",
      "          ^^^^^^^^^^^^^^^^^^^^^\n",
      "  File \"/Library/Frameworks/Python.framework/Versions/3.11/lib/python3.11/site-packages/torch/optim/optimizer.py\", line 33, in _use_grad\n",
      "    ret = func(self, *args, **kwargs)\n",
      "          ^^^^^^^^^^^^^^^^^^^^^^^^^^^\n",
      "  File \"/Library/Frameworks/Python.framework/Versions/3.11/lib/python3.11/site-packages/torch/optim/adam.py\", line 121, in step\n",
      "    loss = closure()\n",
      "           ^^^^^^^^^\n",
      "  File \"/Library/Frameworks/Python.framework/Versions/3.11/lib/python3.11/site-packages/lightning/pytorch/plugins/precision/precision_plugin.py\", line 103, in _wrap_closure\n",
      "    closure_result = closure()\n",
      "                     ^^^^^^^^^\n",
      "  File \"/Library/Frameworks/Python.framework/Versions/3.11/lib/python3.11/site-packages/lightning/pytorch/loops/optimization/automatic.py\", line 142, in __call__\n",
      "    self._result = self.closure(*args, **kwargs)\n",
      "                   ^^^^^^^^^^^^^^^^^^^^^^^^^^^^^\n",
      "  File \"/Library/Frameworks/Python.framework/Versions/3.11/lib/python3.11/site-packages/torch/utils/_contextlib.py\", line 115, in decorate_context\n",
      "    return func(*args, **kwargs)\n",
      "           ^^^^^^^^^^^^^^^^^^^^^\n",
      "  File \"/Library/Frameworks/Python.framework/Versions/3.11/lib/python3.11/site-packages/lightning/pytorch/loops/optimization/automatic.py\", line 128, in closure\n",
      "    step_output = self._step_fn()\n",
      "                  ^^^^^^^^^^^^^^^\n",
      "  File \"/Library/Frameworks/Python.framework/Versions/3.11/lib/python3.11/site-packages/lightning/pytorch/loops/optimization/automatic.py\", line 315, in _training_step\n",
      "    training_step_output = call._call_strategy_hook(trainer, \"training_step\", *kwargs.values())\n",
      "                           ^^^^^^^^^^^^^^^^^^^^^^^^^^^^^^^^^^^^^^^^^^^^^^^^^^^^^^^^^^^^^^^^^^^^\n",
      "  File \"/Library/Frameworks/Python.framework/Versions/3.11/lib/python3.11/site-packages/lightning/pytorch/trainer/call.py\", line 294, in _call_strategy_hook\n",
      "    output = fn(*args, **kwargs)\n",
      "             ^^^^^^^^^^^^^^^^^^^\n",
      "  File \"/Library/Frameworks/Python.framework/Versions/3.11/lib/python3.11/site-packages/lightning/pytorch/strategies/strategy.py\", line 380, in training_step\n",
      "    return self.model.training_step(*args, **kwargs)\n",
      "           ^^^^^^^^^^^^^^^^^^^^^^^^^^^^^^^^^^^^^^^^^\n",
      "  File \"/Library/Frameworks/Python.framework/Versions/3.11/lib/python3.11/site-packages/scvi/train/_trainingplans.py\", line 342, in training_step\n",
      "    _, _, scvi_loss = self.forward(batch, loss_kwargs=self.loss_kwargs)\n",
      "                      ^^^^^^^^^^^^^^^^^^^^^^^^^^^^^^^^^^^^^^^^^^^^^^^^^\n",
      "  File \"/Library/Frameworks/Python.framework/Versions/3.11/lib/python3.11/site-packages/scvi/train/_trainingplans.py\", line 278, in forward\n",
      "    return self.module(*args, **kwargs)\n",
      "           ^^^^^^^^^^^^^^^^^^^^^^^^^^^^\n",
      "  File \"/Library/Frameworks/Python.framework/Versions/3.11/lib/python3.11/site-packages/torch/nn/modules/module.py\", line 1501, in _call_impl\n",
      "    return forward_call(*args, **kwargs)\n",
      "           ^^^^^^^^^^^^^^^^^^^^^^^^^^^^^\n",
      "  File \"/Library/Frameworks/Python.framework/Versions/3.11/lib/python3.11/site-packages/scvi/module/base/_decorators.py\", line 32, in auto_transfer_args\n",
      "    return fn(self, *args, **kwargs)\n",
      "           ^^^^^^^^^^^^^^^^^^^^^^^^^\n",
      "  File \"/Library/Frameworks/Python.framework/Versions/3.11/lib/python3.11/site-packages/scvi/module/base/_base_module.py\", line 205, in forward\n",
      "    return _generic_forward(\n",
      "           ^^^^^^^^^^^^^^^^^\n",
      "  File \"/Library/Frameworks/Python.framework/Versions/3.11/lib/python3.11/site-packages/scvi/module/base/_base_module.py\", line 749, in _generic_forward\n",
      "    inference_outputs = module.inference(**inference_inputs, **inference_kwargs)\n",
      "                        ^^^^^^^^^^^^^^^^^^^^^^^^^^^^^^^^^^^^^^^^^^^^^^^^^^^^^^^^\n",
      "  File \"/Library/Frameworks/Python.framework/Versions/3.11/lib/python3.11/site-packages/scvi/module/base/_decorators.py\", line 32, in auto_transfer_args\n",
      "    return fn(self, *args, **kwargs)\n",
      "           ^^^^^^^^^^^^^^^^^^^^^^^^^\n",
      "  File \"/Library/Frameworks/Python.framework/Versions/3.11/lib/python3.11/site-packages/scvi/module/base/_base_module.py\", line 309, in inference\n",
      "    return self._regular_inference(*args, **kwargs)\n",
      "           ^^^^^^^^^^^^^^^^^^^^^^^^^^^^^^^^^^^^^^^^\n",
      "  File \"/Library/Frameworks/Python.framework/Versions/3.11/lib/python3.11/site-packages/scvi/module/base/_decorators.py\", line 32, in auto_transfer_args\n",
      "    return fn(self, *args, **kwargs)\n",
      "           ^^^^^^^^^^^^^^^^^^^^^^^^^\n",
      "  File \"/Library/Frameworks/Python.framework/Versions/3.11/lib/python3.11/site-packages/scvi/module/_vae.py\", line 336, in _regular_inference\n",
      "    qz, z = self.z_encoder(encoder_input, batch_index, *categorical_input)\n",
      "            ^^^^^^^^^^^^^^^^^^^^^^^^^^^^^^^^^^^^^^^^^^^^^^^^^^^^^^^^^^^^^^\n",
      "  File \"/Library/Frameworks/Python.framework/Versions/3.11/lib/python3.11/site-packages/torch/nn/modules/module.py\", line 1501, in _call_impl\n",
      "    return forward_call(*args, **kwargs)\n",
      "           ^^^^^^^^^^^^^^^^^^^^^^^^^^^^^\n",
      "  File \"/Library/Frameworks/Python.framework/Versions/3.11/lib/python3.11/site-packages/scvi/nn/_base_components.py\", line 286, in forward\n",
      "    q = self.encoder(x, *cat_list)\n",
      "        ^^^^^^^^^^^^^^^^^^^^^^^^^^\n",
      "  File \"/Library/Frameworks/Python.framework/Versions/3.11/lib/python3.11/site-packages/torch/nn/modules/module.py\", line 1501, in _call_impl\n",
      "    return forward_call(*args, **kwargs)\n",
      "           ^^^^^^^^^^^^^^^^^^^^^^^^^^^^^\n",
      "  File \"/Library/Frameworks/Python.framework/Versions/3.11/lib/python3.11/site-packages/scvi/nn/_base_components.py\", line 175, in forward\n",
      "    x = layer(x)\n",
      "        ^^^^^^^^\n",
      "  File \"/Library/Frameworks/Python.framework/Versions/3.11/lib/python3.11/site-packages/torch/nn/modules/module.py\", line 1501, in _call_impl\n",
      "    return forward_call(*args, **kwargs)\n",
      "           ^^^^^^^^^^^^^^^^^^^^^^^^^^^^^\n",
      "  File \"/Library/Frameworks/Python.framework/Versions/3.11/lib/python3.11/site-packages/torch/nn/modules/batchnorm.py\", line 171, in forward\n",
      "    return F.batch_norm(\n",
      "           ^^^^^^^^^^^^^\n",
      "  File \"/Library/Frameworks/Python.framework/Versions/3.11/lib/python3.11/site-packages/torch/nn/functional.py\", line 2448, in batch_norm\n",
      "    _verify_batch_size(input.size())\n",
      "  File \"/Library/Frameworks/Python.framework/Versions/3.11/lib/python3.11/site-packages/torch/nn/functional.py\", line 2416, in _verify_batch_size\n",
      "    raise ValueError(\"Expected more than 1 value per channel when training, got input size {}\".format(size))\n",
      "ValueError: Expected more than 1 value per channel when training, got input size torch.Size([1, 128])\n",
      "2023-11-20 17:46:16,226\tWARNING tune.py:186 -- Stop signal received (e.g. via SIGINT/Ctrl+C), ending Ray Tune run. This will try to checkpoint the experiment state one last time. Press CTRL+C (or send SIGINT/SIGKILL/SIGTERM) to skip. \n"
     ]
    }
   ],
   "source": [
    "results = scvi_tuner.fit(\n",
    "    adata,\n",
    "    metric=\"validation_loss\",\n",
    "    search_space=search_space,\n",
    "    num_samples=5,\n",
    "    max_epochs=100,\n",
    "    resources={\"cpu\": 8},\n",
    ")"
   ],
   "metadata": {
    "collapsed": false,
    "is_executing": true
   }
  },
  {
   "cell_type": "code",
   "execution_count": null,
   "outputs": [],
   "source": [
    "print(results.model_kwargs)\n",
    "print(results.train_kwargs)"
   ],
   "metadata": {
    "collapsed": false
   }
  },
  {
   "cell_type": "code",
   "execution_count": null,
   "outputs": [],
   "source": [],
   "metadata": {
    "collapsed": false
   }
  },
  {
   "cell_type": "code",
   "execution_count": null,
   "metadata": {
    "collapsed": false,
    "jupyter": {
     "outputs_hidden": false
    }
   },
   "outputs": [],
   "source": [
    "t_model = scvi.model.SCVI.load(\"scvi_model/\", adata=adata)"
   ]
  },
  {
   "cell_type": "code",
   "execution_count": null,
   "metadata": {},
   "outputs": [],
   "source": [
    "t_model"
   ]
  },
  {
   "cell_type": "markdown",
   "source": [
    "# PCA umap"
   ],
   "metadata": {
    "collapsed": false
   },
   "outputs": [
    {
     "data": {
      "text/plain": "SCVI Model with the following params: \nn_hidden: \u001B[1;36m128\u001B[0m, n_latent: \u001B[1;36m10\u001B[0m, n_layers: \u001B[1;36m1\u001B[0m, dropout_rate: \u001B[1;36m0.1\u001B[0m, dispersion: gene, gene_likelihood: zinb, \nlatent_distribution: normal\nTraining status: Trained\nModel's adata is minified?: \u001B[3;91mFalse\u001B[0m\n",
      "text/html": "<pre style=\"white-space:pre;overflow-x:auto;line-height:normal;font-family:Menlo,'DejaVu Sans Mono',consolas,'Courier New',monospace\">SCVI Model with the following params: \nn_hidden: <span style=\"color: #008080; text-decoration-color: #008080; font-weight: bold\">128</span>, n_latent: <span style=\"color: #008080; text-decoration-color: #008080; font-weight: bold\">10</span>, n_layers: <span style=\"color: #008080; text-decoration-color: #008080; font-weight: bold\">1</span>, dropout_rate: <span style=\"color: #008080; text-decoration-color: #008080; font-weight: bold\">0.1</span>, dispersion: gene, gene_likelihood: zinb, \nlatent_distribution: normal\nTraining status: Trained\nModel's adata is minified?: <span style=\"color: #ff0000; text-decoration-color: #ff0000; font-style: italic\">False</span>\n</pre>\n"
     },
     "metadata": {},
     "output_type": "display_data"
    },
    {
     "data": {
      "text/plain": ""
     },
     "execution_count": 218,
     "metadata": {},
     "output_type": "execute_result"
    }
   ],
   "execution_count": 218
  },
  {
   "cell_type": "code",
   "execution_count": null,
   "outputs": [],
   "source": [
    "sc.tl.pca(adata, n_comps=15)\n",
    "sc.pp.neighbors(adata, n_pcs=15)\n",
    "sc.tl.umap(adata, min_dist=0.3)"
   ],
   "metadata": {
    "collapsed": false
   }
  },
  {
   "cell_type": "code",
   "execution_count": null,
   "outputs": [],
   "source": [
    "sc.pl.umap(\n",
    "    adata,\n",
    "    color=[\"batch\"],\n",
    "    frameon=False,\n",
    ")"
   ],
   "metadata": {
    "collapsed": false
   }
  },
  {
   "cell_type": "markdown",
   "source": [
    "# latent umap"
   ],
   "metadata": {
    "collapsed": false
   },
   "outputs": [
    {
     "data": {
      "text/plain": "<Figure size 400x400 with 1 Axes>",
      "image/png": "[encoded data removed]"
     },
     "metadata": {
      "image/png": {
       "width": 346,
       "height": 338
      }
     },
     "output_type": "display_data"
    }
   ],
   "execution_count": 220
  },
  {
   "cell_type": "code",
   "execution_count": null,
   "metadata": {
    "collapsed": false,
    "jupyter": {
     "outputs_hidden": false
    }
   },
   "outputs": [],
   "source": [
    "adata.obsm[\"X_scvi\"] = t_model.get_latent_representation()\n",
    "adata.layers['scvi_normalized'] = t_model.get_normalized_expression(libray_size = 1e5)"
   ]
  },
  {
   "cell_type": "code",
   "execution_count": null,
   "metadata": {},
   "outputs": [],
   "source": [
    "sc.pp.neighbors(adata, use_rep=\"X_scvi\")\n",
    "sc.tl.umap(adata)\n",
    "sc.pl.umap(\n",
    "    adata,\n",
    "    title=\"hiPSC\",\n",
    "    color=[\"batch\", \"run\"],\n",
    "    frameon=False,\n",
    "    ncols=1\n",
    ")\n"
   ]
  },
  {
   "cell_type": "code",
   "execution_count": null,
   "outputs": [],
   "source": [
    "sc.tl.leiden(adata, key_added=\"leiden_scVI\", resolution=0.3)\n",
    "sc.pl.umap(\n",
    "    adata,\n",
    "    color=[\"leiden_scVI\"],\n",
    "    frameon=False,\n",
    ")"
   ],
   "metadata": {
    "collapsed": false
   }
  },
  {
   "cell_type": "code",
   "execution_count": null,
   "outputs": [],
   "source": [
    "t_model.history"
   ],
   "metadata": {
    "collapsed": false
   }
  },
  {
   "cell_type": "code",
   "execution_count": null,
   "outputs": [],
   "source": [],
   "metadata": {
    "collapsed": false
   }
  }
 ],
 "metadata": {
  "kernelspec": {
   "display_name": "Python 3 (ipykernel)",
   "language": "python",
   "name": "python3"
  },
  "language_info": {
   "codemirror_mode": {
    "name": "ipython",
    "version": 3
   },
   "file_extension": ".py",
   "mimetype": "text/x-python",
   "name": "python",
   "nbconvert_exporter": "python",
   "pygments_lexer": "ipython3",
   "version": "3.11.1"
  }
 },
 "nbformat": 4,
 "nbformat_minor": 4
}
