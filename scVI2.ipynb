{
 "cells": [
  {
   "cell_type": "markdown",
   "metadata": {},
   "source": [
    "# Deep Learning approach for single-cell RNA-seq data analysis"
   ]
  },
  {
   "cell_type": "code",
   "execution_count": 89,
   "metadata": {
    "collapsed": false,
    "jupyter": {
     "outputs_hidden": false
    },
    "ExecuteTime": {
     "end_time": "2023-11-15T21:01:00.147577Z",
     "start_time": "2023-11-15T21:01:00.142659Z"
    }
   },
   "outputs": [
    {
     "name": "stderr",
     "output_type": "stream",
     "text": [
      "Global seed set to 0\n"
     ]
    }
   ],
   "source": [
    "import os\n",
    "\n",
    "import warnings\n",
    "import scanpy as sc\n",
    "import anndata\n",
    "import scvi\n",
    "import torch\n",
    "import pandas as pd\n",
    "import numpy as np\n",
    "\n",
    "scvi.settings.seed = 0\n",
    "scvi.settings._dl_pin_memory_gpu_training = 20000\n",
    "\n",
    "sc.set_figure_params(figsize=(5, 5))\n",
    "warnings.simplefilter(action='ignore', category=UserWarning)\n",
    "warnings.simplefilter(action='ignore', category=FutureWarning)\n",
    "\n",
    "device = torch.device(\"cuda:0\" if torch.cuda.is_available() else \"cpu\")\n",
    "tensor_high_precision = torch.tensor([1.0, 2.0, 3.0], dtype=torch.float64, device=device)\n",
    "torch.set_float32_matmul_precision('high')\n",
    "\n",
    "save_dir = os.getcwd()"
   ]
  },
  {
   "cell_type": "code",
   "execution_count": 90,
   "metadata": {
    "collapsed": false,
    "jupyter": {
     "outputs_hidden": false
    },
    "ExecuteTime": {
     "end_time": "2023-11-15T21:01:00.311303Z",
     "start_time": "2023-11-15T21:01:00.305587Z"
    }
   },
   "outputs": [
    {
     "name": "stdout",
     "output_type": "stream",
     "text": [
      "Used versions:\n",
      "scvi-tools version: 1.0.3\n",
      "scanpy version: 1.9.5\n",
      "torch version: 2.1.0\n",
      "pandas version: 2.1.1\n",
      "numpy version: 1.24.1\n",
      "Save dir: /Users/jaimymohammadi/Documents/Bio-informatica/Studiejaar 3/Bpexa/workflow\n"
     ]
    }
   ],
   "source": [
    "print(\"Used versions:\")\n",
    "print(\"scvi-tools version:\", scvi.__version__)\n",
    "print(\"scanpy version:\", sc.__version__)\n",
    "print(\"torch version:\", torch.__version__)\n",
    "print(\"pandas version:\", pd.__version__)\n",
    "print(\"numpy version:\", np.__version__)\n",
    "print(\"Save dir:\", save_dir)"
   ]
  },
  {
   "cell_type": "code",
   "execution_count": 91,
   "metadata": {
    "collapsed": false,
    "jupyter": {
     "outputs_hidden": false
    },
    "ExecuteTime": {
     "end_time": "2023-11-15T21:01:03.921654Z",
     "start_time": "2023-11-15T21:01:00.482519Z"
    }
   },
   "outputs": [],
   "source": [
    "data_0h_A = sc.read_10x_h5(\"data/0h_A_raw_feature_bc_matrix.h5\")\n",
    "data_0h_B = sc.read_10x_h5(\"data/0h_B_raw_feature_bc_matrix.h5\")\n",
    "data_48h = sc.read_10x_h5(\"data/48h_raw_feature_bc_matrix.h5\")\n",
    "data_120h = sc.read_10x_h5(\"data/120h_raw_feature_bc_matrix.h5\")"
   ]
  },
  {
   "cell_type": "code",
   "execution_count": 92,
   "metadata": {
    "collapsed": false,
    "jupyter": {
     "outputs_hidden": false
    },
    "ExecuteTime": {
     "end_time": "2023-11-15T21:01:03.924260Z",
     "start_time": "2023-11-15T21:01:03.923043Z"
    }
   },
   "outputs": [],
   "source": [
    "data_0h_A.obs['run'] = \"0h_A\"\n",
    "data_0h_B.obs['run'] = \"0h_B\"\n",
    "data_48h.obs['run'] = \"48h\"\n",
    "data_120h.obs['run'] = \"120h\""
   ]
  },
  {
   "cell_type": "code",
   "execution_count": 93,
   "metadata": {
    "collapsed": false,
    "jupyter": {
     "outputs_hidden": false
    },
    "ExecuteTime": {
     "end_time": "2023-11-15T21:01:04.211020Z",
     "start_time": "2023-11-15T21:01:03.925622Z"
    }
   },
   "outputs": [],
   "source": [
    "sc.pp.filter_genes(data_0h_A, min_cells=3)\n",
    "sc.pp.filter_genes(data_0h_B, min_cells=3)\n",
    "sc.pp.filter_genes(data_48h, min_cells=3)\n",
    "sc.pp.filter_genes(data_120h, min_cells=3)"
   ]
  },
  {
   "cell_type": "code",
   "execution_count": 94,
   "metadata": {
    "collapsed": false,
    "jupyter": {
     "outputs_hidden": false
    },
    "ExecuteTime": {
     "end_time": "2023-11-15T21:01:04.283928Z",
     "start_time": "2023-11-15T21:01:04.212610Z"
    }
   },
   "outputs": [],
   "source": [
    "sc.pp.filter_cells(data_0h_A, min_counts=200)\n",
    "sc.pp.filter_cells(data_0h_B, min_counts=200)\n",
    "sc.pp.filter_cells(data_48h, min_counts=200)\n",
    "sc.pp.filter_cells(data_120h, min_counts=200)"
   ]
  },
  {
   "cell_type": "code",
   "execution_count": 95,
   "metadata": {
    "collapsed": false,
    "jupyter": {
     "outputs_hidden": false
    },
    "ExecuteTime": {
     "end_time": "2023-11-15T21:01:04.292954Z",
     "start_time": "2023-11-15T21:01:04.292141Z"
    }
   },
   "outputs": [],
   "source": [
    "data_0h_A.var_names_make_unique()\n",
    "data_0h_B.var_names_make_unique()\n",
    "data_48h.var_names_make_unique()\n",
    "data_120h.var_names_make_unique()"
   ]
  },
  {
   "cell_type": "code",
   "execution_count": 96,
   "metadata": {
    "collapsed": false,
    "jupyter": {
     "outputs_hidden": false
    },
    "ExecuteTime": {
     "end_time": "2023-11-15T21:01:04.636752Z",
     "start_time": "2023-11-15T21:01:04.301892Z"
    }
   },
   "outputs": [],
   "source": [
    "data_list = [data_0h_A, data_0h_B, data_48h, data_120h]\n",
    "keys = ['batch_2_A', 'batch_2_B', 'batch_1_sample_48H', 'batch_1_sample_120H']\n",
    "for data, key in zip(data_list, keys):\n",
    "    data.obs_names = key + '_' + data.obs_names\n",
    "\n",
    "adata = anndata.concat(data_list, join=\"outer\")"
   ]
  },
  {
   "cell_type": "code",
   "execution_count": 97,
   "metadata": {
    "collapsed": false,
    "jupyter": {
     "outputs_hidden": false
    },
    "ExecuteTime": {
     "end_time": "2023-11-15T21:01:04.647618Z",
     "start_time": "2023-11-15T21:01:04.638565Z"
    }
   },
   "outputs": [],
   "source": [
    "sample_names = pd.read_table(\"data/sample_name_full_dataset.tsv\")\n",
    "sample_names.rename(columns={'Unnamed: 0': 'Sample', 'sample_name': 'Batch'}, inplace=True)\n",
    "sample_names.set_index('Sample', inplace=True)\n",
    "adata.obs['batch'] = adata.obs_names.map(sample_names['Batch'])"
   ]
  },
  {
   "cell_type": "code",
   "execution_count": 98,
   "metadata": {
    "collapsed": false,
    "jupyter": {
     "outputs_hidden": false
    },
    "ExecuteTime": {
     "end_time": "2023-11-15T21:01:05.050390Z",
     "start_time": "2023-11-15T21:01:04.657887Z"
    }
   },
   "outputs": [],
   "source": [
    "adata.var[\"mt\"] = adata.var_names.str.startswith(\"MT-\")\n",
    "sc.pp.calculate_qc_metrics(adata, qc_vars=[\"mt\"], percent_top= None, log1p=False, inplace=True)"
   ]
  },
  {
   "cell_type": "code",
   "execution_count": 99,
   "metadata": {
    "ExecuteTime": {
     "end_time": "2023-11-15T21:01:05.056365Z",
     "start_time": "2023-11-15T21:01:05.053368Z"
    }
   },
   "outputs": [
    {
     "data": {
      "text/plain": "                               run  n_counts        batch  n_genes_by_counts  \\\nbatch_2_A_AAACCCAAGGTAATCA-1  0h_A   48806.0    iPSC_99_4               6892   \nbatch_2_A_AAACCCAAGGTACCTT-1  0h_A   42383.0  iPSC_20_6_4               6574   \nbatch_2_A_AAACCCAGTCGTTCAA-1  0h_A   15016.0    iPSC_54_3               3975   \nbatch_2_A_AAACCCATCACAGTGT-1  0h_A   37052.0    iPSC_72_1               6262   \nbatch_2_A_AAACCCATCCCTCTCC-1  0h_A    2387.0    iPSC_72_1                374   \n\n                              total_counts  total_counts_mt  pct_counts_mt  \nbatch_2_A_AAACCCAAGGTAATCA-1       48806.0           2494.0       5.110028  \nbatch_2_A_AAACCCAAGGTACCTT-1       42383.0           2371.0       5.594224  \nbatch_2_A_AAACCCAGTCGTTCAA-1       15016.0            881.0       5.867075  \nbatch_2_A_AAACCCATCACAGTGT-1       37052.0           1978.0       5.338443  \nbatch_2_A_AAACCCATCCCTCTCC-1        2387.0           1977.0      82.823631  ",
      "text/html": "<div>\n<style scoped>\n    .dataframe tbody tr th:only-of-type {\n        vertical-align: middle;\n    }\n\n    .dataframe tbody tr th {\n        vertical-align: top;\n    }\n\n    .dataframe thead th {\n        text-align: right;\n    }\n</style>\n<table border=\"1\" class=\"dataframe\">\n  <thead>\n    <tr style=\"text-align: right;\">\n      <th></th>\n      <th>run</th>\n      <th>n_counts</th>\n      <th>batch</th>\n      <th>n_genes_by_counts</th>\n      <th>total_counts</th>\n      <th>total_counts_mt</th>\n      <th>pct_counts_mt</th>\n    </tr>\n  </thead>\n  <tbody>\n    <tr>\n      <th>batch_2_A_AAACCCAAGGTAATCA-1</th>\n      <td>0h_A</td>\n      <td>48806.0</td>\n      <td>iPSC_99_4</td>\n      <td>6892</td>\n      <td>48806.0</td>\n      <td>2494.0</td>\n      <td>5.110028</td>\n    </tr>\n    <tr>\n      <th>batch_2_A_AAACCCAAGGTACCTT-1</th>\n      <td>0h_A</td>\n      <td>42383.0</td>\n      <td>iPSC_20_6_4</td>\n      <td>6574</td>\n      <td>42383.0</td>\n      <td>2371.0</td>\n      <td>5.594224</td>\n    </tr>\n    <tr>\n      <th>batch_2_A_AAACCCAGTCGTTCAA-1</th>\n      <td>0h_A</td>\n      <td>15016.0</td>\n      <td>iPSC_54_3</td>\n      <td>3975</td>\n      <td>15016.0</td>\n      <td>881.0</td>\n      <td>5.867075</td>\n    </tr>\n    <tr>\n      <th>batch_2_A_AAACCCATCACAGTGT-1</th>\n      <td>0h_A</td>\n      <td>37052.0</td>\n      <td>iPSC_72_1</td>\n      <td>6262</td>\n      <td>37052.0</td>\n      <td>1978.0</td>\n      <td>5.338443</td>\n    </tr>\n    <tr>\n      <th>batch_2_A_AAACCCATCCCTCTCC-1</th>\n      <td>0h_A</td>\n      <td>2387.0</td>\n      <td>iPSC_72_1</td>\n      <td>374</td>\n      <td>2387.0</td>\n      <td>1977.0</td>\n      <td>82.823631</td>\n    </tr>\n  </tbody>\n</table>\n</div>"
     },
     "execution_count": 99,
     "metadata": {},
     "output_type": "execute_result"
    }
   ],
   "source": [
    "data = pd.DataFrame(data=adata.obs)\n",
    "data.head()"
   ]
  },
  {
   "cell_type": "code",
   "execution_count": 100,
   "metadata": {
    "collapsed": false,
    "jupyter": {
     "outputs_hidden": false
    },
    "ExecuteTime": {
     "end_time": "2023-11-15T21:01:05.058918Z",
     "start_time": "2023-11-15T21:01:05.056873Z"
    }
   },
   "outputs": [],
   "source": [
    "subset_condition = (\n",
    "    (adata.obs['n_genes_by_counts'] > 2000) &\n",
    "    (adata.obs['n_genes_by_counts'] < 7000) &\n",
    "    (adata.obs['n_counts'] < 100000) &\n",
    "    (adata.obs['pct_counts_mt'] < 10) &\n",
    "    (adata.obs['pct_counts_mt'] > 0.1)\n",
    ")\n",
    "adata = adata[subset_condition, :]"
   ]
  },
  {
   "cell_type": "markdown",
   "metadata": {},
   "source": [
    "## Normalization"
   ]
  },
  {
   "cell_type": "code",
   "execution_count": 101,
   "metadata": {
    "ExecuteTime": {
     "end_time": "2023-11-15T21:01:12.148358Z",
     "start_time": "2023-11-15T21:01:11.826783Z"
    }
   },
   "outputs": [],
   "source": [
    "adata.layers[\"counts\"] = adata.X.copy()\n",
    "sc.pp.normalize_total(adata, target_sum=1e4)\n",
    "sc.pp.log1p(adata)\n",
    "adata.raw = adata"
   ]
  },
  {
   "cell_type": "code",
   "execution_count": 118,
   "metadata": {
    "ExecuteTime": {
     "end_time": "2023-11-15T21:10:28.796722Z",
     "start_time": "2023-11-15T21:10:28.498652Z"
    }
   },
   "outputs": [],
   "source": [
    "sc.pp.highly_variable_genes(\n",
    "    adata,\n",
    "    n_top_genes=2000,\n",
    "    layer='counts',\n",
    "    flavor='seurat_v3',\n",
    "    subset=True\n",
    ")"
   ]
  },
  {
   "cell_type": "code",
   "execution_count": 119,
   "outputs": [
    {
     "data": {
      "text/plain": "AnnData object with n_obs × n_vars = 4694 × 2000\n    obs: 'run', 'n_counts', 'batch', 'n_genes_by_counts', 'total_counts', 'total_counts_mt', 'pct_counts_mt'\n    var: 'mt', 'n_cells_by_counts', 'mean_counts', 'pct_dropout_by_counts', 'total_counts', 'highly_variable', 'highly_variable_rank', 'means', 'variances', 'variances_norm'\n    uns: 'log1p', 'hvg'\n    layers: 'counts'"
     },
     "execution_count": 119,
     "metadata": {},
     "output_type": "execute_result"
    }
   ],
   "source": [
    "adata"
   ],
   "metadata": {
    "collapsed": false,
    "ExecuteTime": {
     "end_time": "2023-11-15T21:10:32.899559Z",
     "start_time": "2023-11-15T21:10:32.889075Z"
    }
   }
  },
  {
   "cell_type": "code",
   "execution_count": 33,
   "metadata": {
    "ExecuteTime": {
     "end_time": "2023-11-15T20:45:03.819641Z",
     "start_time": "2023-11-15T20:45:03.817267Z"
    }
   },
   "outputs": [
    {
     "name": "stdout",
     "output_type": "stream",
     "text": [
      "Current training_size: 0.89\n"
     ]
    }
   ],
   "source": [
    "training_size = 0.9\n",
    "while np.ceil((len(adata) * training_size) % 128) == 1: training_size -= 0.01\n",
    "print(f\"Current training_size: {training_size}\")"
   ]
  },
  {
   "cell_type": "markdown",
   "metadata": {},
   "source": [
    "## Training model"
   ]
  },
  {
   "cell_type": "code",
   "execution_count": 34,
   "metadata": {
    "collapsed": false,
    "jupyter": {
     "outputs_hidden": false
    },
    "ExecuteTime": {
     "end_time": "2023-11-15T20:45:08.474018Z",
     "start_time": "2023-11-15T20:45:08.270999Z"
    }
   },
   "outputs": [
    {
     "name": "stderr",
     "output_type": "stream",
     "text": [
      "WARNING: All log messages before absl::InitializeLog() is called are written to STDERR\n",
      "I0000 00:00:1700081108.274117       1 tfrt_cpu_pjrt_client.cc:349] TfrtCpuClient created.\n"
     ]
    }
   ],
   "source": [
    "scvi.model.SCVI.setup_anndata(adata, layer=\"counts\", batch_key=\"batch\")"
   ]
  },
  {
   "cell_type": "code",
   "execution_count": 35,
   "outputs": [
    {
     "ename": "TypeError",
     "evalue": "`devices` selected with `CPUAccelerator` should be an int > 0.",
     "output_type": "error",
     "traceback": [
      "\u001B[0;31m---------------------------------------------------------------------------\u001B[0m",
      "\u001B[0;31mTypeError\u001B[0m                                 Traceback (most recent call last)",
      "Cell \u001B[0;32mIn[35], line 2\u001B[0m\n\u001B[1;32m      1\u001B[0m model \u001B[38;5;241m=\u001B[39m scvi\u001B[38;5;241m.\u001B[39mmodel\u001B[38;5;241m.\u001B[39mSCVI(adata)\n\u001B[0;32m----> 2\u001B[0m \u001B[43mmodel\u001B[49m\u001B[38;5;241;43m.\u001B[39;49m\u001B[43mtrain\u001B[49m\u001B[43m(\u001B[49m\u001B[43mbatch_size\u001B[49m\u001B[43m \u001B[49m\u001B[38;5;241;43m=\u001B[39;49m\u001B[43m \u001B[49m\u001B[38;5;241;43m128\u001B[39;49m\u001B[43m,\u001B[49m\u001B[43m \u001B[49m\u001B[43mtrain_size\u001B[49m\u001B[38;5;241;43m=\u001B[39;49m\u001B[43mtraining_size\u001B[49m\u001B[43m,\u001B[49m\u001B[43m \u001B[49m\u001B[43mmax_epochs\u001B[49m\u001B[38;5;241;43m=\u001B[39;49m\u001B[38;5;241;43m100\u001B[39;49m\u001B[43m)\u001B[49m\n\u001B[1;32m      3\u001B[0m model_dir \u001B[38;5;241m=\u001B[39m os\u001B[38;5;241m.\u001B[39mpath\u001B[38;5;241m.\u001B[39mjoin(save_dir, \u001B[38;5;124m\"\u001B[39m\u001B[38;5;124mscvi_model\u001B[39m\u001B[38;5;124m\"\u001B[39m)\n\u001B[1;32m      4\u001B[0m model\u001B[38;5;241m.\u001B[39msave(model_dir, overwrite\u001B[38;5;241m=\u001B[39m\u001B[38;5;28;01mTrue\u001B[39;00m)\n",
      "File \u001B[0;32m/Library/Frameworks/Python.framework/Versions/3.11/lib/python3.11/site-packages/scvi/model/base/_training_mixin.py:78\u001B[0m, in \u001B[0;36mUnsupervisedTrainingMixin.train\u001B[0;34m(self, max_epochs, use_gpu, accelerator, devices, train_size, validation_size, shuffle_set_split, batch_size, early_stopping, plan_kwargs, **trainer_kwargs)\u001B[0m\n\u001B[1;32m     74\u001B[0m es \u001B[38;5;241m=\u001B[39m \u001B[38;5;124m\"\u001B[39m\u001B[38;5;124mearly_stopping\u001B[39m\u001B[38;5;124m\"\u001B[39m\n\u001B[1;32m     75\u001B[0m trainer_kwargs[es] \u001B[38;5;241m=\u001B[39m (\n\u001B[1;32m     76\u001B[0m     early_stopping \u001B[38;5;28;01mif\u001B[39;00m es \u001B[38;5;129;01mnot\u001B[39;00m \u001B[38;5;129;01min\u001B[39;00m trainer_kwargs\u001B[38;5;241m.\u001B[39mkeys() \u001B[38;5;28;01melse\u001B[39;00m trainer_kwargs[es]\n\u001B[1;32m     77\u001B[0m )\n\u001B[0;32m---> 78\u001B[0m runner \u001B[38;5;241m=\u001B[39m \u001B[38;5;28;43mself\u001B[39;49m\u001B[38;5;241;43m.\u001B[39;49m\u001B[43m_train_runner_cls\u001B[49m\u001B[43m(\u001B[49m\n\u001B[1;32m     79\u001B[0m \u001B[43m    \u001B[49m\u001B[38;5;28;43mself\u001B[39;49m\u001B[43m,\u001B[49m\n\u001B[1;32m     80\u001B[0m \u001B[43m    \u001B[49m\u001B[43mtraining_plan\u001B[49m\u001B[38;5;241;43m=\u001B[39;49m\u001B[43mtraining_plan\u001B[49m\u001B[43m,\u001B[49m\n\u001B[1;32m     81\u001B[0m \u001B[43m    \u001B[49m\u001B[43mdata_splitter\u001B[49m\u001B[38;5;241;43m=\u001B[39;49m\u001B[43mdata_splitter\u001B[49m\u001B[43m,\u001B[49m\n\u001B[1;32m     82\u001B[0m \u001B[43m    \u001B[49m\u001B[43mmax_epochs\u001B[49m\u001B[38;5;241;43m=\u001B[39;49m\u001B[43mmax_epochs\u001B[49m\u001B[43m,\u001B[49m\n\u001B[1;32m     83\u001B[0m \u001B[43m    \u001B[49m\u001B[43muse_gpu\u001B[49m\u001B[38;5;241;43m=\u001B[39;49m\u001B[43muse_gpu\u001B[49m\u001B[43m,\u001B[49m\n\u001B[1;32m     84\u001B[0m \u001B[43m    \u001B[49m\u001B[43maccelerator\u001B[49m\u001B[38;5;241;43m=\u001B[39;49m\u001B[43maccelerator\u001B[49m\u001B[43m,\u001B[49m\n\u001B[1;32m     85\u001B[0m \u001B[43m    \u001B[49m\u001B[43mdevices\u001B[49m\u001B[38;5;241;43m=\u001B[39;49m\u001B[43mdevices\u001B[49m\u001B[43m,\u001B[49m\n\u001B[1;32m     86\u001B[0m \u001B[43m    \u001B[49m\u001B[38;5;241;43m*\u001B[39;49m\u001B[38;5;241;43m*\u001B[39;49m\u001B[43mtrainer_kwargs\u001B[49m\u001B[43m,\u001B[49m\n\u001B[1;32m     87\u001B[0m \u001B[43m\u001B[49m\u001B[43m)\u001B[49m\n\u001B[1;32m     88\u001B[0m \u001B[38;5;28;01mreturn\u001B[39;00m runner()\n",
      "File \u001B[0;32m/Library/Frameworks/Python.framework/Versions/3.11/lib/python3.11/site-packages/scvi/train/_trainrunner.py:85\u001B[0m, in \u001B[0;36mTrainRunner.__init__\u001B[0;34m(self, model, training_plan, data_splitter, max_epochs, use_gpu, accelerator, devices, **trainer_kwargs)\u001B[0m\n\u001B[1;32m     83\u001B[0m \u001B[38;5;28mself\u001B[39m\u001B[38;5;241m.\u001B[39mlightning_devices \u001B[38;5;241m=\u001B[39m lightning_devices\n\u001B[1;32m     84\u001B[0m \u001B[38;5;28mself\u001B[39m\u001B[38;5;241m.\u001B[39mdevice \u001B[38;5;241m=\u001B[39m device\n\u001B[0;32m---> 85\u001B[0m \u001B[38;5;28mself\u001B[39m\u001B[38;5;241m.\u001B[39mtrainer \u001B[38;5;241m=\u001B[39m \u001B[38;5;28;43mself\u001B[39;49m\u001B[38;5;241;43m.\u001B[39;49m\u001B[43m_trainer_cls\u001B[49m\u001B[43m(\u001B[49m\n\u001B[1;32m     86\u001B[0m \u001B[43m    \u001B[49m\u001B[43mmax_epochs\u001B[49m\u001B[38;5;241;43m=\u001B[39;49m\u001B[43mmax_epochs\u001B[49m\u001B[43m,\u001B[49m\n\u001B[1;32m     87\u001B[0m \u001B[43m    \u001B[49m\u001B[43maccelerator\u001B[49m\u001B[38;5;241;43m=\u001B[39;49m\u001B[43maccelerator\u001B[49m\u001B[43m,\u001B[49m\n\u001B[1;32m     88\u001B[0m \u001B[43m    \u001B[49m\u001B[43mdevices\u001B[49m\u001B[38;5;241;43m=\u001B[39;49m\u001B[43mlightning_devices\u001B[49m\u001B[43m,\u001B[49m\n\u001B[1;32m     89\u001B[0m \u001B[43m    \u001B[49m\u001B[38;5;241;43m*\u001B[39;49m\u001B[38;5;241;43m*\u001B[39;49m\u001B[43mtrainer_kwargs\u001B[49m\u001B[43m,\u001B[49m\n\u001B[1;32m     90\u001B[0m \u001B[43m\u001B[49m\u001B[43m)\u001B[49m\n",
      "File \u001B[0;32m/Library/Frameworks/Python.framework/Versions/3.11/lib/python3.11/site-packages/scvi/train/_trainer.py:139\u001B[0m, in \u001B[0;36mTrainer.__init__\u001B[0;34m(self, accelerator, devices, benchmark, check_val_every_n_epoch, max_epochs, default_root_dir, enable_checkpointing, num_sanity_val_steps, enable_model_summary, early_stopping, early_stopping_monitor, early_stopping_min_delta, early_stopping_patience, early_stopping_mode, enable_progress_bar, progress_bar_refresh_rate, simple_progress_bar, logger, log_every_n_steps, **kwargs)\u001B[0m\n\u001B[1;32m    136\u001B[0m \u001B[38;5;28;01mif\u001B[39;00m logger \u001B[38;5;129;01mis\u001B[39;00m \u001B[38;5;28;01mNone\u001B[39;00m:\n\u001B[1;32m    137\u001B[0m     logger \u001B[38;5;241m=\u001B[39m SimpleLogger()\n\u001B[0;32m--> 139\u001B[0m \u001B[38;5;28;43msuper\u001B[39;49m\u001B[43m(\u001B[49m\u001B[43m)\u001B[49m\u001B[38;5;241;43m.\u001B[39;49m\u001B[38;5;21;43m__init__\u001B[39;49m\u001B[43m(\u001B[49m\n\u001B[1;32m    140\u001B[0m \u001B[43m    \u001B[49m\u001B[43maccelerator\u001B[49m\u001B[38;5;241;43m=\u001B[39;49m\u001B[43maccelerator\u001B[49m\u001B[43m,\u001B[49m\n\u001B[1;32m    141\u001B[0m \u001B[43m    \u001B[49m\u001B[43mdevices\u001B[49m\u001B[38;5;241;43m=\u001B[39;49m\u001B[43mdevices\u001B[49m\u001B[43m,\u001B[49m\n\u001B[1;32m    142\u001B[0m \u001B[43m    \u001B[49m\u001B[43mbenchmark\u001B[49m\u001B[38;5;241;43m=\u001B[39;49m\u001B[43mbenchmark\u001B[49m\u001B[43m,\u001B[49m\n\u001B[1;32m    143\u001B[0m \u001B[43m    \u001B[49m\u001B[43mcheck_val_every_n_epoch\u001B[49m\u001B[38;5;241;43m=\u001B[39;49m\u001B[43mcheck_val_every_n_epoch\u001B[49m\u001B[43m,\u001B[49m\n\u001B[1;32m    144\u001B[0m \u001B[43m    \u001B[49m\u001B[43mmax_epochs\u001B[49m\u001B[38;5;241;43m=\u001B[39;49m\u001B[43mmax_epochs\u001B[49m\u001B[43m,\u001B[49m\n\u001B[1;32m    145\u001B[0m \u001B[43m    \u001B[49m\u001B[43mdefault_root_dir\u001B[49m\u001B[38;5;241;43m=\u001B[39;49m\u001B[43mdefault_root_dir\u001B[49m\u001B[43m,\u001B[49m\n\u001B[1;32m    146\u001B[0m \u001B[43m    \u001B[49m\u001B[43menable_checkpointing\u001B[49m\u001B[38;5;241;43m=\u001B[39;49m\u001B[43menable_checkpointing\u001B[49m\u001B[43m,\u001B[49m\n\u001B[1;32m    147\u001B[0m \u001B[43m    \u001B[49m\u001B[43mnum_sanity_val_steps\u001B[49m\u001B[38;5;241;43m=\u001B[39;49m\u001B[43mnum_sanity_val_steps\u001B[49m\u001B[43m,\u001B[49m\n\u001B[1;32m    148\u001B[0m \u001B[43m    \u001B[49m\u001B[43menable_model_summary\u001B[49m\u001B[38;5;241;43m=\u001B[39;49m\u001B[43menable_model_summary\u001B[49m\u001B[43m,\u001B[49m\n\u001B[1;32m    149\u001B[0m \u001B[43m    \u001B[49m\u001B[43mlogger\u001B[49m\u001B[38;5;241;43m=\u001B[39;49m\u001B[43mlogger\u001B[49m\u001B[43m,\u001B[49m\n\u001B[1;32m    150\u001B[0m \u001B[43m    \u001B[49m\u001B[43mlog_every_n_steps\u001B[49m\u001B[38;5;241;43m=\u001B[39;49m\u001B[43mlog_every_n_steps\u001B[49m\u001B[43m,\u001B[49m\n\u001B[1;32m    151\u001B[0m \u001B[43m    \u001B[49m\u001B[43menable_progress_bar\u001B[49m\u001B[38;5;241;43m=\u001B[39;49m\u001B[43menable_progress_bar\u001B[49m\u001B[43m,\u001B[49m\n\u001B[1;32m    152\u001B[0m \u001B[43m    \u001B[49m\u001B[38;5;241;43m*\u001B[39;49m\u001B[38;5;241;43m*\u001B[39;49m\u001B[43mkwargs\u001B[49m\u001B[43m,\u001B[49m\n\u001B[1;32m    153\u001B[0m \u001B[43m\u001B[49m\u001B[43m)\u001B[49m\n",
      "File \u001B[0;32m/Library/Frameworks/Python.framework/Versions/3.11/lib/python3.11/site-packages/lightning/pytorch/utilities/argparse.py:70\u001B[0m, in \u001B[0;36m_defaults_from_env_vars.<locals>.insert_env_defaults\u001B[0;34m(self, *args, **kwargs)\u001B[0m\n\u001B[1;32m     67\u001B[0m kwargs \u001B[38;5;241m=\u001B[39m \u001B[38;5;28mdict\u001B[39m(\u001B[38;5;28mlist\u001B[39m(env_variables\u001B[38;5;241m.\u001B[39mitems()) \u001B[38;5;241m+\u001B[39m \u001B[38;5;28mlist\u001B[39m(kwargs\u001B[38;5;241m.\u001B[39mitems()))\n\u001B[1;32m     69\u001B[0m \u001B[38;5;66;03m# all args were already moved to kwargs\u001B[39;00m\n\u001B[0;32m---> 70\u001B[0m \u001B[38;5;28;01mreturn\u001B[39;00m \u001B[43mfn\u001B[49m\u001B[43m(\u001B[49m\u001B[38;5;28;43mself\u001B[39;49m\u001B[43m,\u001B[49m\u001B[43m \u001B[49m\u001B[38;5;241;43m*\u001B[39;49m\u001B[38;5;241;43m*\u001B[39;49m\u001B[43mkwargs\u001B[49m\u001B[43m)\u001B[49m\n",
      "File \u001B[0;32m/Library/Frameworks/Python.framework/Versions/3.11/lib/python3.11/site-packages/lightning/pytorch/trainer/trainer.py:399\u001B[0m, in \u001B[0;36mTrainer.__init__\u001B[0;34m(self, accelerator, strategy, devices, num_nodes, precision, logger, callbacks, fast_dev_run, max_epochs, min_epochs, max_steps, min_steps, max_time, limit_train_batches, limit_val_batches, limit_test_batches, limit_predict_batches, overfit_batches, val_check_interval, check_val_every_n_epoch, num_sanity_val_steps, log_every_n_steps, enable_checkpointing, enable_progress_bar, enable_model_summary, accumulate_grad_batches, gradient_clip_val, gradient_clip_algorithm, deterministic, benchmark, inference_mode, use_distributed_sampler, profiler, detect_anomaly, barebones, plugins, sync_batchnorm, reload_dataloaders_every_n_epochs, default_root_dir)\u001B[0m\n\u001B[1;32m    396\u001B[0m \u001B[38;5;66;03m# init connectors\u001B[39;00m\n\u001B[1;32m    397\u001B[0m \u001B[38;5;28mself\u001B[39m\u001B[38;5;241m.\u001B[39m_data_connector \u001B[38;5;241m=\u001B[39m _DataConnector(\u001B[38;5;28mself\u001B[39m)\n\u001B[0;32m--> 399\u001B[0m \u001B[38;5;28mself\u001B[39m\u001B[38;5;241m.\u001B[39m_accelerator_connector \u001B[38;5;241m=\u001B[39m \u001B[43m_AcceleratorConnector\u001B[49m\u001B[43m(\u001B[49m\n\u001B[1;32m    400\u001B[0m \u001B[43m    \u001B[49m\u001B[43mdevices\u001B[49m\u001B[38;5;241;43m=\u001B[39;49m\u001B[43mdevices\u001B[49m\u001B[43m,\u001B[49m\n\u001B[1;32m    401\u001B[0m \u001B[43m    \u001B[49m\u001B[43maccelerator\u001B[49m\u001B[38;5;241;43m=\u001B[39;49m\u001B[43maccelerator\u001B[49m\u001B[43m,\u001B[49m\n\u001B[1;32m    402\u001B[0m \u001B[43m    \u001B[49m\u001B[43mstrategy\u001B[49m\u001B[38;5;241;43m=\u001B[39;49m\u001B[43mstrategy\u001B[49m\u001B[43m,\u001B[49m\n\u001B[1;32m    403\u001B[0m \u001B[43m    \u001B[49m\u001B[43mnum_nodes\u001B[49m\u001B[38;5;241;43m=\u001B[39;49m\u001B[43mnum_nodes\u001B[49m\u001B[43m,\u001B[49m\n\u001B[1;32m    404\u001B[0m \u001B[43m    \u001B[49m\u001B[43msync_batchnorm\u001B[49m\u001B[38;5;241;43m=\u001B[39;49m\u001B[43msync_batchnorm\u001B[49m\u001B[43m,\u001B[49m\n\u001B[1;32m    405\u001B[0m \u001B[43m    \u001B[49m\u001B[43mbenchmark\u001B[49m\u001B[38;5;241;43m=\u001B[39;49m\u001B[43mbenchmark\u001B[49m\u001B[43m,\u001B[49m\n\u001B[1;32m    406\u001B[0m \u001B[43m    \u001B[49m\u001B[43muse_distributed_sampler\u001B[49m\u001B[38;5;241;43m=\u001B[39;49m\u001B[43muse_distributed_sampler\u001B[49m\u001B[43m,\u001B[49m\n\u001B[1;32m    407\u001B[0m \u001B[43m    \u001B[49m\u001B[43mdeterministic\u001B[49m\u001B[38;5;241;43m=\u001B[39;49m\u001B[43mdeterministic\u001B[49m\u001B[43m,\u001B[49m\n\u001B[1;32m    408\u001B[0m \u001B[43m    \u001B[49m\u001B[43mprecision\u001B[49m\u001B[38;5;241;43m=\u001B[39;49m\u001B[43mprecision\u001B[49m\u001B[43m,\u001B[49m\n\u001B[1;32m    409\u001B[0m \u001B[43m    \u001B[49m\u001B[43mplugins\u001B[49m\u001B[38;5;241;43m=\u001B[39;49m\u001B[43mplugins\u001B[49m\u001B[43m,\u001B[49m\n\u001B[1;32m    410\u001B[0m \u001B[43m\u001B[49m\u001B[43m)\u001B[49m\n\u001B[1;32m    411\u001B[0m \u001B[38;5;28mself\u001B[39m\u001B[38;5;241m.\u001B[39m_logger_connector \u001B[38;5;241m=\u001B[39m _LoggerConnector(\u001B[38;5;28mself\u001B[39m)\n\u001B[1;32m    412\u001B[0m \u001B[38;5;28mself\u001B[39m\u001B[38;5;241m.\u001B[39m_callback_connector \u001B[38;5;241m=\u001B[39m _CallbackConnector(\u001B[38;5;28mself\u001B[39m)\n",
      "File \u001B[0;32m/Library/Frameworks/Python.framework/Versions/3.11/lib/python3.11/site-packages/lightning/pytorch/trainer/connectors/accelerator_connector.py:157\u001B[0m, in \u001B[0;36m_AcceleratorConnector.__init__\u001B[0;34m(self, devices, num_nodes, accelerator, strategy, plugins, precision, sync_batchnorm, benchmark, use_distributed_sampler, deterministic)\u001B[0m\n\u001B[1;32m    154\u001B[0m     \u001B[38;5;28mself\u001B[39m\u001B[38;5;241m.\u001B[39m_accelerator_flag \u001B[38;5;241m=\u001B[39m \u001B[38;5;28mself\u001B[39m\u001B[38;5;241m.\u001B[39m_choose_gpu_accelerator_backend()\n\u001B[1;32m    156\u001B[0m \u001B[38;5;28mself\u001B[39m\u001B[38;5;241m.\u001B[39m_check_device_config_and_set_final_flags(devices\u001B[38;5;241m=\u001B[39mdevices, num_nodes\u001B[38;5;241m=\u001B[39mnum_nodes)\n\u001B[0;32m--> 157\u001B[0m \u001B[38;5;28;43mself\u001B[39;49m\u001B[38;5;241;43m.\u001B[39;49m\u001B[43m_set_parallel_devices_and_init_accelerator\u001B[49m\u001B[43m(\u001B[49m\u001B[43m)\u001B[49m\n\u001B[1;32m    159\u001B[0m \u001B[38;5;66;03m# 3. Instantiate ClusterEnvironment\u001B[39;00m\n\u001B[1;32m    160\u001B[0m \u001B[38;5;28mself\u001B[39m\u001B[38;5;241m.\u001B[39mcluster_environment: ClusterEnvironment \u001B[38;5;241m=\u001B[39m \u001B[38;5;28mself\u001B[39m\u001B[38;5;241m.\u001B[39m_choose_and_init_cluster_environment()\n",
      "File \u001B[0;32m/Library/Frameworks/Python.framework/Versions/3.11/lib/python3.11/site-packages/lightning/pytorch/trainer/connectors/accelerator_connector.py:390\u001B[0m, in \u001B[0;36m_AcceleratorConnector._set_parallel_devices_and_init_accelerator\u001B[0;34m(self)\u001B[0m\n\u001B[1;32m    382\u001B[0m     \u001B[38;5;28;01mraise\u001B[39;00m MisconfigurationException(\n\u001B[1;32m    383\u001B[0m         \u001B[38;5;124mf\u001B[39m\u001B[38;5;124m\"\u001B[39m\u001B[38;5;124m`\u001B[39m\u001B[38;5;132;01m{\u001B[39;00maccelerator_cls\u001B[38;5;241m.\u001B[39m\u001B[38;5;18m__qualname__\u001B[39m\u001B[38;5;132;01m}\u001B[39;00m\u001B[38;5;124m` can not run on your system\u001B[39m\u001B[38;5;124m\"\u001B[39m\n\u001B[1;32m    384\u001B[0m         \u001B[38;5;124m\"\u001B[39m\u001B[38;5;124m since the accelerator is not available. The following accelerator(s)\u001B[39m\u001B[38;5;124m\"\u001B[39m\n\u001B[1;32m    385\u001B[0m         \u001B[38;5;124m\"\u001B[39m\u001B[38;5;124m is available and can be passed into `accelerator` argument of\u001B[39m\u001B[38;5;124m\"\u001B[39m\n\u001B[1;32m    386\u001B[0m         \u001B[38;5;124mf\u001B[39m\u001B[38;5;124m\"\u001B[39m\u001B[38;5;124m `Trainer`: \u001B[39m\u001B[38;5;132;01m{\u001B[39;00mavailable_accelerator\u001B[38;5;132;01m}\u001B[39;00m\u001B[38;5;124m.\u001B[39m\u001B[38;5;124m\"\u001B[39m\n\u001B[1;32m    387\u001B[0m     )\n\u001B[1;32m    389\u001B[0m \u001B[38;5;28mself\u001B[39m\u001B[38;5;241m.\u001B[39m_set_devices_flag_if_auto_passed()\n\u001B[0;32m--> 390\u001B[0m \u001B[38;5;28mself\u001B[39m\u001B[38;5;241m.\u001B[39m_devices_flag \u001B[38;5;241m=\u001B[39m \u001B[43maccelerator_cls\u001B[49m\u001B[38;5;241;43m.\u001B[39;49m\u001B[43mparse_devices\u001B[49m\u001B[43m(\u001B[49m\u001B[38;5;28;43mself\u001B[39;49m\u001B[38;5;241;43m.\u001B[39;49m\u001B[43m_devices_flag\u001B[49m\u001B[43m)\u001B[49m\n\u001B[1;32m    391\u001B[0m \u001B[38;5;28;01mif\u001B[39;00m \u001B[38;5;129;01mnot\u001B[39;00m \u001B[38;5;28mself\u001B[39m\u001B[38;5;241m.\u001B[39m_parallel_devices:\n\u001B[1;32m    392\u001B[0m     \u001B[38;5;28mself\u001B[39m\u001B[38;5;241m.\u001B[39m_parallel_devices \u001B[38;5;241m=\u001B[39m accelerator_cls\u001B[38;5;241m.\u001B[39mget_parallel_devices(\u001B[38;5;28mself\u001B[39m\u001B[38;5;241m.\u001B[39m_devices_flag)\n",
      "File \u001B[0;32m/Library/Frameworks/Python.framework/Versions/3.11/lib/python3.11/site-packages/lightning/pytorch/accelerators/cpu.py:48\u001B[0m, in \u001B[0;36mCPUAccelerator.parse_devices\u001B[0;34m(devices)\u001B[0m\n\u001B[1;32m     45\u001B[0m \u001B[38;5;129m@staticmethod\u001B[39m\n\u001B[1;32m     46\u001B[0m \u001B[38;5;28;01mdef\u001B[39;00m \u001B[38;5;21mparse_devices\u001B[39m(devices: Union[\u001B[38;5;28mint\u001B[39m, \u001B[38;5;28mstr\u001B[39m, List[\u001B[38;5;28mint\u001B[39m]]) \u001B[38;5;241m-\u001B[39m\u001B[38;5;241m>\u001B[39m \u001B[38;5;28mint\u001B[39m:\n\u001B[1;32m     47\u001B[0m \u001B[38;5;250m    \u001B[39m\u001B[38;5;124;03m\"\"\"Accelerator device parsing logic.\"\"\"\u001B[39;00m\n\u001B[0;32m---> 48\u001B[0m     \u001B[38;5;28;01mreturn\u001B[39;00m \u001B[43m_parse_cpu_cores\u001B[49m\u001B[43m(\u001B[49m\u001B[43mdevices\u001B[49m\u001B[43m)\u001B[49m\n",
      "File \u001B[0;32m/Library/Frameworks/Python.framework/Versions/3.11/lib/python3.11/site-packages/lightning/fabric/accelerators/cpu.py:85\u001B[0m, in \u001B[0;36m_parse_cpu_cores\u001B[0;34m(cpu_cores)\u001B[0m\n\u001B[1;32m     82\u001B[0m     cpu_cores \u001B[38;5;241m=\u001B[39m \u001B[38;5;28mint\u001B[39m(cpu_cores)\n\u001B[1;32m     84\u001B[0m \u001B[38;5;28;01mif\u001B[39;00m \u001B[38;5;129;01mnot\u001B[39;00m \u001B[38;5;28misinstance\u001B[39m(cpu_cores, \u001B[38;5;28mint\u001B[39m) \u001B[38;5;129;01mor\u001B[39;00m cpu_cores \u001B[38;5;241m<\u001B[39m\u001B[38;5;241m=\u001B[39m \u001B[38;5;241m0\u001B[39m:\n\u001B[0;32m---> 85\u001B[0m     \u001B[38;5;28;01mraise\u001B[39;00m \u001B[38;5;167;01mTypeError\u001B[39;00m(\u001B[38;5;124m\"\u001B[39m\u001B[38;5;124m`devices` selected with `CPUAccelerator` should be an int > 0.\u001B[39m\u001B[38;5;124m\"\u001B[39m)\n\u001B[1;32m     87\u001B[0m \u001B[38;5;28;01mreturn\u001B[39;00m cpu_cores\n",
      "\u001B[0;31mTypeError\u001B[0m: `devices` selected with `CPUAccelerator` should be an int > 0."
     ]
    }
   ],
   "source": [
    "model = scvi.model.SCVI(adata)\n",
    "model.train(batch_size = 128, train_size=training_size, max_epochs=100)\n",
    "model_dir = os.path.join(save_dir, \"scvi_model\")\n",
    "model.save(model_dir, overwrite=True)"
   ],
   "metadata": {
    "collapsed": false,
    "ExecuteTime": {
     "end_time": "2023-11-15T20:45:11.024077Z",
     "start_time": "2023-11-15T20:45:10.245617Z"
    }
   }
  },
  {
   "cell_type": "code",
   "execution_count": 38,
   "metadata": {
    "ExecuteTime": {
     "end_time": "2023-11-05T18:59:30.550322Z",
     "start_time": "2023-11-05T18:59:30.449782Z"
    },
    "collapsed": false,
    "jupyter": {
     "outputs_hidden": false
    }
   },
   "outputs": [
    {
     "name": "stdout",
     "output_type": "stream",
     "text": [
      "\u001B[34mINFO    \u001B[0m File scvi_model/model.pt already downloaded                                                               \n"
     ]
    },
    {
     "ename": "ValueError",
     "evalue": "counts is not a valid key in adata.layers.",
     "output_type": "error",
     "traceback": [
      "\u001B[0;31m---------------------------------------------------------------------------\u001B[0m",
      "\u001B[0;31mValueError\u001B[0m                                Traceback (most recent call last)",
      "Cell \u001B[0;32mIn[38], line 1\u001B[0m\n\u001B[0;32m----> 1\u001B[0m t_model \u001B[38;5;241m=\u001B[39m \u001B[43mscvi\u001B[49m\u001B[38;5;241;43m.\u001B[39;49m\u001B[43mmodel\u001B[49m\u001B[38;5;241;43m.\u001B[39;49m\u001B[43mSCVI\u001B[49m\u001B[38;5;241;43m.\u001B[39;49m\u001B[43mload\u001B[49m\u001B[43m(\u001B[49m\u001B[38;5;124;43m\"\u001B[39;49m\u001B[38;5;124;43mscvi_model/\u001B[39;49m\u001B[38;5;124;43m\"\u001B[39;49m\u001B[43m,\u001B[49m\u001B[43m \u001B[49m\u001B[43madata\u001B[49m\u001B[38;5;241;43m=\u001B[39;49m\u001B[43madata\u001B[49m\u001B[43m)\u001B[49m\n",
      "File \u001B[0;32m/Library/Frameworks/Python.framework/Versions/3.11/lib/python3.11/site-packages/scvi/model/base/_base_model.py:716\u001B[0m, in \u001B[0;36mBaseModelClass.load\u001B[0;34m(cls, dir_path, adata, use_gpu, accelerator, device, prefix, backup_url)\u001B[0m\n\u001B[1;32m    712\u001B[0m \u001B[38;5;66;03m# Calling ``setup_anndata`` method with the original arguments passed into\u001B[39;00m\n\u001B[1;32m    713\u001B[0m \u001B[38;5;66;03m# the saved model. This enables simple backwards compatibility in the case of\u001B[39;00m\n\u001B[1;32m    714\u001B[0m \u001B[38;5;66;03m# newly introduced fields or parameters.\u001B[39;00m\n\u001B[1;32m    715\u001B[0m method_name \u001B[38;5;241m=\u001B[39m registry\u001B[38;5;241m.\u001B[39mget(_SETUP_METHOD_NAME, \u001B[38;5;124m\"\u001B[39m\u001B[38;5;124msetup_anndata\u001B[39m\u001B[38;5;124m\"\u001B[39m)\n\u001B[0;32m--> 716\u001B[0m \u001B[38;5;28;43mgetattr\u001B[39;49m\u001B[43m(\u001B[49m\u001B[38;5;28;43mcls\u001B[39;49m\u001B[43m,\u001B[49m\u001B[43m \u001B[49m\u001B[43mmethod_name\u001B[49m\u001B[43m)\u001B[49m\u001B[43m(\u001B[49m\n\u001B[1;32m    717\u001B[0m \u001B[43m    \u001B[49m\u001B[43madata\u001B[49m\u001B[43m,\u001B[49m\u001B[43m \u001B[49m\u001B[43msource_registry\u001B[49m\u001B[38;5;241;43m=\u001B[39;49m\u001B[43mregistry\u001B[49m\u001B[43m,\u001B[49m\u001B[43m \u001B[49m\u001B[38;5;241;43m*\u001B[39;49m\u001B[38;5;241;43m*\u001B[39;49m\u001B[43mregistry\u001B[49m\u001B[43m[\u001B[49m\u001B[43m_SETUP_ARGS_KEY\u001B[49m\u001B[43m]\u001B[49m\n\u001B[1;32m    718\u001B[0m \u001B[43m\u001B[49m\u001B[43m)\u001B[49m\n\u001B[1;32m    720\u001B[0m model \u001B[38;5;241m=\u001B[39m _initialize_model(\u001B[38;5;28mcls\u001B[39m, adata, attr_dict)\n\u001B[1;32m    721\u001B[0m model\u001B[38;5;241m.\u001B[39mmodule\u001B[38;5;241m.\u001B[39mon_load(model)\n",
      "File \u001B[0;32m/Library/Frameworks/Python.framework/Versions/3.11/lib/python3.11/site-packages/scvi/model/_scvi.py:211\u001B[0m, in \u001B[0;36mSCVI.setup_anndata\u001B[0;34m(cls, adata, layer, batch_key, labels_key, size_factor_key, categorical_covariate_keys, continuous_covariate_keys, **kwargs)\u001B[0m\n\u001B[1;32m    207\u001B[0m     anndata_fields \u001B[38;5;241m+\u001B[39m\u001B[38;5;241m=\u001B[39m \u001B[38;5;28mcls\u001B[39m\u001B[38;5;241m.\u001B[39m_get_fields_for_adata_minification(adata_minify_type)\n\u001B[1;32m    208\u001B[0m adata_manager \u001B[38;5;241m=\u001B[39m AnnDataManager(\n\u001B[1;32m    209\u001B[0m     fields\u001B[38;5;241m=\u001B[39manndata_fields, setup_method_args\u001B[38;5;241m=\u001B[39msetup_method_args\n\u001B[1;32m    210\u001B[0m )\n\u001B[0;32m--> 211\u001B[0m \u001B[43madata_manager\u001B[49m\u001B[38;5;241;43m.\u001B[39;49m\u001B[43mregister_fields\u001B[49m\u001B[43m(\u001B[49m\u001B[43madata\u001B[49m\u001B[43m,\u001B[49m\u001B[43m \u001B[49m\u001B[38;5;241;43m*\u001B[39;49m\u001B[38;5;241;43m*\u001B[39;49m\u001B[43mkwargs\u001B[49m\u001B[43m)\u001B[49m\n\u001B[1;32m    212\u001B[0m \u001B[38;5;28mcls\u001B[39m\u001B[38;5;241m.\u001B[39mregister_manager(adata_manager)\n",
      "File \u001B[0;32m/Library/Frameworks/Python.framework/Versions/3.11/lib/python3.11/site-packages/scvi/data/_manager.py:181\u001B[0m, in \u001B[0;36mAnnDataManager.register_fields\u001B[0;34m(self, adata, source_registry, **transfer_kwargs)\u001B[0m\n\u001B[1;32m    178\u001B[0m \u001B[38;5;28mself\u001B[39m\u001B[38;5;241m.\u001B[39m_validate_anndata_object(adata)\n\u001B[1;32m    180\u001B[0m \u001B[38;5;28;01mfor\u001B[39;00m field \u001B[38;5;129;01min\u001B[39;00m \u001B[38;5;28mself\u001B[39m\u001B[38;5;241m.\u001B[39mfields:\n\u001B[0;32m--> 181\u001B[0m     \u001B[38;5;28;43mself\u001B[39;49m\u001B[38;5;241;43m.\u001B[39;49m\u001B[43m_add_field\u001B[49m\u001B[43m(\u001B[49m\n\u001B[1;32m    182\u001B[0m \u001B[43m        \u001B[49m\u001B[43mfield\u001B[49m\u001B[38;5;241;43m=\u001B[39;49m\u001B[43mfield\u001B[49m\u001B[43m,\u001B[49m\n\u001B[1;32m    183\u001B[0m \u001B[43m        \u001B[49m\u001B[43madata\u001B[49m\u001B[38;5;241;43m=\u001B[39;49m\u001B[43madata\u001B[49m\u001B[43m,\u001B[49m\n\u001B[1;32m    184\u001B[0m \u001B[43m        \u001B[49m\u001B[43msource_registry\u001B[49m\u001B[38;5;241;43m=\u001B[39;49m\u001B[43msource_registry\u001B[49m\u001B[43m,\u001B[49m\n\u001B[1;32m    185\u001B[0m \u001B[43m        \u001B[49m\u001B[38;5;241;43m*\u001B[39;49m\u001B[38;5;241;43m*\u001B[39;49m\u001B[43mtransfer_kwargs\u001B[49m\u001B[43m,\u001B[49m\n\u001B[1;32m    186\u001B[0m \u001B[43m    \u001B[49m\u001B[43m)\u001B[49m\n\u001B[1;32m    188\u001B[0m \u001B[38;5;66;03m# Save arguments for register_fields.\u001B[39;00m\n\u001B[1;32m    189\u001B[0m \u001B[38;5;28mself\u001B[39m\u001B[38;5;241m.\u001B[39m_source_registry \u001B[38;5;241m=\u001B[39m deepcopy(source_registry)\n",
      "File \u001B[0;32m/Library/Frameworks/Python.framework/Versions/3.11/lib/python3.11/site-packages/scvi/data/_manager.py:216\u001B[0m, in \u001B[0;36mAnnDataManager._add_field\u001B[0;34m(self, field, adata, source_registry, **transfer_kwargs)\u001B[0m\n\u001B[1;32m    213\u001B[0m \u001B[38;5;28;01mif\u001B[39;00m \u001B[38;5;129;01mnot\u001B[39;00m field\u001B[38;5;241m.\u001B[39mis_empty:\n\u001B[1;32m    214\u001B[0m     \u001B[38;5;66;03m# Transfer case: Source registry is used for validation and/or setup.\u001B[39;00m\n\u001B[1;32m    215\u001B[0m     \u001B[38;5;28;01mif\u001B[39;00m source_registry \u001B[38;5;129;01mis\u001B[39;00m \u001B[38;5;129;01mnot\u001B[39;00m \u001B[38;5;28;01mNone\u001B[39;00m:\n\u001B[0;32m--> 216\u001B[0m         field_registry[_constants\u001B[38;5;241m.\u001B[39m_STATE_REGISTRY_KEY] \u001B[38;5;241m=\u001B[39m \u001B[43mfield\u001B[49m\u001B[38;5;241;43m.\u001B[39;49m\u001B[43mtransfer_field\u001B[49m\u001B[43m(\u001B[49m\n\u001B[1;32m    217\u001B[0m \u001B[43m            \u001B[49m\u001B[43msource_registry\u001B[49m\u001B[43m[\u001B[49m\u001B[43m_constants\u001B[49m\u001B[38;5;241;43m.\u001B[39;49m\u001B[43m_FIELD_REGISTRIES_KEY\u001B[49m\u001B[43m]\u001B[49m\u001B[43m[\u001B[49m\n\u001B[1;32m    218\u001B[0m \u001B[43m                \u001B[49m\u001B[43mfield\u001B[49m\u001B[38;5;241;43m.\u001B[39;49m\u001B[43mregistry_key\u001B[49m\n\u001B[1;32m    219\u001B[0m \u001B[43m            \u001B[49m\u001B[43m]\u001B[49m\u001B[43m[\u001B[49m\u001B[43m_constants\u001B[49m\u001B[38;5;241;43m.\u001B[39;49m\u001B[43m_STATE_REGISTRY_KEY\u001B[49m\u001B[43m]\u001B[49m\u001B[43m,\u001B[49m\n\u001B[1;32m    220\u001B[0m \u001B[43m            \u001B[49m\u001B[43madata\u001B[49m\u001B[43m,\u001B[49m\n\u001B[1;32m    221\u001B[0m \u001B[43m            \u001B[49m\u001B[38;5;241;43m*\u001B[39;49m\u001B[38;5;241;43m*\u001B[39;49m\u001B[43mtransfer_kwargs\u001B[49m\u001B[43m,\u001B[49m\n\u001B[1;32m    222\u001B[0m \u001B[43m        \u001B[49m\u001B[43m)\u001B[49m\n\u001B[1;32m    223\u001B[0m     \u001B[38;5;28;01melse\u001B[39;00m:\n\u001B[1;32m    224\u001B[0m         field_registry[_constants\u001B[38;5;241m.\u001B[39m_STATE_REGISTRY_KEY] \u001B[38;5;241m=\u001B[39m field\u001B[38;5;241m.\u001B[39mregister_field(\n\u001B[1;32m    225\u001B[0m             adata\n\u001B[1;32m    226\u001B[0m         )\n",
      "File \u001B[0;32m/Library/Frameworks/Python.framework/Versions/3.11/lib/python3.11/site-packages/scvi/data/fields/_layer_field.py:121\u001B[0m, in \u001B[0;36mLayerField.transfer_field\u001B[0;34m(self, state_registry, adata_target, **kwargs)\u001B[0m\n\u001B[1;32m    115\u001B[0m \u001B[38;5;28;01mif\u001B[39;00m target_n_vars \u001B[38;5;241m!=\u001B[39m n_vars:\n\u001B[1;32m    116\u001B[0m     \u001B[38;5;28;01mraise\u001B[39;00m \u001B[38;5;167;01mValueError\u001B[39;00m(\n\u001B[1;32m    117\u001B[0m         \u001B[38;5;124m\"\u001B[39m\u001B[38;5;124mNumber of vars in adata_target not the same as source. \u001B[39m\u001B[38;5;124m\"\u001B[39m\n\u001B[1;32m    118\u001B[0m         \u001B[38;5;241m+\u001B[39m \u001B[38;5;124mf\u001B[39m\u001B[38;5;124m\"\u001B[39m\u001B[38;5;124mExpected: \u001B[39m\u001B[38;5;132;01m{\u001B[39;00mtarget_n_vars\u001B[38;5;132;01m}\u001B[39;00m\u001B[38;5;124m Received: \u001B[39m\u001B[38;5;132;01m{\u001B[39;00mn_vars\u001B[38;5;132;01m}\u001B[39;00m\u001B[38;5;124m\"\u001B[39m\n\u001B[1;32m    119\u001B[0m     )\n\u001B[0;32m--> 121\u001B[0m \u001B[38;5;28;01mreturn\u001B[39;00m \u001B[38;5;28;43mself\u001B[39;49m\u001B[38;5;241;43m.\u001B[39;49m\u001B[43mregister_field\u001B[49m\u001B[43m(\u001B[49m\u001B[43madata_target\u001B[49m\u001B[43m)\u001B[49m\n",
      "File \u001B[0;32m/Library/Frameworks/Python.framework/Versions/3.11/lib/python3.11/site-packages/scvi/data/fields/_layer_field.py:99\u001B[0m, in \u001B[0;36mLayerField.register_field\u001B[0;34m(self, adata)\u001B[0m\n\u001B[1;32m     97\u001B[0m \u001B[38;5;28;01mdef\u001B[39;00m \u001B[38;5;21mregister_field\u001B[39m(\u001B[38;5;28mself\u001B[39m, adata: AnnData) \u001B[38;5;241m-\u001B[39m\u001B[38;5;241m>\u001B[39m \u001B[38;5;28mdict\u001B[39m:\n\u001B[1;32m     98\u001B[0m \u001B[38;5;250m    \u001B[39m\u001B[38;5;124;03m\"\"\"Register the field.\"\"\"\u001B[39;00m\n\u001B[0;32m---> 99\u001B[0m     \u001B[38;5;28;43msuper\u001B[39;49m\u001B[43m(\u001B[49m\u001B[43m)\u001B[49m\u001B[38;5;241;43m.\u001B[39;49m\u001B[43mregister_field\u001B[49m\u001B[43m(\u001B[49m\u001B[43madata\u001B[49m\u001B[43m)\u001B[49m\n\u001B[1;32m    100\u001B[0m     \u001B[38;5;28;01mif\u001B[39;00m \u001B[38;5;28mself\u001B[39m\u001B[38;5;241m.\u001B[39mcorrect_data_format:\n\u001B[1;32m    101\u001B[0m         _verify_and_correct_data_format(adata, \u001B[38;5;28mself\u001B[39m\u001B[38;5;241m.\u001B[39mattr_name, \u001B[38;5;28mself\u001B[39m\u001B[38;5;241m.\u001B[39mattr_key)\n",
      "File \u001B[0;32m/Library/Frameworks/Python.framework/Versions/3.11/lib/python3.11/site-packages/scvi/data/fields/_base_field.py:64\u001B[0m, in \u001B[0;36mBaseAnnDataField.register_field\u001B[0;34m(self, adata)\u001B[0m\n\u001B[1;32m     54\u001B[0m \u001B[38;5;129m@abstractmethod\u001B[39m\n\u001B[1;32m     55\u001B[0m \u001B[38;5;28;01mdef\u001B[39;00m \u001B[38;5;21mregister_field\u001B[39m(\u001B[38;5;28mself\u001B[39m, adata: AnnOrMuData) \u001B[38;5;241m-\u001B[39m\u001B[38;5;241m>\u001B[39m \u001B[38;5;28mdict\u001B[39m:\n\u001B[1;32m     56\u001B[0m \u001B[38;5;250m    \u001B[39m\u001B[38;5;124;03m\"\"\"Sets up the AnnData/MuData object and creates a mapping for scvi-tools models to use.\u001B[39;00m\n\u001B[1;32m     57\u001B[0m \n\u001B[1;32m     58\u001B[0m \u001B[38;5;124;03m    Returns\u001B[39;00m\n\u001B[0;32m   (...)\u001B[0m\n\u001B[1;32m     62\u001B[0m \u001B[38;5;124;03m        stored directly on the AnnData/MuData object.\u001B[39;00m\n\u001B[1;32m     63\u001B[0m \u001B[38;5;124;03m    \"\"\"\u001B[39;00m\n\u001B[0;32m---> 64\u001B[0m     \u001B[38;5;28;43mself\u001B[39;49m\u001B[38;5;241;43m.\u001B[39;49m\u001B[43mvalidate_field\u001B[49m\u001B[43m(\u001B[49m\u001B[43madata\u001B[49m\u001B[43m)\u001B[49m\n\u001B[1;32m     65\u001B[0m     \u001B[38;5;28;01mreturn\u001B[39;00m {}\n",
      "File \u001B[0;32m/Library/Frameworks/Python.framework/Versions/3.11/lib/python3.11/site-packages/scvi/data/fields/_layer_field.py:84\u001B[0m, in \u001B[0;36mLayerField.validate_field\u001B[0;34m(self, adata)\u001B[0m\n\u001B[1;32m     82\u001B[0m \u001B[38;5;250m\u001B[39m\u001B[38;5;124;03m\"\"\"Validate the field.\"\"\"\u001B[39;00m\n\u001B[1;32m     83\u001B[0m \u001B[38;5;28msuper\u001B[39m()\u001B[38;5;241m.\u001B[39mvalidate_field(adata)\n\u001B[0;32m---> 84\u001B[0m x \u001B[38;5;241m=\u001B[39m \u001B[38;5;28;43mself\u001B[39;49m\u001B[38;5;241;43m.\u001B[39;49m\u001B[43mget_field_data\u001B[49m\u001B[43m(\u001B[49m\u001B[43madata\u001B[49m\u001B[43m)\u001B[49m\n\u001B[1;32m     86\u001B[0m \u001B[38;5;28;01mif\u001B[39;00m \u001B[38;5;28mself\u001B[39m\u001B[38;5;241m.\u001B[39mis_count_data \u001B[38;5;129;01mand\u001B[39;00m \u001B[38;5;129;01mnot\u001B[39;00m _check_nonnegative_integers(x):\n\u001B[1;32m     87\u001B[0m     logger_data_loc \u001B[38;5;241m=\u001B[39m (\n\u001B[1;32m     88\u001B[0m         \u001B[38;5;124m\"\u001B[39m\u001B[38;5;124madata.X\u001B[39m\u001B[38;5;124m\"\u001B[39m \u001B[38;5;28;01mif\u001B[39;00m \u001B[38;5;28mself\u001B[39m\u001B[38;5;241m.\u001B[39mattr_key \u001B[38;5;129;01mis\u001B[39;00m \u001B[38;5;28;01mNone\u001B[39;00m \u001B[38;5;28;01melse\u001B[39;00m \u001B[38;5;124mf\u001B[39m\u001B[38;5;124m\"\u001B[39m\u001B[38;5;124madata.layers[\u001B[39m\u001B[38;5;132;01m{\u001B[39;00m\u001B[38;5;28mself\u001B[39m\u001B[38;5;241m.\u001B[39mattr_key\u001B[38;5;132;01m}\u001B[39;00m\u001B[38;5;124m]\u001B[39m\u001B[38;5;124m\"\u001B[39m\n\u001B[1;32m     89\u001B[0m     )\n",
      "File \u001B[0;32m/Library/Frameworks/Python.framework/Versions/3.11/lib/python3.11/site-packages/scvi/data/fields/_base_field.py:131\u001B[0m, in \u001B[0;36mBaseAnnDataField.get_field_data\u001B[0;34m(self, adata)\u001B[0m\n\u001B[1;32m    129\u001B[0m \u001B[38;5;28;01mif\u001B[39;00m \u001B[38;5;28mself\u001B[39m\u001B[38;5;241m.\u001B[39mis_empty:\n\u001B[1;32m    130\u001B[0m     \u001B[38;5;28;01mraise\u001B[39;00m \u001B[38;5;167;01mAssertionError\u001B[39;00m(\u001B[38;5;124mf\u001B[39m\u001B[38;5;124m\"\u001B[39m\u001B[38;5;124mThe \u001B[39m\u001B[38;5;132;01m{\u001B[39;00m\u001B[38;5;28mself\u001B[39m\u001B[38;5;241m.\u001B[39mregistry_key\u001B[38;5;132;01m}\u001B[39;00m\u001B[38;5;124m field is empty.\u001B[39m\u001B[38;5;124m\"\u001B[39m)\n\u001B[0;32m--> 131\u001B[0m \u001B[38;5;28;01mreturn\u001B[39;00m \u001B[43mget_anndata_attribute\u001B[49m\u001B[43m(\u001B[49m\n\u001B[1;32m    132\u001B[0m \u001B[43m    \u001B[49m\u001B[43madata\u001B[49m\u001B[43m,\u001B[49m\u001B[43m \u001B[49m\u001B[38;5;28;43mself\u001B[39;49m\u001B[38;5;241;43m.\u001B[39;49m\u001B[43mattr_name\u001B[49m\u001B[43m,\u001B[49m\u001B[43m \u001B[49m\u001B[38;5;28;43mself\u001B[39;49m\u001B[38;5;241;43m.\u001B[39;49m\u001B[43mattr_key\u001B[49m\u001B[43m,\u001B[49m\u001B[43m \u001B[49m\u001B[43mmod_key\u001B[49m\u001B[38;5;241;43m=\u001B[39;49m\u001B[38;5;28;43mself\u001B[39;49m\u001B[38;5;241;43m.\u001B[39;49m\u001B[43mmod_key\u001B[49m\n\u001B[1;32m    133\u001B[0m \u001B[43m\u001B[49m\u001B[43m)\u001B[49m\n",
      "File \u001B[0;32m/Library/Frameworks/Python.framework/Versions/3.11/lib/python3.11/site-packages/scvi/data/_utils.py:57\u001B[0m, in \u001B[0;36mget_anndata_attribute\u001B[0;34m(adata, attr_name, attr_key, mod_key)\u001B[0m\n\u001B[1;32m     55\u001B[0m     \u001B[38;5;28;01melse\u001B[39;00m:\n\u001B[1;32m     56\u001B[0m         \u001B[38;5;28;01mif\u001B[39;00m attr_key \u001B[38;5;129;01mnot\u001B[39;00m \u001B[38;5;129;01min\u001B[39;00m adata_attr\u001B[38;5;241m.\u001B[39mkeys():\n\u001B[0;32m---> 57\u001B[0m             \u001B[38;5;28;01mraise\u001B[39;00m \u001B[38;5;167;01mValueError\u001B[39;00m(\u001B[38;5;124mf\u001B[39m\u001B[38;5;124m\"\u001B[39m\u001B[38;5;132;01m{\u001B[39;00mattr_key\u001B[38;5;132;01m}\u001B[39;00m\u001B[38;5;124m is not a valid key in adata.\u001B[39m\u001B[38;5;132;01m{\u001B[39;00mattr_name\u001B[38;5;132;01m}\u001B[39;00m\u001B[38;5;124m.\u001B[39m\u001B[38;5;124m\"\u001B[39m)\n\u001B[1;32m     58\u001B[0m         field \u001B[38;5;241m=\u001B[39m adata_attr[attr_key]\n\u001B[1;32m     59\u001B[0m \u001B[38;5;28;01mif\u001B[39;00m \u001B[38;5;28misinstance\u001B[39m(field, pd\u001B[38;5;241m.\u001B[39mSeries):\n",
      "\u001B[0;31mValueError\u001B[0m: counts is not a valid key in adata.layers."
     ]
    }
   ],
   "source": [
    "t_model = scvi.model.SCVI.load(\"scvi_model/\", adata=adata)"
   ]
  },
  {
   "cell_type": "code",
   "execution_count": 35,
   "metadata": {},
   "outputs": [
    {
     "ename": "NameError",
     "evalue": "name 't_model' is not defined",
     "output_type": "error",
     "traceback": [
      "\u001B[0;31m---------------------------------------------------------------------------\u001B[0m",
      "\u001B[0;31mNameError\u001B[0m                                 Traceback (most recent call last)",
      "Cell \u001B[0;32mIn[35], line 1\u001B[0m\n\u001B[0;32m----> 1\u001B[0m \u001B[43mt_model\u001B[49m\n",
      "\u001B[0;31mNameError\u001B[0m: name 't_model' is not defined"
     ]
    }
   ],
   "source": [
    "t_model"
   ]
  },
  {
   "cell_type": "code",
   "execution_count": null,
   "metadata": {
    "collapsed": false,
    "jupyter": {
     "outputs_hidden": false
    }
   },
   "outputs": [],
   "source": [
    "adata.obsm[\"X_scVI\"] = t_model.get_latent_representation()\n",
    "adata.obsm[\"X_normalized_scVI\"] = t_model.get_normalized_expression()"
   ]
  },
  {
   "cell_type": "code",
   "execution_count": null,
   "metadata": {},
   "outputs": [],
   "source": [
    "sc.pp.neighbors(adata, method='umap', use_rep=\"X_scvi\")\n",
    "sc.tl.umap(adata)\n",
    "sc.pl.umap(\n",
    "    adata,\n",
    "    title=\"hiPSC\",\n",
    "    color=[\"batch\", \"run\"],\n",
    "    ncols=1\n",
    ")"
   ]
  }
 ],
 "metadata": {
  "kernelspec": {
   "display_name": "Python 3 (ipykernel)",
   "language": "python",
   "name": "python3"
  },
  "language_info": {
   "codemirror_mode": {
    "name": "ipython",
    "version": 3
   },
   "file_extension": ".py",
   "mimetype": "text/x-python",
   "name": "python",
   "nbconvert_exporter": "python",
   "pygments_lexer": "ipython3",
   "version": "3.11.1"
  }
 },
 "nbformat": 4,
 "nbformat_minor": 4
}
