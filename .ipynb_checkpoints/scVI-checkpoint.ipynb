{
 "cells": [
  {
   "cell_type": "markdown",
   "metadata": {},
   "source": [
    "# Deep Learning approach for single-cell RNA-seq data analysis"
   ]
  },
  {
   "cell_type": "markdown",
   "metadata": {
    "jp-MarkdownHeadingCollapsed": true
   },
   "source": [
    "## Introduction\n",
    "In the rapidly evolving field of bioinformatics, particularly in single-cell RNA sequencing, effective data handling and interpretation have risen to the forefront of research.<sup>1</sup> The gaining popularity of machine learning methodologies accompanies this rise. It has transformed the way we analyse and understand complex biological data. These advanced techniques can enhance the ability to handle these datasets and make more accurate and insightful discoveries in single-cell genomics.<sup>2</sup>\n",
    "In this single-cell RNA sequencing data analysis, the objective is clear: to conduct a comparative analysis between two methodologies, Seurat and single-cell Variational Inference (scVI). Seurat is a well-established R-based package that has been the gold standard for single-cell data analysis. It offers robust linear modelling techniques for dimensionality reduction, batch correction, clustering, and visualisation.<sup>3</sup> Seurat is, however, limited by its linearity, assuming that relations between genes are strictly linear.<sup>4</sup> Linearity may not reflect the complexity between non-linear interactions, which is often the case in biological systems.<sup>5</sup> Because of these limitations, scVI will be tested as an alternative on a published dataset.<sup>6</sup>\n",
    "\n",
    "## Seurat\n",
    "Seurat, developed in 2015, has become one of the go-to R package tools for clustering, dimensionality reduction, and visualisation of single-cell RNA-seq data.<sup>3</sup> Its popularity is due to its user-friendly interface and the ability to process large datasets efficiently. The package offers a lot of functions for quality control, normalisation, and downstream analysis.<sup>7</sup>\n",
    "\n",
    "## scVI\n",
    "scVI, developed in 2018, is a new tool for clustering, dimensionality reduction, and visualisation of single-cell RNA-seq data.<sup>8</sup> The algorithm behind scVI is based on variational autoencoders (VAEs).<sup>8</sup> This technique reveals underlying patterns, provides new insights into the biology of individual cells and offers a unique perspective on the regulation of gene expression. Its deep learning capabilities hold the potential to uncover intricate cellular relationships and mechanisms which may not be highlighted when using a linear model.<sup>9</sup>  \n",
    "\n",
    "## Autoencoders\n",
    "An autoencoder is a type of neural network that’s used for unsupervised learning and dimensionality reduction.<sup>10</sup>  Autoencoders do not need exact labels for the training process. They generate their labels from the training process. Autoencoders are primarily utilised for data compression, feature learning and noise reduction. It consists of an encoder that compresses the input data into a lower dimensional representation(latent space) and a decoder that reconstructs this representation into the original input data. Autoencoders can find non-linear patterns in the data, which improves predictability and interpretability. \n",
    "<img src=\"static/autoencoders.png\">\n",
    "\n",
    "***Figure 1:** Overview of the encoder, latent space, and decoder parts of the variational autoencoder.<sup>13</sup> Every layer in the encoder and the decoder has a dense and multiple neurons.*\n",
    "\n",
    "The encoder comprises a series of connected layers where each layer captures complex patterns, relationships, or characteristics compactly and efficiently. The input layer takes the raw input and prepares it for preprocessing. The layers between the input and output layers are called the hidden layers. The hidden layers of the encoder capture the higher-level features and patterns in the data. The output from the output layer goes into the latent space, also known as the bottleneck (see Figure 1). \n",
    "\n",
    "The latent space represents the abstract of the input data in a lower dimensionality. Every dimension within the latent space represents a specific feature or attribute acquired by the encoder. The output of the latent space will be the input for the decoder. \n",
    "\n",
    "The decoder takes the low dimension representation from the latent space and attempts to generate the input. Like the encoder, it consists of a series of layers that each decompress the data with the parameters found in the latent space. \n",
    "\n",
    "\n",
    "## Variational autoencoders\n",
    "Variational autoencoders are widely used across the single-cell RNA-seq field. It is a generative model that can generate data points. The part that makes variational autoencoders and autoencoders fundamentally different is the latent space architecture. The encoder of a vanilla autoencoder compresses the data into a singular vector for the decoder to decompress. The encoder of a variational autoencoder generates two vectors: a vector with the means and a vector with standard deviations. The generation of these two vectors also means that it provides a range instead of a single point. Variational autoencoders generate entirely new images with the provided input.<sup>12</sup>  The latent spaces are continuous by design, allowing easy random sampling and interpolation.<sup>13</sup> \n",
    "\n",
    "<img src=\"static/variational_autoencoders.png\" width=\"500\" height=\"600\">\n",
    "\n",
    "**Figure 2:** Overview of the encoder, latent space, and decoder parts of the variational autoencoder.<sup>13</sup>  Every layer in the encoder and the decoder has a dense and multiple neurons.\n",
    "\n",
    "The vector of means determines where the encoded input should be revolved about. The standard deviation vector determines how much an encoding may vary from a particular ‘area’(distribution). Because of this, the decoder learns that the data points slightly vary from the mean and, within the distribution, refer to the same point. The Density referred to in Figure 2 is based on the amount of cells in the data. In this example, we start with 500 cells that get compressed to 120 neurons and then compressed into the vectors of 30 neurons each in the latent space. In actuality, the amount of cells will be much more considerable than this, around 4694 cells.\n",
    "\n",
    "The density referred to in Figure 2 is based on the amount of cells in the data. In this example, we start with 500 cells that get compressed to 120 neurons and then compressed into the vectors of 30 neurons each in the latent space. In actuality, the amount of cells will be much more considerable than this, around 4694 cells.\n",
    "\n",
    "<img src=\"static/stochastic_geberation.png\" width=\"500\" height=\"600\">\n",
    "\n",
    "***Figure 3:** Example of the sampling process in a variational autoencoder.<sup>13</sup>  The standard deviation vector and the means vector are combined into an intermediate. Lastly, the samples are taken from the intermediate vector.*\n",
    "\n",
    "An intermediate is made from the vector of means and a vector of standard deviation. A sample is taken from this intermediate vector created in the latent space. Every sample goes into a vector called the sampled vector. The sampled vector is the input for the decoder to decode. The decoder transforms the sampled vector into a high dimensionality.\n",
    "\n",
    "<img src=\"static/ae_vs_vae.png\" width=\"500\" height=\"600\">\n",
    "\n",
    "***Figure 4:** A representation of the range created by the two vectors. Fitting the Gaussian distribution.<sup>13</sup>*\n",
    "\n",
    "Like the encoder, the decoder has multiple layers to process the input data. \n",
    "scVI utilises a deep neural network integrated with a variational autoencoder. This network is trained to optimise the encoding and decoding processes for more effective data compression and generation.\n",
    "\n",
    "scVi uses an additional layer in the latent space called the hierarchical Bayesian model.<sup>14</sup>  The hierarchical Bayesian model relies on the Gaussian distribution as its parameters.<sup>15</sup>  Using these parameters, it can make predictions and quantify uncertainties.<sup>16</sup>  The model allows the inclusion of both individual-level and group-level data. This results in accurate and robust inferences in scRNA-seq data analysis.<sup>17</sup> \n",
    "\n",
    "## UMAP\n",
    "UMAP (Uniform Manifold Approximation and Projection) is a visualisation and dimensionality reduction technique used primarily on sizeable single-cell RNA sequencing datasets.<sup>18</sup>   Its primary goal is to convert high-dimensional data into a much lower-dimensional space without losing significant amounts of data, ensuring higher accuracy. Unlike other dimensionality reduction techniques, such as PCA, UMAP is more suited for data with non-linear relationships and clusters of varying scopes. The algorithm functions by first identifying the clusters based on similar cells and giving them scores based on the distance between the two and the number of `neighbours(log2(num neighbours))`.<sup>19</sup>   This score represents the overlap/similarity between the two cells. UMAP uses that score to move different clusters closer to each other. It then utilises an iterative process to adjust the data points to keep moving points of the same cluster closer together and from different clusters further apart. This process is semi-randomly decided based on the similarity scores and can slightly differ between runs. Only picking two points makes running larger datasets much faster.\n",
    "These are a couple of the reasons why UMAP is most often used to visualise clusters, identify cell types and get information about their links.<sup>18</sup>  The visualisations make it easier to get an accurate representation of the data, making it much easier to interpret the biological implications.\n",
    "\n",
    "## Dataset\n",
    "The current data results from an in-house single-cell analysis of primordial germ cell-like cells. These cells are formed by way of in vitro gametogenesis.<sup>20</sup>  The pluripotent stem cells are turned into germ cells through directed differentiation. The in vitro gametogenesis was performed to get an insight into the development of stem cells into germ cells.<sup>21</sup>  These cells are preferred due to their early developmental stage, when they have not yet differentiated into sperm or eggs. Insight into these cells gives us a better picture of the early stages of human development. \n",
    "The samples were created using the “Expression profiling by high throughput sequencing” technique.<sup>20</sup>  With this, the gene expression gets quantified by identifying the abundance of each RNA molecule.\n",
    "The dataset was split into four different parts. These parts are extracted from the same sample at three other times: 0 hours, 48 hours and 120 hours. Furthermore, there are two instances of the same sample at 0 hours.\n",
    "\n",
    "## Gametogenesis\n",
    "Gametogenesis is a complex process within humans and most other mammals. In this process the germ cells(gametes) are formed and have in the past been difficult to reproduce in the lab.<sup>22</sup>  \n",
    "In vitro gametogenesis is therefore a relatively new and emerging part of reproductive biology.<sup>21</sup>  Normally this technique is used to assist with reproduction and infertility issues, but it also makes it easier to analyse and get insight into the biological processes in the human body. In the lab this is done with the use of the pluripotent stem cells, which are usually obtained via either embryonic stem cells(ESCs) or induced pluripotent stem cells(iPSCs).<sup>20,23</sup>   This process closely mirrors normal gametogenesis, in which the next step also would be the production of haploid cells by way of meiosis. The created cells(early-stage gametes) are then checked for their cellular health and if not good enough filtered out. Finally for that they are ready, they might need to be artificially matured to be used in fertilisation.\n",
    "\n",
    "## Goal\n",
    "In this report, we will outline our strategy for comparing Seurat and scVI in multiple aspects. We will evaluate their performance in clustering and cell type identification, differential gene expression analysis, and ability to identify rare cell populations by comparing the UMAP-based visualisations. Additionally, we will assess computational efficiency, scalability, and ease of use to provide a comprehensive assessment of these tools' practical utility in different research scenarios. It is also essential to consider the differences while running it on a GPU versus a CPU.\n",
    "\n",
    "By systematically comparing Seurat and scVI, this study aims to guide researchers in selecting the most suitable tool for their specific scRNA-seq analysis needs. Ultimately, this research will contribute to the advancement of single-cell genomics by enabling researchers to make informed choices regarding analysis methods and, in turn, enhance the accuracy and biological relevance of their findings. "
   ]
  },
  {
   "cell_type": "markdown",
   "metadata": {},
   "source": [
    "# Workflow\n",
    "## Materials\n",
    "### Required packages\n",
    "To perform the single cell analysis workflow, the following Python packages are required."
   ]
  },
  {
   "cell_type": "code",
   "execution_count": 1,
   "metadata": {
    "ExecuteTime": {
     "end_time": "2023-11-21T11:29:49.412348Z",
     "start_time": "2023-11-21T11:29:49.078649Z"
    }
   },
   "outputs": [
    {
     "ename": "ModuleNotFoundError",
     "evalue": "No module named 'torch'",
     "output_type": "error",
     "traceback": [
      "\u001b[0;31m---------------------------------------------------------------------------\u001b[0m",
      "\u001b[0;31mModuleNotFoundError\u001b[0m                       Traceback (most recent call last)",
      "Cell \u001b[0;32mIn[1], line 6\u001b[0m\n\u001b[1;32m      4\u001b[0m \u001b[38;5;28;01mimport\u001b[39;00m \u001b[38;5;21;01mnumpy\u001b[39;00m \u001b[38;5;28;01mas\u001b[39;00m \u001b[38;5;21;01mnp\u001b[39;00m\n\u001b[1;32m      5\u001b[0m \u001b[38;5;28;01mimport\u001b[39;00m \u001b[38;5;21;01mpandas\u001b[39;00m \u001b[38;5;28;01mas\u001b[39;00m \u001b[38;5;21;01mpd\u001b[39;00m\n\u001b[0;32m----> 6\u001b[0m \u001b[38;5;28;01mimport\u001b[39;00m \u001b[38;5;21;01mtorch\u001b[39;00m\n\u001b[1;32m      7\u001b[0m \u001b[38;5;28;01mimport\u001b[39;00m \u001b[38;5;21;01manndata\u001b[39;00m\n\u001b[1;32m      8\u001b[0m \u001b[38;5;28;01mimport\u001b[39;00m \u001b[38;5;21;01mscanpy\u001b[39;00m \u001b[38;5;28;01mas\u001b[39;00m \u001b[38;5;21;01msc\u001b[39;00m\n",
      "\u001b[0;31mModuleNotFoundError\u001b[0m: No module named 'torch'"
     ]
    }
   ],
   "source": [
    "import os\n",
    "import time\n",
    "import warnings\n",
    "import numpy as np\n",
    "import pandas as pd\n",
    "import torch\n",
    "import anndata\n",
    "import scanpy as sc\n",
    "import scvi"
   ]
  },
  {
   "cell_type": "markdown",
   "metadata": {},
   "source": [
    "### Settings"
   ]
  },
  {
   "cell_type": "code",
   "execution_count": null,
   "metadata": {
    "ExecuteTime": {
     "end_time": "2023-11-21T11:29:49.424508Z",
     "start_time": "2023-11-21T11:29:49.089885Z"
    },
    "jupyter": {
     "outputs_hidden": false
    }
   },
   "outputs": [],
   "source": [
    "start_time = time.time()\n",
    "\n",
    "scvi.settings.seed = 0\n",
    "scvi.settings._dl_pin_memory_gpu_training = 20000\n",
    "\n",
    "sc.set_figure_params(figsize=(5, 5))\n",
    "warnings.simplefilter(action='ignore', category=UserWarning)\n",
    "warnings.simplefilter(action='ignore', category=FutureWarning)\n",
    "\n",
    "device = torch.device(\"cuda:0\" if torch.cuda.is_available() else \"cpu\")\n",
    "tensor_high_precision = torch.tensor([1.0, 2.0, 3.0], dtype=torch.float64, device=device)\n",
    "torch.set_float32_matmul_precision('high')\n",
    "\n",
    "save_dir = os.getcwd()"
   ]
  },
  {
   "cell_type": "markdown",
   "metadata": {},
   "source": [
    "For this experiment, the following versions of the Python packages were used."
   ]
  },
  {
   "cell_type": "code",
   "execution_count": null,
   "metadata": {
    "ExecuteTime": {
     "end_time": "2023-11-21T11:29:49.424876Z",
     "start_time": "2023-11-21T11:29:49.128353Z"
    },
    "jupyter": {
     "outputs_hidden": false
    }
   },
   "outputs": [],
   "source": [
    "print(\"Used versions:\")\n",
    "print(\"scvi-tools version:\", scvi.__version__)\n",
    "print(\"AnnData version:\", anndata.__version__)\n",
    "print(\"scanpy version:\", sc.__version__)\n",
    "print(\"torch version:\", torch.__version__)\n",
    "print(\"pandas version:\", pd.__version__)\n",
    "print(\"numpy version:\", np.__version__)\n",
    "print(\"Save dir:\", save_dir)"
   ]
  },
  {
   "cell_type": "markdown",
   "metadata": {},
   "source": [
    "## Load the count tables\n",
    "\n",
    "First, the four raw matrix of hiPSC 10x-Genomics-formatted hdf5 file are read for the workflow. This describes the count per gene at a given time point."
   ]
  },
  {
   "cell_type": "code",
   "execution_count": null,
   "metadata": {
    "ExecuteTime": {
     "end_time": "2023-11-21T11:29:53.080651Z",
     "start_time": "2023-11-21T11:29:49.148723Z"
    },
    "jupyter": {
     "outputs_hidden": false
    }
   },
   "outputs": [],
   "source": [
    "data_0h_A = sc.read_10x_h5(\"data/0h_A_raw_feature_bc_matrix.h5\")\n",
    "data_0h_B = sc.read_10x_h5(\"data/0h_B_raw_feature_bc_matrix.h5\")\n",
    "data_48h = sc.read_10x_h5(\"data/48h_raw_feature_bc_matrix.h5\")\n",
    "data_120h = sc.read_10x_h5(\"data/120h_raw_feature_bc_matrix.h5\")"
   ]
  },
  {
   "cell_type": "code",
   "execution_count": null,
   "metadata": {
    "ExecuteTime": {
     "end_time": "2023-11-21T11:29:53.081296Z",
     "start_time": "2023-11-21T11:29:53.079603Z"
    },
    "jupyter": {
     "outputs_hidden": false
    }
   },
   "outputs": [],
   "source": [
    "data_0h_A.obs['run'] = \"0h_A\"\n",
    "data_0h_B.obs['run'] = \"0h_B\"\n",
    "data_48h.obs['run'] = \"48h\"\n",
    "data_120h.obs['run'] = \"120h\""
   ]
  },
  {
   "cell_type": "markdown",
   "metadata": {
    "jupyter": {
     "outputs_hidden": false
    }
   },
   "source": [
    "## Method\n",
    "### Data Preprocessing\n",
    "\n",
    "The data is filtered on the following points.\n",
    "Cells of low quality are filtered on the number of genes in the cell.\n",
    "The number of cells is set to a minimum of 3 and the number of genes within\n",
    "a cell is set to a minimum of 200. a unique index is then appended to each\n",
    "duplicate index element, eliminating duplicates from the dataset.\n"
   ]
  },
  {
   "cell_type": "code",
   "execution_count": null,
   "metadata": {
    "ExecuteTime": {
     "end_time": "2023-11-21T11:29:53.557849Z",
     "start_time": "2023-11-21T11:29:53.082270Z"
    },
    "jupyter": {
     "outputs_hidden": false
    }
   },
   "outputs": [],
   "source": [
    "sc.pp.filter_genes(data_0h_A, min_cells=3)\n",
    "sc.pp.filter_genes(data_0h_B, min_cells=3)\n",
    "sc.pp.filter_genes(data_48h, min_cells=3)\n",
    "sc.pp.filter_genes(data_120h, min_cells=3)"
   ]
  },
  {
   "cell_type": "code",
   "execution_count": null,
   "metadata": {
    "ExecuteTime": {
     "end_time": "2023-11-21T11:29:53.663489Z",
     "start_time": "2023-11-21T11:29:53.565788Z"
    },
    "jupyter": {
     "outputs_hidden": false
    }
   },
   "outputs": [],
   "source": [
    "sc.pp.filter_cells(data_0h_A, min_counts=200)\n",
    "sc.pp.filter_cells(data_0h_B, min_counts=200)\n",
    "sc.pp.filter_cells(data_48h, min_counts=200)\n",
    "sc.pp.filter_cells(data_120h, min_counts=200)"
   ]
  },
  {
   "cell_type": "code",
   "execution_count": null,
   "metadata": {
    "ExecuteTime": {
     "end_time": "2023-11-21T11:29:53.682212Z",
     "start_time": "2023-11-21T11:29:53.674676Z"
    },
    "jupyter": {
     "outputs_hidden": false
    }
   },
   "outputs": [],
   "source": [
    "data_0h_A.var_names_make_unique()\n",
    "data_0h_B.var_names_make_unique()\n",
    "data_48h.var_names_make_unique()\n",
    "data_120h.var_names_make_unique()"
   ]
  },
  {
   "cell_type": "markdown",
   "metadata": {
    "jupyter": {
     "outputs_hidden": false
    }
   },
   "source": [
    "The batch name was added to the key row name, in this case the first column."
   ]
  },
  {
   "cell_type": "code",
   "execution_count": null,
   "metadata": {
    "ExecuteTime": {
     "end_time": "2023-11-21T11:29:54.260373Z",
     "start_time": "2023-11-21T11:29:53.688042Z"
    },
    "jupyter": {
     "outputs_hidden": false
    }
   },
   "outputs": [],
   "source": [
    "data_list = [data_0h_A, data_0h_B, data_48h, data_120h]\n",
    "keys = ['batch_2_A', 'batch_2_B', 'batch_1_sample_48H', 'batch_1_sample_120H']\n",
    "for data, key in zip(data_list, keys):\n",
    "    data.obs_names = key + '_' + data.obs_names\n",
    "\n",
    "adata = anndata.concat(data_list, join=\"outer\")"
   ]
  },
  {
   "cell_type": "code",
   "execution_count": null,
   "metadata": {
    "ExecuteTime": {
     "end_time": "2023-11-21T11:29:54.277149Z",
     "start_time": "2023-11-21T11:29:54.266286Z"
    },
    "jupyter": {
     "outputs_hidden": false
    }
   },
   "outputs": [],
   "source": [
    "sample_names = pd.read_table(\"data/sample_name_full_dataset.tsv\")\n",
    "sample_names.rename(columns={'Unnamed: 0': 'Sample', 'sample_name': 'Batch'}, inplace=True)\n",
    "sample_names.set_index('Sample', inplace=True)\n",
    "adata.obs['batch'] = adata.obs_names.map(sample_names['Batch'])"
   ]
  },
  {
   "cell_type": "markdown",
   "metadata": {},
   "source": [
    "High levels of mitochondrial DNA in samples may indicate cell damage, which can lead to unreliable results. sush high levels mean proportion of apoptotic or lysing cells. For this reason, an extra column was created with the percentage of mitochondrial DNA relative to the total count."
   ]
  },
  {
   "cell_type": "code",
   "execution_count": null,
   "metadata": {
    "ExecuteTime": {
     "end_time": "2023-11-21T11:29:54.954490Z",
     "start_time": "2023-11-21T11:29:54.286009Z"
    },
    "jupyter": {
     "outputs_hidden": false
    }
   },
   "outputs": [],
   "source": [
    "adata.var[\"mt\"] = adata.var_names.str.startswith(\"MT-\")\n",
    "sc.pp.calculate_qc_metrics(adata, qc_vars=[\"mt\"], percent_top= None, log1p=False, inplace=True)"
   ]
  },
  {
   "cell_type": "markdown",
   "metadata": {},
   "source": [
    "### Dataframe with calculate qc metrics\n",
    "The columns of the anndata object consist of `barcode_sequence`, `run`, `n_counts`, `batch`, `n_genes_by_counts`, `total_counts`, `total_counts_mt` and `pct_counts_mt`.\n",
    "\n",
    "`barcode_sequence` describes the batch combined with the sequence as a unique barcode name. `run` describes the unique name of the experiment. `n_counts` represents the number of transcripts detected in the cell, indicating the total number of RNA molecules detected. `batch` indicates the experiment to which the cell belongs. `n_genes_by_counts` gives the number of unique genes detected in the cell compared to the total counted. Total_count returns the same value 'n_count'. `total_counts_mt` gives the total number of transcripts derived from mitochondrial genes in the cell. `pct_counts_mt gives` the percentage of all transcripts in the cell from mitochondrial genes."
   ]
  },
  {
   "cell_type": "markdown",
   "metadata": {},
   "source": [
    "***Tabel X:** table containing the calculated number of qc matrix of the AnnData object. The AnnData object consists of barcode_sequence, run, n_counts, batch, n_genes_by_counts, total_counts, pct_counts_in_top_50_genes, pct_counts_in_top_100_genes, pct_counts_in_top_200_genes, pct_counts_in_top_500_genes, total_counts_mt and pct_counts_mt.*"
   ]
  },
  {
   "cell_type": "code",
   "execution_count": null,
   "metadata": {
    "ExecuteTime": {
     "end_time": "2023-11-21T11:29:54.962267Z",
     "start_time": "2023-11-21T11:29:54.959362Z"
    }
   },
   "outputs": [],
   "source": [
    "data = pd.DataFrame(data=adata.obs)\n",
    "data.head()"
   ]
  },
  {
   "cell_type": "markdown",
   "metadata": {
    "jupyter": {
     "outputs_hidden": false
    }
   },
   "source": [
    "## Results"
   ]
  },
  {
   "cell_type": "code",
   "execution_count": null,
   "metadata": {
    "ExecuteTime": {
     "end_time": "2023-11-21T11:29:55.671770Z",
     "start_time": "2023-11-21T11:29:54.966256Z"
    },
    "jupyter": {
     "outputs_hidden": false
    }
   },
   "outputs": [],
   "source": [
    "sc.pl.violin(adata, keys = ['n_genes_by_counts', 'total_counts', 'pct_counts_mt'], multi_panel=True, groupby='run')"
   ]
  },
  {
   "cell_type": "markdown",
   "metadata": {},
   "source": [
    "***Figure X:** The violin plots show the values for n_genes_by_counts, total_count and ppct_counts_mt per run.*"
   ]
  },
  {
   "cell_type": "markdown",
   "metadata": {},
   "source": [
    "### Total counts vs percentage of mitochondrial DNA\n",
    "**Figure X** displays the total number of transcripts on the x-axis and the percentage of mitochondrial DNA on the y-axis. In cases where the mitochondrial DNA exceeds 10%, the RNA counts are below 20,000 and are from the runs where the differentiation time is 0 hours. High mitochondrial DNA levels are consistently observed in both runs where the differentiation time is zero. Table X confirms that mitochondrial DNA exceeds 10% in cases with zero differentiation time."
   ]
  },
  {
   "cell_type": "code",
   "execution_count": null,
   "metadata": {
    "ExecuteTime": {
     "end_time": "2023-11-21T11:29:56.034200Z",
     "start_time": "2023-11-21T11:29:55.673698Z"
    },
    "jupyter": {
     "outputs_hidden": false
    }
   },
   "outputs": [],
   "source": [
    "sc.pl.scatter(adata, \"total_counts\", \"pct_counts_mt\", title=\"total counts vs pct counts mt\", color=\"run\")"
   ]
  },
  {
   "cell_type": "markdown",
   "metadata": {},
   "source": [
    "***Figure x:** The total counts plotted on the x-axis and the percentage of counts per million is plotted on the y-axis.*"
   ]
  },
  {
   "cell_type": "code",
   "execution_count": null,
   "metadata": {
    "ExecuteTime": {
     "end_time": "2023-11-21T11:29:56.034727Z",
     "start_time": "2023-11-21T11:29:55.870326Z"
    }
   },
   "outputs": [],
   "source": [
    "total_values = data.groupby('run')['pct_counts_mt'].count()\n",
    "data2 = data[data['pct_counts_mt'] > 10]\n",
    "c2 = data2.groupby('run')['total_counts'].max()\n",
    "count_values = data2.groupby('run')['pct_counts_mt'].count()\n",
    "percentage_values = round((count_values / total_values) * 100, 2)\n",
    "max_values = data.groupby('run')['pct_counts_mt'].max()\n",
    "\n",
    "result_mt = pd.DataFrame({'Total': total_values, 'Total above 10 %': count_values, 'Percentage above 10 %': percentage_values, 'Max count of MT > 10 %': c2, 'Max Percentage': max_values})"
   ]
  },
  {
   "cell_type": "markdown",
   "metadata": {},
   "source": [
    "***Table X:** Display of the total mitochondrial counts per batch, the percentage mitochondrial DNA exceeding 10% alongside the corresponding RNA count, and the maximum percentage of mitochondrial RNA count. The data confirms the consistent observation of elevated mitochondrial DNA levels above 10% with RNA counts below 45000 in runs with zero differentiation time.*"
   ]
  },
  {
   "cell_type": "code",
   "execution_count": null,
   "metadata": {
    "ExecuteTime": {
     "end_time": "2023-11-21T11:29:56.035111Z",
     "start_time": "2023-11-21T11:29:55.882729Z"
    }
   },
   "outputs": [],
   "source": [
    "result_mt"
   ]
  },
  {
   "cell_type": "markdown",
   "metadata": {},
   "source": [
    "### Total counts vs N genes by counts"
   ]
  },
  {
   "cell_type": "code",
   "execution_count": null,
   "metadata": {
    "ExecuteTime": {
     "end_time": "2023-11-21T11:29:56.342095Z",
     "start_time": "2023-11-21T11:29:55.888670Z"
    }
   },
   "outputs": [],
   "source": [
    "sc.pl.scatter(adata, \"total_counts\", \"n_genes_by_counts\", title=\"total counts vs n genes by counts\", color=\"run\")"
   ]
  },
  {
   "cell_type": "markdown",
   "metadata": {},
   "source": [
    "***Figure x:** The total counts plotted on the x-axis and the genes by counts on the y-axis.*"
   ]
  },
  {
   "cell_type": "markdown",
   "metadata": {},
   "source": [
    "## Filtering data\n",
    "The AnnData object is subsetted by filtering based on various parameters. Specifically, genes with a count between 2000 and 7000, a total count less than 100,000 and a percentage of mitochondrial DNA between 0,1 and 10.\n"
   ]
  },
  {
   "cell_type": "code",
   "execution_count": null,
   "metadata": {
    "ExecuteTime": {
     "end_time": "2023-11-21T11:29:56.342425Z",
     "start_time": "2023-11-21T11:29:56.102280Z"
    },
    "jupyter": {
     "outputs_hidden": false
    }
   },
   "outputs": [],
   "source": [
    "subset_condition = (\n",
    "    (adata.obs['n_genes_by_counts'] > 2000) &\n",
    "    (adata.obs['n_genes_by_counts'] < 7000) &\n",
    "    (adata.obs['n_counts'] < 100000) &\n",
    "    (adata.obs['pct_counts_mt'] < 10) &\n",
    "    (adata.obs['pct_counts_mt'] > 0.1)\n",
    ")\n",
    "adata = adata[subset_condition, :]"
   ]
  },
  {
   "cell_type": "code",
   "execution_count": null,
   "metadata": {
    "ExecuteTime": {
     "end_time": "2023-11-21T11:29:56.950745Z",
     "start_time": "2023-11-21T11:29:56.159490Z"
    },
    "jupyter": {
     "outputs_hidden": false
    }
   },
   "outputs": [],
   "source": [
    "sc.pl.violin(\n",
    "    adata,\n",
    "    [\n",
    "     'n_genes_by_counts',\n",
    "     'total_counts',\n",
    "     'pct_counts_mt'\n",
    "     ],\n",
    "    multi_panel=True,\n",
    "     groupby='run'\n",
    ")"
   ]
  },
  {
   "cell_type": "code",
   "execution_count": null,
   "metadata": {
    "ExecuteTime": {
     "end_time": "2023-11-21T11:29:56.955460Z",
     "start_time": "2023-11-21T11:29:56.951047Z"
    },
    "jupyter": {
     "outputs_hidden": false
    }
   },
   "outputs": [],
   "source": [
    "counts = adata.obs['run'].value_counts()\n",
    "counts"
   ]
  },
  {
   "cell_type": "markdown",
   "metadata": {},
   "source": [
    "## Normalization"
   ]
  },
  {
   "cell_type": "code",
   "execution_count": null,
   "metadata": {
    "ExecuteTime": {
     "end_time": "2023-11-21T11:29:58.430636Z",
     "start_time": "2023-11-21T11:29:56.961603Z"
    }
   },
   "outputs": [],
   "source": [
    "adata.layers[\"counts\"] = adata.X.copy()\n",
    "sc.pp.normalize_total(adata, target_sum=1e5)\n",
    "sc.pp.log1p(adata)\n",
    "adata.raw = adata"
   ]
  },
  {
   "cell_type": "code",
   "execution_count": null,
   "metadata": {
    "ExecuteTime": {
     "end_time": "2023-11-21T11:30:02.389051Z",
     "start_time": "2023-11-21T11:29:58.432766Z"
    }
   },
   "outputs": [],
   "source": [
    "sc.pp.highly_variable_genes(\n",
    "    adata,\n",
    "    n_top_genes=2000,\n",
    "    layer=\"counts\",\n",
    "    flavor='seurat_v3',\n",
    "    subset=True\n",
    ")"
   ]
  },
  {
   "cell_type": "markdown",
   "metadata": {},
   "source": [
    "## Training size\n",
    "In this VAE, a training size of 0.9 is used, meaning the total data is multiplied by 0.9, resulting in training data. The training data is divided into batches with a batch size of 128. However, in this rare case, the remainder of all the batch sizes is 1; Therefore, the script adjusts the training with increments of 0.01 so the remainder is not one anymore. The model has a set amount of epochs, in this case, 100. For each epoch, it shuffles the training data and divides it into batches. Each time it feeds a batch into the model, it is called an iteration. So, there are N iterations for every epoch, where N is the number of batches, as seen in **Figure X**. "
   ]
  },
  {
   "cell_type": "code",
   "execution_count": null,
   "metadata": {
    "ExecuteTime": {
     "end_time": "2023-11-21T11:30:02.391593Z",
     "start_time": "2023-11-21T11:30:02.386987Z"
    }
   },
   "outputs": [],
   "source": [
    "training_size = 0.9\n",
    "while np.ceil((len(adata) * training_size) % 128) == 1: training_size -= 0.01\n",
    "print(f\"Current training_size: {training_size}\")"
   ]
  },
  {
   "cell_type": "markdown",
   "metadata": {},
   "source": [
    "![alt text](static/training_size.png \"Title\")"
   ]
  },
  {
   "cell_type": "markdown",
   "metadata": {},
   "source": [
    "***Figure X:** This is an example of how each epoch works. For every epoch, the training data is divided into batches of 128; these batches will be different for every epoch. Every time the batch is fed into the model, it is called an iteration. So, for every epoch, there are N iterations, where N the number of batches is.*"
   ]
  },
  {
   "cell_type": "markdown",
   "metadata": {},
   "source": [
    "## Training model"
   ]
  },
  {
   "cell_type": "code",
   "execution_count": null,
   "metadata": {
    "ExecuteTime": {
     "end_time": "2023-11-21T11:30:02.477703Z",
     "start_time": "2023-11-21T11:30:02.395821Z"
    }
   },
   "outputs": [],
   "source": [
    "scvi.model.SCVI.setup_anndata(adata, layer=\"counts\", batch_key=\"batch\")\n",
    "model = scvi.model.SCVI(adata)\n",
    "model.view_anndata_setup()\n"
   ]
  },
  {
   "cell_type": "code",
   "execution_count": null,
   "metadata": {
    "ExecuteTime": {
     "end_time": "2023-11-21T11:30:02.477903Z",
     "start_time": "2023-11-21T11:30:02.469199Z"
    }
   },
   "outputs": [],
   "source": [
    "#model.train(batch_size = 128, train_size=training_size, max_epochs=100)\n",
    "#model_dir = os.path.join(save_dir, \"scvi_model\")\n",
    "#model.save(model_dir, overwrite=True)"
   ]
  },
  {
   "cell_type": "code",
   "execution_count": null,
   "metadata": {
    "ExecuteTime": {
     "end_time": "2023-11-21T11:30:02.522110Z",
     "start_time": "2023-11-21T11:30:02.469547Z"
    },
    "jupyter": {
     "outputs_hidden": false
    }
   },
   "outputs": [],
   "source": [
    "t_model = scvi.model.SCVI.load(\"scvi_model/\", adata=adata)"
   ]
  },
  {
   "cell_type": "code",
   "execution_count": null,
   "metadata": {
    "ExecuteTime": {
     "end_time": "2023-11-21T11:30:02.534953Z",
     "start_time": "2023-11-21T11:30:02.509141Z"
    }
   },
   "outputs": [],
   "source": [
    "t_model"
   ]
  },
  {
   "cell_type": "markdown",
   "metadata": {},
   "source": [
    "# PCA umap"
   ]
  },
  {
   "cell_type": "code",
   "execution_count": null,
   "metadata": {},
   "outputs": [],
   "source": [
    "sc.pl.pca_variance_ratio(adata, log=True)"
   ]
  },
  {
   "cell_type": "code",
   "execution_count": null,
   "metadata": {
    "ExecuteTime": {
     "end_time": "2023-11-21T11:30:12.580437Z",
     "start_time": "2023-11-21T11:30:02.522378Z"
    }
   },
   "outputs": [],
   "source": [
    "sc.tl.pca(adata, n_comps=15)\n",
    "sc.pp.neighbors(adata, n_pcs=15)\n",
    "sc.tl.umap(adata, min_dist=0.3)"
   ]
  },
  {
   "cell_type": "code",
   "execution_count": null,
   "metadata": {
    "ExecuteTime": {
     "end_time": "2023-11-21T11:30:12.735542Z",
     "start_time": "2023-11-21T11:30:12.591563Z"
    }
   },
   "outputs": [],
   "source": [
    "sc.pl.umap(\n",
    "    adata,\n",
    "    color=[\"batch\"],\n",
    "    frameon=False,\n",
    ")"
   ]
  },
  {
   "cell_type": "markdown",
   "metadata": {},
   "source": [
    "# Latent umap"
   ]
  },
  {
   "cell_type": "code",
   "execution_count": null,
   "metadata": {
    "ExecuteTime": {
     "end_time": "2023-11-21T11:30:13.025775Z",
     "start_time": "2023-11-21T11:30:12.739836Z"
    }
   },
   "outputs": [],
   "source": [
    "adata.obsm[\"X_scvi\"] = t_model.get_latent_representation()\n",
    "adata.layers['scvi_normalized'] = t_model.get_normalized_expression(libray_size = 1e5)"
   ]
  },
  {
   "cell_type": "code",
   "execution_count": null,
   "metadata": {
    "ExecuteTime": {
     "end_time": "2023-11-21T11:30:21.420103Z",
     "start_time": "2023-11-21T11:30:13.027557Z"
    }
   },
   "outputs": [],
   "source": [
    "sc.pp.neighbors(adata, use_rep=\"X_scvi\")\n",
    "sc.tl.umap(adata)\n",
    "sc.pl.umap(\n",
    "    adata,\n",
    "    title=\"hiPSC\",\n",
    "    color=[\"batch\", \"run\"],\n",
    "    frameon=False,\n",
    "    ncols=1\n",
    ")\n"
   ]
  },
  {
   "cell_type": "code",
   "execution_count": null,
   "metadata": {
    "ExecuteTime": {
     "end_time": "2023-11-21T11:30:22.411698Z",
     "start_time": "2023-11-21T11:30:21.419813Z"
    }
   },
   "outputs": [],
   "source": [
    "sc.tl.leiden(adata, key_added=\"leiden_scVI\", resolution=0.3)\n",
    "sc.pl.umap(\n",
    "    adata,\n",
    "    color=[\"leiden_scVI\"],\n",
    "    frameon=False,\n",
    ")"
   ]
  },
  {
   "cell_type": "markdown",
   "metadata": {},
   "source": [
    "# Reference\n",
    "Bibliography\n",
    "\n",
    "1. OUP accepted manuscript. Briefings In Bioinformatics. Published online 2021. doi:https://doi.org/10.1093/bib/bbab473\n",
    "2. Liu J, Fan Z, Zhao W, Zhou X. Machine Intelligence in Single-Cell Data Analysis: Advances and New Challenges. Frontiers in Genetics. 2021;12. doi:https://doi.org/10.3389/fgene.2021.655536\n",
    "3. Seurat. Satijalab.org. Published 2019. https://satijalab.org/seurat/\n",
    "4. Keras Autoencoder vs PCA: A Comparative Analysis for Data Scientists | Saturn Cloud Blog. saturncloud.io. Published July 10, 2023. Accessed September 14, 2023. https://saturncloud.io/blog/keras-autoencoder-vs-pca-a-comparative-analysis-for-data-scientists/\n",
    "5. Rocca J. Understanding Variational Autoencoders (VAEs). Medium. Published March 15, 2020. https://towardsdatascience.com/understanding-variational-autoencoders-vaes-f70510919f73\n",
    "6. GEO Accession viewer. www.ncbi.nlm.nih.gov. Accessed September 15, 2023. https://www.ncbi.nlm.nih.gov/geo/query/acc.cgi?acc=GSE214521\n",
    "7. Seurat - Guided Clustering Tutorial. satijalab.org. https://satijalab.org/seurat/articles/pbmc3k_tutorial.html\n",
    "8. scVI. Python. Accessed September 14, 2023. https://docs.scvi-tools.org/en/stable/user_guide/models/scvi.html\n",
    "9.Lopez R, Regier J, Cole MB, Jordan MI, Yosef N. Deep generative modeling for single-cell transcriptomics. Nature Methods. 2018;15(12):1053-1058. doi:https://doi.org/10.1038/s41592-018-0229-2\n",
    "10. Gayoso A, Lopez R, Xing G, et al. A Python library for probabilistic analysis of single-cell omics data. Nature Biotechnology. 2022;40(2):163-166. doi:https://doi.org/10.1038/s41587-021-01206-w\n",
    "11. David S. Deep Learning: The Brain is Not a Prediction or Hallucination Machine. Bbntimes.com. Published 2022. Accessed September 15, 2023. https://www.bbntimes.com/technology/deep-learning-the-brain-is-not-a-prediction-or-hallucination-machine\n",
    "‌"
   ]
  },
  {
   "cell_type": "code",
   "execution_count": null,
   "metadata": {
    "ExecuteTime": {
     "end_time": "2023-11-21T11:30:22.414653Z",
     "start_time": "2023-11-21T11:30:22.411422Z"
    }
   },
   "outputs": [],
   "source": [
    "end_time = time.time()\n",
    "time = end_time - start_time\n",
    "print(f\"runtime: {time}\")"
   ]
  }
 ],
 "metadata": {
  "kernelspec": {
   "display_name": "Python 3 (ipykernel)",
   "language": "python",
   "name": "python3"
  },
  "language_info": {
   "codemirror_mode": {
    "name": "ipython",
    "version": 3
   },
   "file_extension": ".py",
   "mimetype": "text/x-python",
   "name": "python",
   "nbconvert_exporter": "python",
   "pygments_lexer": "ipython3",
   "version": "3.11.5"
  }
 },
 "nbformat": 4,
 "nbformat_minor": 4
}
